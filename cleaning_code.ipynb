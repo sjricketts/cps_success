{
 "cells": [
  {
   "cell_type": "code",
   "execution_count": 1,
   "metadata": {},
   "outputs": [],
   "source": [
    "import pandas as pd\n",
    "import matplotlib.pyplot as plt\n",
    "import numpy as np\n",
    "import scipy.stats as st"
   ]
  },
  {
   "cell_type": "code",
   "execution_count": 2,
   "metadata": {},
   "outputs": [],
   "source": [
    "#set file path\n",
    "file_path = (\"Resources/Chicago_Public_Schools_-_School_Progress_Reports_SY1819.csv\")"
   ]
  },
  {
   "cell_type": "code",
   "execution_count": 3,
   "metadata": {},
   "outputs": [
    {
     "data": {
      "text/html": [
       "<div>\n",
       "<style scoped>\n",
       "    .dataframe tbody tr th:only-of-type {\n",
       "        vertical-align: middle;\n",
       "    }\n",
       "\n",
       "    .dataframe tbody tr th {\n",
       "        vertical-align: top;\n",
       "    }\n",
       "\n",
       "    .dataframe thead th {\n",
       "        text-align: right;\n",
       "    }\n",
       "</style>\n",
       "<table border=\"1\" class=\"dataframe\">\n",
       "  <thead>\n",
       "    <tr style=\"text-align: right;\">\n",
       "      <th></th>\n",
       "      <th>School_ID</th>\n",
       "      <th>Short_Name</th>\n",
       "      <th>Long_Name</th>\n",
       "      <th>School_Type</th>\n",
       "      <th>Primary_Category</th>\n",
       "      <th>Address</th>\n",
       "      <th>City</th>\n",
       "      <th>State</th>\n",
       "      <th>Zip</th>\n",
       "      <th>Phone</th>\n",
       "      <th>...</th>\n",
       "      <th>Attainment_SAT_Grade_11_School_Pct</th>\n",
       "      <th>Attainment_SAT_Grade_11_School_Lbl</th>\n",
       "      <th>Attainment_All_Grades_School_Pct</th>\n",
       "      <th>Attainment_All_Grades_School_Lbl</th>\n",
       "      <th>Growth_PSAT_Math_Grade_10_School_Pct</th>\n",
       "      <th>Growth_PSAT_Math_Grade_10_School_Lbl</th>\n",
       "      <th>Growth_SAT_Reading_Grade_11_School_Pct</th>\n",
       "      <th>Growth_SAT_Reading_Grade_11_School_Lbl</th>\n",
       "      <th>Growth_SAT_Math_Grade_11_School_Pct</th>\n",
       "      <th>Growth_SAT_Math_Grade_11_School_Lbl</th>\n",
       "    </tr>\n",
       "  </thead>\n",
       "  <tbody>\n",
       "    <tr>\n",
       "      <th>0</th>\n",
       "      <td>609869</td>\n",
       "      <td>LANGFORD</td>\n",
       "      <td>Anna R. Langford Community Academy</td>\n",
       "      <td>Neighborhood</td>\n",
       "      <td>ES</td>\n",
       "      <td>6010 S THROOP ST</td>\n",
       "      <td>Chicago</td>\n",
       "      <td>Illinois</td>\n",
       "      <td>60636</td>\n",
       "      <td>7.735359e+09</td>\n",
       "      <td>...</td>\n",
       "      <td>NaN</td>\n",
       "      <td>NaN</td>\n",
       "      <td>NaN</td>\n",
       "      <td>NaN</td>\n",
       "      <td>NaN</td>\n",
       "      <td>NaN</td>\n",
       "      <td>NaN</td>\n",
       "      <td>NaN</td>\n",
       "      <td>NaN</td>\n",
       "      <td>NaN</td>\n",
       "    </tr>\n",
       "    <tr>\n",
       "      <th>1</th>\n",
       "      <td>610225</td>\n",
       "      <td>WHISTLER</td>\n",
       "      <td>John Whistler Elementary School</td>\n",
       "      <td>Neighborhood</td>\n",
       "      <td>ES</td>\n",
       "      <td>11533 S ADA ST</td>\n",
       "      <td>Chicago</td>\n",
       "      <td>Illinois</td>\n",
       "      <td>60643</td>\n",
       "      <td>7.735356e+09</td>\n",
       "      <td>...</td>\n",
       "      <td>NaN</td>\n",
       "      <td>NaN</td>\n",
       "      <td>NaN</td>\n",
       "      <td>NaN</td>\n",
       "      <td>NaN</td>\n",
       "      <td>NaN</td>\n",
       "      <td>NaN</td>\n",
       "      <td>NaN</td>\n",
       "      <td>NaN</td>\n",
       "      <td>NaN</td>\n",
       "    </tr>\n",
       "    <tr>\n",
       "      <th>2</th>\n",
       "      <td>609734</td>\n",
       "      <td>TAFT HS</td>\n",
       "      <td>William Howard Taft High School</td>\n",
       "      <td>Neighborhood</td>\n",
       "      <td>HS</td>\n",
       "      <td>6530 W BRYN MAWR AVE</td>\n",
       "      <td>Chicago</td>\n",
       "      <td>Illinois</td>\n",
       "      <td>60631</td>\n",
       "      <td>7.735341e+09</td>\n",
       "      <td>...</td>\n",
       "      <td>45.6</td>\n",
       "      <td>45.6</td>\n",
       "      <td>56.4</td>\n",
       "      <td>56.4</td>\n",
       "      <td>28.0</td>\n",
       "      <td>28th</td>\n",
       "      <td>50.0</td>\n",
       "      <td>50th</td>\n",
       "      <td>34.0</td>\n",
       "      <td>34th</td>\n",
       "    </tr>\n",
       "    <tr>\n",
       "      <th>3</th>\n",
       "      <td>610588</td>\n",
       "      <td>RICHARDSON</td>\n",
       "      <td>Robert J. Richardson Middle School</td>\n",
       "      <td>Neighborhood</td>\n",
       "      <td>MS</td>\n",
       "      <td>6018 S KARLOV</td>\n",
       "      <td>Chicago</td>\n",
       "      <td>Illinois</td>\n",
       "      <td>60629</td>\n",
       "      <td>7.735359e+09</td>\n",
       "      <td>...</td>\n",
       "      <td>NaN</td>\n",
       "      <td>NaN</td>\n",
       "      <td>NaN</td>\n",
       "      <td>NaN</td>\n",
       "      <td>NaN</td>\n",
       "      <td>NaN</td>\n",
       "      <td>NaN</td>\n",
       "      <td>NaN</td>\n",
       "      <td>NaN</td>\n",
       "      <td>NaN</td>\n",
       "    </tr>\n",
       "    <tr>\n",
       "      <th>4</th>\n",
       "      <td>609894</td>\n",
       "      <td>DRAKE</td>\n",
       "      <td>John B Drake Elementary School</td>\n",
       "      <td>Neighborhood</td>\n",
       "      <td>ES</td>\n",
       "      <td>2710 S DEARBORN ST</td>\n",
       "      <td>Chicago</td>\n",
       "      <td>Illinois</td>\n",
       "      <td>60616</td>\n",
       "      <td>7.735349e+09</td>\n",
       "      <td>...</td>\n",
       "      <td>NaN</td>\n",
       "      <td>NaN</td>\n",
       "      <td>NaN</td>\n",
       "      <td>NaN</td>\n",
       "      <td>NaN</td>\n",
       "      <td>NaN</td>\n",
       "      <td>NaN</td>\n",
       "      <td>NaN</td>\n",
       "      <td>NaN</td>\n",
       "      <td>NaN</td>\n",
       "    </tr>\n",
       "  </tbody>\n",
       "</table>\n",
       "<p>5 rows × 182 columns</p>\n",
       "</div>"
      ],
      "text/plain": [
       "   School_ID  Short_Name                           Long_Name   School_Type  \\\n",
       "0     609869    LANGFORD  Anna R. Langford Community Academy  Neighborhood   \n",
       "1     610225    WHISTLER     John Whistler Elementary School  Neighborhood   \n",
       "2     609734     TAFT HS     William Howard Taft High School  Neighborhood   \n",
       "3     610588  RICHARDSON  Robert J. Richardson Middle School  Neighborhood   \n",
       "4     609894       DRAKE      John B Drake Elementary School  Neighborhood   \n",
       "\n",
       "  Primary_Category               Address     City     State    Zip  \\\n",
       "0               ES      6010 S THROOP ST  Chicago  Illinois  60636   \n",
       "1               ES        11533 S ADA ST  Chicago  Illinois  60643   \n",
       "2               HS  6530 W BRYN MAWR AVE  Chicago  Illinois  60631   \n",
       "3               MS         6018 S KARLOV  Chicago  Illinois  60629   \n",
       "4               ES    2710 S DEARBORN ST  Chicago  Illinois  60616   \n",
       "\n",
       "          Phone  ...  Attainment_SAT_Grade_11_School_Pct  \\\n",
       "0  7.735359e+09  ...                                 NaN   \n",
       "1  7.735356e+09  ...                                 NaN   \n",
       "2  7.735341e+09  ...                                45.6   \n",
       "3  7.735359e+09  ...                                 NaN   \n",
       "4  7.735349e+09  ...                                 NaN   \n",
       "\n",
       "  Attainment_SAT_Grade_11_School_Lbl Attainment_All_Grades_School_Pct  \\\n",
       "0                                NaN                              NaN   \n",
       "1                                NaN                              NaN   \n",
       "2                               45.6                             56.4   \n",
       "3                                NaN                              NaN   \n",
       "4                                NaN                              NaN   \n",
       "\n",
       "   Attainment_All_Grades_School_Lbl  Growth_PSAT_Math_Grade_10_School_Pct  \\\n",
       "0                               NaN                                   NaN   \n",
       "1                               NaN                                   NaN   \n",
       "2                              56.4                                  28.0   \n",
       "3                               NaN                                   NaN   \n",
       "4                               NaN                                   NaN   \n",
       "\n",
       "   Growth_PSAT_Math_Grade_10_School_Lbl  \\\n",
       "0                                   NaN   \n",
       "1                                   NaN   \n",
       "2                                  28th   \n",
       "3                                   NaN   \n",
       "4                                   NaN   \n",
       "\n",
       "   Growth_SAT_Reading_Grade_11_School_Pct  \\\n",
       "0                                     NaN   \n",
       "1                                     NaN   \n",
       "2                                    50.0   \n",
       "3                                     NaN   \n",
       "4                                     NaN   \n",
       "\n",
       "   Growth_SAT_Reading_Grade_11_School_Lbl  \\\n",
       "0                                     NaN   \n",
       "1                                     NaN   \n",
       "2                                    50th   \n",
       "3                                     NaN   \n",
       "4                                     NaN   \n",
       "\n",
       "   Growth_SAT_Math_Grade_11_School_Pct Growth_SAT_Math_Grade_11_School_Lbl  \n",
       "0                                  NaN                                 NaN  \n",
       "1                                  NaN                                 NaN  \n",
       "2                                 34.0                                34th  \n",
       "3                                  NaN                                 NaN  \n",
       "4                                  NaN                                 NaN  \n",
       "\n",
       "[5 rows x 182 columns]"
      ]
     },
     "execution_count": 3,
     "metadata": {},
     "output_type": "execute_result"
    }
   ],
   "source": [
    "#read in csv as a dataframe\n",
    "progress_df = pd.read_csv(file_path)\n",
    "progress_df.head()"
   ]
  },
  {
   "cell_type": "code",
   "execution_count": 4,
   "metadata": {},
   "outputs": [],
   "source": [
    "#organize by school ID and re-index\n",
    "df = progress_df.sort_values(\"School_ID\")"
   ]
  },
  {
   "cell_type": "code",
   "execution_count": 5,
   "metadata": {},
   "outputs": [],
   "source": [
    "#select only School Id, student attendance, suspensions, and teacher attendance fields (not enough data to add school facility questions)\n",
    "df_select = progress_df[[\"School_ID\", \"Long_Name\", \"Primary_Category\", \"School_Type\", \"Student_Attendance_Year_1_Pct\", \"Suspensions_Per_100_Students_Year_1_Pct\", \"Teacher_Attendance_Year_1_Pct\", \"Student_Growth_Rating\", \"Student_Attainment_Rating\"]]"
   ]
  },
  {
   "cell_type": "code",
   "execution_count": 6,
   "metadata": {},
   "outputs": [],
   "source": [
    "#drop any rows with empty fields\n",
    "df_select = df_select.dropna(how=\"any\")"
   ]
  },
  {
   "cell_type": "code",
   "execution_count": 7,
   "metadata": {},
   "outputs": [
    {
     "data": {
      "text/html": [
       "<div>\n",
       "<style scoped>\n",
       "    .dataframe tbody tr th:only-of-type {\n",
       "        vertical-align: middle;\n",
       "    }\n",
       "\n",
       "    .dataframe tbody tr th {\n",
       "        vertical-align: top;\n",
       "    }\n",
       "\n",
       "    .dataframe thead th {\n",
       "        text-align: right;\n",
       "    }\n",
       "</style>\n",
       "<table border=\"1\" class=\"dataframe\">\n",
       "  <thead>\n",
       "    <tr style=\"text-align: right;\">\n",
       "      <th></th>\n",
       "      <th>School_ID</th>\n",
       "      <th>Long_Name</th>\n",
       "      <th>Primary_Category</th>\n",
       "      <th>School_Type</th>\n",
       "      <th>Student_Attendance_Year_1_Pct</th>\n",
       "      <th>Suspensions_Per_100_Students_Year_1_Pct</th>\n",
       "      <th>Teacher_Attendance_Year_1_Pct</th>\n",
       "      <th>Student_Growth_Rating</th>\n",
       "      <th>Student_Attainment_Rating</th>\n",
       "    </tr>\n",
       "  </thead>\n",
       "  <tbody>\n",
       "    <tr>\n",
       "      <th>166</th>\n",
       "      <td>610229</td>\n",
       "      <td>A.N. Pritzker School</td>\n",
       "      <td>ES</td>\n",
       "      <td>Regional gifted center</td>\n",
       "      <td>94.8</td>\n",
       "      <td>3.4</td>\n",
       "      <td>93.1</td>\n",
       "      <td>ABOVE AVERAGE</td>\n",
       "      <td>FAR ABOVE AVERAGE</td>\n",
       "    </tr>\n",
       "    <tr>\n",
       "      <th>374</th>\n",
       "      <td>610038</td>\n",
       "      <td>Abraham Lincoln Elementary School</td>\n",
       "      <td>ES</td>\n",
       "      <td>Neighborhood</td>\n",
       "      <td>95.8</td>\n",
       "      <td>0.1</td>\n",
       "      <td>95.5</td>\n",
       "      <td>ABOVE AVERAGE</td>\n",
       "      <td>FAR ABOVE AVERAGE</td>\n",
       "    </tr>\n",
       "    <tr>\n",
       "      <th>169</th>\n",
       "      <td>610281</td>\n",
       "      <td>Adam Clayton Powell Paideia Community Academy ES</td>\n",
       "      <td>ES</td>\n",
       "      <td>Neighborhood</td>\n",
       "      <td>94.5</td>\n",
       "      <td>7.1</td>\n",
       "      <td>95.2</td>\n",
       "      <td>AVERAGE</td>\n",
       "      <td>BELOW AVERAGE</td>\n",
       "    </tr>\n",
       "    <tr>\n",
       "      <th>207</th>\n",
       "      <td>610185</td>\n",
       "      <td>Adlai E Stevenson Elementary School</td>\n",
       "      <td>ES</td>\n",
       "      <td>Neighborhood</td>\n",
       "      <td>95.3</td>\n",
       "      <td>1.1</td>\n",
       "      <td>94.3</td>\n",
       "      <td>AVERAGE</td>\n",
       "      <td>AVERAGE</td>\n",
       "    </tr>\n",
       "    <tr>\n",
       "      <th>604</th>\n",
       "      <td>609993</td>\n",
       "      <td>Agustin Lara Elementary Academy</td>\n",
       "      <td>ES</td>\n",
       "      <td>Neighborhood</td>\n",
       "      <td>95.4</td>\n",
       "      <td>0.4</td>\n",
       "      <td>96.3</td>\n",
       "      <td>ABOVE AVERAGE</td>\n",
       "      <td>AVERAGE</td>\n",
       "    </tr>\n",
       "    <tr>\n",
       "      <th>...</th>\n",
       "      <td>...</td>\n",
       "      <td>...</td>\n",
       "      <td>...</td>\n",
       "      <td>...</td>\n",
       "      <td>...</td>\n",
       "      <td>...</td>\n",
       "      <td>...</td>\n",
       "      <td>...</td>\n",
       "      <td>...</td>\n",
       "    </tr>\n",
       "    <tr>\n",
       "      <th>180</th>\n",
       "      <td>610172</td>\n",
       "      <td>William T Sherman Elementary School</td>\n",
       "      <td>ES</td>\n",
       "      <td>Neighborhood</td>\n",
       "      <td>95.9</td>\n",
       "      <td>11.1</td>\n",
       "      <td>94.5</td>\n",
       "      <td>AVERAGE</td>\n",
       "      <td>BELOW AVERAGE</td>\n",
       "    </tr>\n",
       "    <tr>\n",
       "      <th>478</th>\n",
       "      <td>609844</td>\n",
       "      <td>William W Carter Elementary School</td>\n",
       "      <td>ES</td>\n",
       "      <td>Neighborhood</td>\n",
       "      <td>96.5</td>\n",
       "      <td>5.5</td>\n",
       "      <td>98.2</td>\n",
       "      <td>AVERAGE</td>\n",
       "      <td>AVERAGE</td>\n",
       "    </tr>\n",
       "    <tr>\n",
       "      <th>476</th>\n",
       "      <td>610088</td>\n",
       "      <td>Wolfgang A Mozart Elementary School</td>\n",
       "      <td>ES</td>\n",
       "      <td>Neighborhood</td>\n",
       "      <td>95.4</td>\n",
       "      <td>4.7</td>\n",
       "      <td>95.5</td>\n",
       "      <td>ABOVE AVERAGE</td>\n",
       "      <td>AVERAGE</td>\n",
       "    </tr>\n",
       "    <tr>\n",
       "      <th>301</th>\n",
       "      <td>609977</td>\n",
       "      <td>Woodlawn Community Elementary School</td>\n",
       "      <td>ES</td>\n",
       "      <td>Small</td>\n",
       "      <td>94.8</td>\n",
       "      <td>0.0</td>\n",
       "      <td>93.8</td>\n",
       "      <td>FAR ABOVE AVERAGE</td>\n",
       "      <td>AVERAGE</td>\n",
       "    </tr>\n",
       "    <tr>\n",
       "      <th>146</th>\n",
       "      <td>610392</td>\n",
       "      <td>World Language Academy High School</td>\n",
       "      <td>HS</td>\n",
       "      <td>Small</td>\n",
       "      <td>90.8</td>\n",
       "      <td>4.2</td>\n",
       "      <td>94.1</td>\n",
       "      <td>ABOVE AVERAGE</td>\n",
       "      <td>BELOW EXPECTATIONS</td>\n",
       "    </tr>\n",
       "  </tbody>\n",
       "</table>\n",
       "<p>503 rows × 9 columns</p>\n",
       "</div>"
      ],
      "text/plain": [
       "     School_ID                                         Long_Name  \\\n",
       "166     610229                              A.N. Pritzker School   \n",
       "374     610038                 Abraham Lincoln Elementary School   \n",
       "169     610281  Adam Clayton Powell Paideia Community Academy ES   \n",
       "207     610185               Adlai E Stevenson Elementary School   \n",
       "604     609993                   Agustin Lara Elementary Academy   \n",
       "..         ...                                               ...   \n",
       "180     610172               William T Sherman Elementary School   \n",
       "478     609844                William W Carter Elementary School   \n",
       "476     610088               Wolfgang A Mozart Elementary School   \n",
       "301     609977              Woodlawn Community Elementary School   \n",
       "146     610392                World Language Academy High School   \n",
       "\n",
       "    Primary_Category             School_Type  Student_Attendance_Year_1_Pct  \\\n",
       "166               ES  Regional gifted center                           94.8   \n",
       "374               ES            Neighborhood                           95.8   \n",
       "169               ES            Neighborhood                           94.5   \n",
       "207               ES            Neighborhood                           95.3   \n",
       "604               ES            Neighborhood                           95.4   \n",
       "..               ...                     ...                            ...   \n",
       "180               ES            Neighborhood                           95.9   \n",
       "478               ES            Neighborhood                           96.5   \n",
       "476               ES            Neighborhood                           95.4   \n",
       "301               ES                   Small                           94.8   \n",
       "146               HS                   Small                           90.8   \n",
       "\n",
       "     Suspensions_Per_100_Students_Year_1_Pct  Teacher_Attendance_Year_1_Pct  \\\n",
       "166                                      3.4                           93.1   \n",
       "374                                      0.1                           95.5   \n",
       "169                                      7.1                           95.2   \n",
       "207                                      1.1                           94.3   \n",
       "604                                      0.4                           96.3   \n",
       "..                                       ...                            ...   \n",
       "180                                     11.1                           94.5   \n",
       "478                                      5.5                           98.2   \n",
       "476                                      4.7                           95.5   \n",
       "301                                      0.0                           93.8   \n",
       "146                                      4.2                           94.1   \n",
       "\n",
       "    Student_Growth_Rating Student_Attainment_Rating  \n",
       "166         ABOVE AVERAGE         FAR ABOVE AVERAGE  \n",
       "374         ABOVE AVERAGE         FAR ABOVE AVERAGE  \n",
       "169               AVERAGE             BELOW AVERAGE  \n",
       "207               AVERAGE                   AVERAGE  \n",
       "604         ABOVE AVERAGE                   AVERAGE  \n",
       "..                    ...                       ...  \n",
       "180               AVERAGE             BELOW AVERAGE  \n",
       "478               AVERAGE                   AVERAGE  \n",
       "476         ABOVE AVERAGE                   AVERAGE  \n",
       "301     FAR ABOVE AVERAGE                   AVERAGE  \n",
       "146         ABOVE AVERAGE        BELOW EXPECTATIONS  \n",
       "\n",
       "[503 rows x 9 columns]"
      ]
     },
     "execution_count": 7,
     "metadata": {},
     "output_type": "execute_result"
    }
   ],
   "source": [
    "#sort by school name\n",
    "df_ordered = df_select.sort_values([\"Long_Name\"], ascending=True)\n",
    "df_ordered"
   ]
  },
  {
   "cell_type": "code",
   "execution_count": 8,
   "metadata": {},
   "outputs": [
    {
     "data": {
      "text/html": [
       "<div>\n",
       "<style scoped>\n",
       "    .dataframe tbody tr th:only-of-type {\n",
       "        vertical-align: middle;\n",
       "    }\n",
       "\n",
       "    .dataframe tbody tr th {\n",
       "        vertical-align: top;\n",
       "    }\n",
       "\n",
       "    .dataframe thead th {\n",
       "        text-align: right;\n",
       "    }\n",
       "</style>\n",
       "<table border=\"1\" class=\"dataframe\">\n",
       "  <thead>\n",
       "    <tr style=\"text-align: right;\">\n",
       "      <th></th>\n",
       "      <th>School_ID</th>\n",
       "      <th>Long_Name</th>\n",
       "      <th>Primary_Category</th>\n",
       "      <th>School_Type</th>\n",
       "      <th>Student_Attendance_Year_1_Pct</th>\n",
       "      <th>Suspensions_Per_100_Students_Year_1_Pct</th>\n",
       "      <th>Teacher_Attendance_Year_1_Pct</th>\n",
       "      <th>Student_Growth_Rating</th>\n",
       "      <th>Student_Attainment_Rating</th>\n",
       "    </tr>\n",
       "  </thead>\n",
       "  <tbody>\n",
       "    <tr>\n",
       "      <th>0</th>\n",
       "      <td>610229</td>\n",
       "      <td>A.N. Pritzker School</td>\n",
       "      <td>ES</td>\n",
       "      <td>Regional gifted center</td>\n",
       "      <td>94.8</td>\n",
       "      <td>3.4</td>\n",
       "      <td>93.1</td>\n",
       "      <td>ABOVE AVERAGE</td>\n",
       "      <td>FAR ABOVE AVERAGE</td>\n",
       "    </tr>\n",
       "    <tr>\n",
       "      <th>1</th>\n",
       "      <td>610038</td>\n",
       "      <td>Abraham Lincoln Elementary School</td>\n",
       "      <td>ES</td>\n",
       "      <td>Neighborhood</td>\n",
       "      <td>95.8</td>\n",
       "      <td>0.1</td>\n",
       "      <td>95.5</td>\n",
       "      <td>ABOVE AVERAGE</td>\n",
       "      <td>FAR ABOVE AVERAGE</td>\n",
       "    </tr>\n",
       "    <tr>\n",
       "      <th>2</th>\n",
       "      <td>610281</td>\n",
       "      <td>Adam Clayton Powell Paideia Community Academy ES</td>\n",
       "      <td>ES</td>\n",
       "      <td>Neighborhood</td>\n",
       "      <td>94.5</td>\n",
       "      <td>7.1</td>\n",
       "      <td>95.2</td>\n",
       "      <td>AVERAGE</td>\n",
       "      <td>BELOW AVERAGE</td>\n",
       "    </tr>\n",
       "    <tr>\n",
       "      <th>3</th>\n",
       "      <td>610185</td>\n",
       "      <td>Adlai E Stevenson Elementary School</td>\n",
       "      <td>ES</td>\n",
       "      <td>Neighborhood</td>\n",
       "      <td>95.3</td>\n",
       "      <td>1.1</td>\n",
       "      <td>94.3</td>\n",
       "      <td>AVERAGE</td>\n",
       "      <td>AVERAGE</td>\n",
       "    </tr>\n",
       "    <tr>\n",
       "      <th>4</th>\n",
       "      <td>609993</td>\n",
       "      <td>Agustin Lara Elementary Academy</td>\n",
       "      <td>ES</td>\n",
       "      <td>Neighborhood</td>\n",
       "      <td>95.4</td>\n",
       "      <td>0.4</td>\n",
       "      <td>96.3</td>\n",
       "      <td>ABOVE AVERAGE</td>\n",
       "      <td>AVERAGE</td>\n",
       "    </tr>\n",
       "  </tbody>\n",
       "</table>\n",
       "</div>"
      ],
      "text/plain": [
       "   School_ID                                         Long_Name  \\\n",
       "0     610229                              A.N. Pritzker School   \n",
       "1     610038                 Abraham Lincoln Elementary School   \n",
       "2     610281  Adam Clayton Powell Paideia Community Academy ES   \n",
       "3     610185               Adlai E Stevenson Elementary School   \n",
       "4     609993                   Agustin Lara Elementary Academy   \n",
       "\n",
       "  Primary_Category             School_Type  Student_Attendance_Year_1_Pct  \\\n",
       "0               ES  Regional gifted center                           94.8   \n",
       "1               ES            Neighborhood                           95.8   \n",
       "2               ES            Neighborhood                           94.5   \n",
       "3               ES            Neighborhood                           95.3   \n",
       "4               ES            Neighborhood                           95.4   \n",
       "\n",
       "   Suspensions_Per_100_Students_Year_1_Pct  Teacher_Attendance_Year_1_Pct  \\\n",
       "0                                      3.4                           93.1   \n",
       "1                                      0.1                           95.5   \n",
       "2                                      7.1                           95.2   \n",
       "3                                      1.1                           94.3   \n",
       "4                                      0.4                           96.3   \n",
       "\n",
       "  Student_Growth_Rating Student_Attainment_Rating  \n",
       "0         ABOVE AVERAGE         FAR ABOVE AVERAGE  \n",
       "1         ABOVE AVERAGE         FAR ABOVE AVERAGE  \n",
       "2               AVERAGE             BELOW AVERAGE  \n",
       "3               AVERAGE                   AVERAGE  \n",
       "4         ABOVE AVERAGE                   AVERAGE  "
      ]
     },
     "execution_count": 8,
     "metadata": {},
     "output_type": "execute_result"
    }
   ],
   "source": [
    "#reindex by new school ID order\n",
    "df_indexed = df_ordered.reset_index(drop=True)\n",
    "df_indexed.to_csv(\"resources/final_data\")\n",
    "df_indexed.head()"
   ]
  },
  {
   "cell_type": "code",

   "execution_count": 40,
   "metadata": {},
   "outputs": [
    {
     "data": {
      "image/png": "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\n",
      "text/plain": [
       "<Figure size 432x288 with 1 Axes>"
      ]
     },
     "metadata": {
      "needs_background": "light"
     },
     "output_type": "display_data"
    }
   ],
   "source": [
    "# Student Attendance by School Level\n",
    "school_category=df_indexed.groupby([\"Primary_Category\"])\n",
    "attendance_category=school_category[\"Student_Attendance_Year_1_Pct\"].mean()\n",
    "attendance_category=pd.DataFrame(attendance_category)\n",
    "\n",
    "attendance_category.plot(kind=\"bar\", legend=None, alpha=0.75)\n",
    "plt.xlabel(\"School Level\")\n",
    "plt.ylabel(\"Attendance %\")\n",
    "plt.title(\"Student Attendance Rate Per School Level\")\n",
    "positions = (0, 1, 2)\n",
    "labels = (\"Elementary\", \"High\", \"Middle\")\n",
    "plt.yticks(np.arange(0, 100, step=10))\n",
    "# plt.grid(axis=\"y\")\n",
    "plt.xticks(positions, labels, rotation=45)\n",
    "plt.ylim(50,97);"
   ]
  },
  {
   "cell_type": "code",

   "execution_count": 39,

   "metadata": {},
   "outputs": [
    {
     "data": {

      "image/png": "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\n",

      "text/plain": [
       "<Figure size 432x288 with 1 Axes>"
      ]
     },
     "metadata": {
      "needs_background": "light"
     },
     "output_type": "display_data"
    }
   ],
   "source": [
    "# Teacher Attendance per School Level\n",
    "teacher_attendance=school_category[\"Teacher_Attendance_Year_1_Pct\"].mean()\n",
    "teacher_attendance=pd.DataFrame(teacher_attendance)\n",
    "\n",
    "teacher_attendance.plot(kind=\"bar\", legend=None, alpha=0.75)\n",
    "\n",
    "plt.xlabel(\"School Level\")\n",
    "plt.ylabel(\"Attendance %\")\n",
    "plt.title(\"Teacher Attendance Rate Per School Level\")\n",
    "positions = (0, 1, 2)\n",
    "labels = (\"Elementary\", \"High\", \"Middle\")\n",
    "plt.yticks(np.arange(0, 100, step=10))\n",
    "# plt.grid(axis=\"y\")\n",
    "plt.xticks(positions, labels, rotation=45)\n",
    "plt.ylim(50,97);"
   ]
  },
  {
   "cell_type": "code",

   "execution_count": 36,

   "metadata": {},
   "outputs": [
    {
     "data": {
      "image/png": "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\n",
      "text/plain": [
       "<Figure size 432x288 with 1 Axes>"
      ]
     },
     "metadata": {
      "needs_background": "light"
     },
     "output_type": "display_data"
    }
   ],
   "source": [
    "# Student Suspensions by School Level\n",
    "suspensions=school_category[\"Suspensions_Per_100_Students_Year_1_Pct\"].mean()\n",
    "suspensions=pd.DataFrame(suspensions)\n",
    "\n",
    "suspensions.plot(kind=\"bar\", legend=None, alpha=0.75)\n",
    "plt.xlabel(\"School Level\")\n",
    "plt.ylabel(\"Suspensions Per 100 Students\")\n",
    "plt.title(\"Suspensions Per School Level\")\n",
    "positions = (0, 1, 2)\n",
    "labels = (\"Elementary\", \"High\", \"Middle\")\n",
    "plt.yticks(np.arange(0, 20, step=5))\n",
    "# plt.grid(axis=\"y\")\n",
    "plt.xticks(positions, labels, rotation=45);\n"
   ]
  },
  {
   "cell_type": "code",

   "execution_count": 33,

   "metadata": {},
   "outputs": [
    {
     "data": {
      "image/png": "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\n",
      "text/plain": [
       "<Figure size 432x288 with 1 Axes>"
      ]
     },
     "metadata": {
      "needs_background": "light"
     },
     "output_type": "display_data"
    }
   ],
   "source": [
    "# Sudent Attendance vs. Student Growth\n",
    "# set up dataframe\n",
    "no_data = df_indexed[df_indexed[\"Student_Growth_Rating\"] != \"NO DATA AVAILABLE\"]\n",
    "student_growth=no_data.groupby([\"Student_Growth_Rating\"])\n",
    "attendance_and_growth=student_growth[\"Student_Attendance_Year_1_Pct\"].mean()\n",
    "attendance_and_growth=pd.DataFrame(attendance_and_growth)\n",
    "\n",
    "# create bar chart\n",
    "attendance_and_growth.plot(kind=\"bar\", legend=None, alpha=0.75)\n",
    "plt.xlabel(\"Growth Rating\")\n",
    "plt.ylabel(\"Attendance %\")\n",
    "plt.title(\"Student Attendance by Student Growth Rating\")\n",
    "plt.yticks(np.arange(0, 100, step=5))\n",
    "# plt.grid(axis=\"y\")\n",
    "positions = (0, 1, 2, 3, 4)\n",
    "labels = (\"Above Avg\", \"Average\", \"Below Avg\", \"Far Above Avg\", \"Far Below Avg\")\n",
    "plt.xticks(positions,labels, rotation=45)\n",
    "plt.ylim(50,97);"
   ]
  },
  {
   "cell_type": "code",

   "execution_count": 32,

   "metadata": {},
   "outputs": [
    {
     "data": {
      "image/png": "iVBORw0KGgoAAAANSUhEUgAAAX4AAAFHCAYAAACmryeZAAAABHNCSVQICAgIfAhkiAAAAAlwSFlzAAALEgAACxIB0t1+/AAAADh0RVh0U29mdHdhcmUAbWF0cGxvdGxpYiB2ZXJzaW9uMy4xLjMsIGh0dHA6Ly9tYXRwbG90bGliLm9yZy+AADFEAAAgAElEQVR4nO3dd5gkVdn+8e/NLktG0oJECRIUlBUXJCNJgiQTQURQdEEJggriTwWRIEgS9AVFUBEBBRREQQRBQF4EXPKSXnJclgXJIPH5/fGcZmuHCT2zW9OzU/fnuvqa7gpdT9dUP33q1KlzFBGYmVlzzNTpAMzMbHA58ZuZNYwTv5lZwzjxm5k1jBO/mVnDOPGbmTWME3+HSVpB0hudjmMwSdpU0r2djqNF0qySQtJinY6lL0Nt3w2mTn9XJC0n6dlObX96cuKvkPRi5fGWpFcqr3fsdHzTonxpQtKxXaa/I+k1OblMq7I/T5D0WDlu7pd0ZGX+E5LW7mSMLe3EImkeScdLekjSS+Xv7yV9eCjE18f6v5P0avk//EfSxZLeO9DtR8T/RcQ8A41nKHHir4iIOVsP4GFgy8q0MzodX18kjexl9s7Af4Ad+1jOps1BwPuAVYC5gI2AWzsa0QBJmg24EngvsBkwN7Ai8Mfyurt1htqxdUj5Pi8GPAP8vMPxDA0R4Uc3D+BBYKMu00YA3wPuB54CzgDmKfNGAn8AJgHPAv8Alq+sOwdwAvAI8Bz5hRoJrAC8AXwBeBSYDOzX5jZb6365vO8lPXyWmcr8XcmDf4vKvOuBAF4CXgQ+BbwCvFVevwjM32YcPX2GOcryzwK3Ad8G7q3MPxB4AHgBmAB8vDJvd+Cysu+eBe6r/l+ABYDfAE+Uz/b7yrxPkEn3WeCfwPt72D+zln2wZ/m/TwYOAwTMDjwPLFtZfjHg5dbn7/Jefwd272E755T9+nLZr3sDm1b3RVnuCWDtNvfd4sCfyv/k/uq2gSPKumeVfXsrMKanWLqJd0+yADRrL9+T1r77Svnf3FWmrwfcSB7r1wKrlumbAf+urH81cFXl9fiyT7rbV70eZ93E9jvgu5XXnwSerrxeAbiCLBBNBk4D5urlf7UC8EZl/WvJH/pryzFyETBvZf6Xyv6bDOxf/b92+tHxAIbqg+4T/wFkAlmkHPC/Bn5V5o0kS9VzlnknAddW1j0VuAR4N5lE1yl/VyhfnP8p660KvAYs3cY2W+ueQiao2Xr4LBuXA3hO4BfA2ZV5rS/uYpVp3SWjduLo6TP8mEze8wBLAXczdfLaDliY/IHaiUxSC5R5uwOvA58v+2tf4MHKupcBp5f3HgWsW6avDkwEPlzWGwf8HzCym/3T2gd/q8R4P/C5Mv+XwMGV5b8FnNPDvj6U/BHbHVixm/lTffl72NfVxN/jviuf67YSzyhgOTLRrFfmH1H+7xuXZY8Drugplm5iPR/4WR/fk9a+u7DEOBuwIJkItyW/F7uQye9d5FnQq+TZw6zlf/REeT4X8F+mJN+u+6rX46yb2N5O/OW9zwau6/J+G5R9924ygR/Ry/+qu8R/N7AM+QN9DfD9Mm9M2QerA7OQBZc3etvfg5rfOh3AUH3QfeJ/AFir8nqp8sVSN+u/mywxzArMTCav5btZrnUwL1CZdiuwTV/brKy7SB+f5bfA78rz9cuXa97yut3E304cPX2Gx4GPVubt3fX9u2zrLmCT8nx3YEJl3nxlW61E+ForUXR5j18B3+ky7SHgI90s29oH1Ri/DlxYnq/H1D9UtwFb9RD7zMDXgH+RCe5RYIfK/P4m/h73XYnrni7rHgycVJ4fAfylMm8V4NmeYunms1xNSWTl9erkmcfzwC1d9t2aleW+TKUUX6bdBGxfnv8b2Bz4KHBBeXyUPBu4vpd91etx1k38vyPPXp8t691LD2d9ZfntgX/1sf2uif+bXY6Z88vzwykFo/J6bjIfDInEP9Tq44YsSSJPqy+SFJVZMwHzl6v9R5CnkwuQ/2QxpZpkJFmK7M6bEfFU5fXLwJx9bbM8fysiHu8l7rnIKo/ty6QrydLXdsDPev3QU96jnTh6+wwLkVVNLQ91ef9dyWS5RJk0J7kPW57o8r6tZRYHnoyIF7oJ+z3AtpL2q0wbBSza7YdMXWNcpDy/ChghaQ0ykSwM/LW7N4iI14HjgeMlzU7+cP1G0vURcV8v236HNvbde4Alu7Q0GUFWN7V03Xdz9iOEp8nPCkBEXAvMI2kL4Oguy1ZjXKRLnK24W/v+SjLRv1ieB/kj1rqm0Jtuj7Nelj8sIg6VtBRwMXm94g4ASYuQ/6s1yTOCmcgzkP7oaf8uQp59ARARz0t6rp/vXRtf3G1T5M/2Y8AGETFP5TFrORC/AHyMLFG/iywdQCb/ieRp3tLTeZuQX5refIasBjpV0hNkCXI0WXXS0/pTTWszjt4+w5Nkkm5pJXgkLQf8hKyKmS+y1cS95H7ryyPAgpK6++I/AhzYJd7ZI+KPvbxf1xgfr3yG3wCfI6uiflcSfK8i4uWIOJYs+beOh677+yXy/wOApJnJs5o+9135jHd1+YxzRcQn+oqth1i6ugzYTNKs/Xyvx8kfpaolyGMIpiT+dcvzK8nEvx5TJ/6+4mtbRDwAfBP4iaRRZfJR5P5fKSLmJuvkq8fdtGx/InktCABJc5N5YUhw4u+fnwFHSFocQNKCkrYs81r1k0+T9X2HtlYqSeI3ZClwIUkjJK0tacQ0brMdO5PXGz5I1juOIb90q0taLiJeJS/AVX+UJvHOhDotcZwNfEfSuyS9B/hqZd6c5NnRZGAmSbuTpbI+lS/zVcBPy3uPkrRumX0ysJeksUpzStqqlMJ78q3yPkuSFzZ/X5n3G7LOeofyvFuSviFpndKsc2ZJ48hS+C1lkUlMva/vBOaTtGFJ+gcz9feyt313ddnmPmV7IyV9UNIqvXzGqq6xdHUKeWz8QdL7ynE7GzC2j/e9APiQpE+XmD5PJv6Ly/x/AisDK5FVQDeRLaE+1PpMbcbXLxHxZ7Ka6gtl0lzkWcfzkpYgq2qqpmX7ZwOfkrRq+aH5AXmcDwlO/P3zI/I0+nJJL5AXc1pfslPJ5PUEWQd8dZd19yZbPdxE/jgcQnul2t622atyers28OOIeKLyuJZszdAq9R8InCPpWUlbkUnqAuChMm2+aYkD+C7Z6uRh8iLg24kzIm4kf1TGk6Wkpcrzdu1A1qvfQ+77r5T3/V9yn/+crOP9P+Cz9F6Ku5D87OPJVh2/rcR5H3kh74WIuL6X93iVvJA3iSytf4Gsg360zD8MOKzs1z3LGdPXyNY3j5bPUD2L6m3fvU7Wla9JVqVMJn/k263OmSqWrjMj4mWyFH4/2TDhefKH6v1Aj/e1RMQkYCvgO+SxvifZkuzZMv9Zsrrlpoh4MyLeAm4A7mwt0058A3Q0cED5kT2Q/H48B5xHtsqrGvD2I+ImYL/yvo+Rx/Zz5PHRcSoXHsysD5LOBO6IiEP7XNisQtK8ZLPRRSKiv9cRpjuX+M3aUO743IJsLWTWp1K1OFupMj2WbEra8aQPTvxmfZL0I7KK7gcR8Vhfy5sVnyGr7h4lWzQNmW5fXNVjZtYwLvGbmTWME7+ZWcPMEHfuLrDAArHkkkt2OgwzsxnKDTfc8FREjO46fYZI/EsuuSTjx/enabeZmUnq2nUG4KoeM7PGceI3M2sYJ34zs4apNfFL+pqkCZJul7RPmfZ95XikN5fH5nXGYGZmU6vt4q6klcgBGVYjB8u4WNKFZfZxEdG1P28zMxsEdbbqeR859ODLAJKuJAcEMTOzDqqzqmcCsK6k+Usf6JszZUCJPSXdKumXpdc6MzMbJLWV+CPiTklHApeSgx3cQo5CdRLZF32Uv8cAX+y6fhnAYhzAEkss0XV2v21/8r+m+T2m1e/GrdHpEADvC+uej4vmqPXibkScGhGrRMS6ZF/U90TEpMrgC78grwF0t+7JETE2IsaOHv2OG8/MzGyA6m7Vs2D5uwQ5CPlZkhauLPIJskrIzMwGSd1dNvxB0vzA68AeEfGMpNMljSGreh4Edqs5BrMeuXrDujPcj4taE39ErNPNtJ3q3KaZmfXOd+6amTWME7+ZWcM48ZuZNYwTv5lZwzjxm5k1jBO/mVnDOPGbmTWME7+ZWcM48ZuZNYwTv5lZwzjxm5k1jBO/mVnDOPGbmTWME7+ZWcM48ZuZNUzdI3B9TdIESbdL2qdMm0/SpZLuKX892LqZ2SCqLfFLWgn4Mjmm7srAFpKWBQ4ALouIZYHLymszMxskdZb43wdcGxEvR8QbwJXkGLtbA6eVZU4DtqkxBjMz66LOxD8BWFfS/JJmBzYHFgcWioiJAOXvgt2tLGmcpPGSxk+ePLnGMM3MmqW2xB8RdwJHApcCFwO3AG/0Y/2TI2JsRIwdPXp0TVGamTVPrRd3I+LUiFglItYF/gPcA0yStDBA+ftknTGYmdnU6m7Vs2D5uwTwSeAs4AJg57LIzsCf6ozBzMymNrLm9/+DpPmB14E9IuIZSUcAZ0vaFXgY+EzNMZiZWUWtiT8i1ulm2tPAhnVu18zMeuY7d83MGsaJ38ysYZz4zcwaxonfzKxhnPjNzBrGid/MrGGc+M3MGsaJ38ysYZz4zcwaxonfzKxhnPjNzBrGid/MrGGc+M3MGsaJ38ysYeoeiGVfSbdLmiDpLEmzSvq1pAck3VweY+qMwczMplZbf/ySFgX2Bt4fEa9IOhvYvszeLyLOrWvbZmbWs7qrekYCs0kaCcwOPF7z9szMrA+1Jf6IeAw4mhxecSLwXERcUmYfJulWScdJmqWuGMzM7J1qS/yS5gW2BpYCFgHmkPQ54NvACsCqwHzAt3pYf5yk8ZLGT548ua4wzcwap86qno2AByJickS8DvwRWDMiJkZ6FfgVsFp3K0fEyRExNiLGjh49usYwzcyapc7E/zCwuqTZJYkcYP1OSQsDlGnbABNqjMHMzLqorVVPRFwn6VzgRuAN4CbgZOCvkkYDAm4Gdq8rBjMze6faEj9ARBwEHNRl8gZ1btPMzHrnO3fNzBrGid/MrGGc+M3MGsaJ38ysYZz4zcwaxonfzKxhnPjNzBrGid/MrGGc+M3MGsaJ38ysYZz4zcwaxonfzKxhnPjNzBrGid/MrGHaTvySRks6VNIxkt7b5jr7Srpd0gRJZ0maVdJSkq6TdI+k30saNfDwzcysv/pT4j8GuAq4GDirr4UlLQrsDYyNiJWAEcD2wJHAcRGxLPAMsGt/gzYzs4HrMfFLuljSOpVJo4AHy2OWNt9/JDCbpJHA7MBEciCWc8v808jhF83MbJD0VuLfDtha0pmSlgG+BxwIHAF8ta83jojHgKPJsXcnAs8BNwDPRsQbZbFHgUUHHr6ZmfVXj0MvRsRzwDclLQ0cBjwG7FGm90nSvMDWwFLAs8A5wGbdbaqH9ccB4wCWWGKJdjZpZmZt6K2qZ2lJRwFfAr4B/Ak4W9Jekka08d4bAQ9ExOSIeB34I7AmME+p+gFYDHi8u5Uj4uSIGBsRY0ePHt2Pj2RmZr3prarnLPJC7rXA6RHxz4jYBHgeuKSN934YWF3S7JIEbAjcAfwD+HRZZmfyB8XMzAZJb4l/VuCB8pi9NTEiTgO26OuNI+I68iLujcBtZVsnA98Cvi7pXmB+4NSBBm9mZv3XYx0/8BXgKOA1YPfqjIh4pZ03j4iDgIO6TL4fWK0fMZqZ2XTU28Xda4BrBjEWMzMbBO6ywcysYZz4zcwapj999cxRZyBmZjY4+kz8ktaUdAdwZ3m9sqQTa4/MzMxq0U6J/zhgE+BpgIi4BVi3zqDMzKw+bVX1RMQjXSa9WUMsZmY2CHprx9/yiKQ1gSh95+9NqfYxM7MZTzsl/t2BPcheNB8FxpTXZmY2A+qzxB8RTwE7DkIsZmY2CNpp1XOapHkqr+eV9Mt6wzIzs7q0U9XzwYh4tvUiIp4BPlRfSGZmVqd2Ev9MZVAVACTNR3sXhc3MbAhqJ4EfA1wjqTVO7mfIEbnMzGwG1M7F3d9IugFYHxDwyYi4o6/1JC0P/L4yaWlyzN55gC8Dk8v0/xcRF/U3cDMzG5h2q2zuAp5pLS9piYh4uLcVIuJusuknZajGx4DzgC8Ax0XE0QMN2szMBq7PxC9pL3IwlUnkHbsiB0j/YD+2syFwX0Q8lKMwmplZp7RT4v8asHxEPD0N29meHMO3ZU9JnwfGA98oLYXMzGwQtNOq5xHguYFuoHTzsBVwTpl0ErAMWQ00kbx43N164ySNlzR+8uTJ3S1iZmYD0E6J/37gCkkXAq+2JkbEsW1uYzPgxoiYVNab1Joh6RfAX7pbKSJOJgdnZ+zYsdHmtszMrA/tJP6Hy2NUefTXDlSqeSQtHBETy8tPABMG8J5mZjZA7TTnPHigby5pdmBjYLfK5B9JGkNeIH6wyzwzM6tZO616RgP7AysCs7amR8QGfa0bES8D83eZtlP/wzQzs+mlnYu7Z5Dt+JcCDiZL6f+uMSYzM6tRO4l//og4FXg9Iq6MiC8Cq9ccl5mZ1aSdi7uvl78TJX0ceBxYrL6QzMysTu0k/kMlvQv4BvATYG5g31qjMjOz2rTTqqfVzv45sqM2MzObgfWY+CX9hGxy2a2I2LuWiMzMrFa9XdwdD9xANuFcBbinPMaQnbWZmdkMqMcSf0ScBiBpF2D9iHi9vP4ZcMmgRGdmZtNdO805FwHmqryes0wzM7MZUDuteo4AbpL0j/J6PeD7tUVkZma1aqdVz68k/RX4SJl0QEQ8UW9YZmZWl3aqegBGkGPkPgMsJ2nd+kIyM7M6tdNJ25HAdsDtwFtlcgBX1RiXmZnVpJ06/m3IoRdf7XNJMzMb8tqp6rkfmLm/byxpeUk3Vx7PS9pH0nySLpV0T/k7b//DNjOzgWqnxP8ycLOky5h66MVe79yNiLvJm72QNAJ4DDgPOAC4LCKOkHRAef2tgYVvZmb91U7iv6A8psWGwH0R8ZCkrYGPlumnAVfgxG9mNmjaac55mqTZgCVKKX4gtmfKuLsLtcbcjYiJkhYc4HuamdkA9FnHL2lL4Gbg4vJ6jKS2zwAkjQK2As7pT2CSxkkaL2n85MmT+7OqmZn1op2Lu98HVgOeBYiIm8lhGNu1GXBjREwqrydJWhig/H2yu5Ui4uSIGBsRY0ePHt2PzZmZWW/aSfxvRMRzXab12F1zN3ZgSjUP5PWCncvznYE/9eO9zMxsGrWT+CdI+iwwQtKypZ/+a9p5c0mzAxsDf6xMPgLYWNI9Zd4R/YzZzMymQTutevYCvkM25TwT+BtwSDtvHhEvA/N3mfY02crHzMw6oJ3E//GI+A6Z/AGQ9Bn6ebHWzMyGhnaqer7d5jQzM5sB9Dbm7mbA5sCikk6ozJobeKPuwMzMrB69VfU8To67uxU59m7LC8C+dQZlZmb16W3M3VuAWyQt1Bp/t0XS14Dj6w7OzMymv3bq+LfvZtou0zkOMzMbJL3V8e8AfBZYqksXDXMDT9cdmJmZ1aO3Ov5rgInAAsAxlekvALfUGZSZmdWntzr+h4CHgDWq0yWtBZwA7FFvaGZmVod2buBC0hiy2mdb4AGm7oLBzMxmIL3V8S9HXtjdgazT/z2giFh/kGIzM7Ma9Fbivwv4J7BlRNwLIMnt983MZnC9Nef8FPAE8A9Jv5C0IaDBCcvMzOrSY+KPiPMiYjtgBXJc3H2BhSSdJOljgxSfmZlNZ33ewBURL0XEGRGxBbAYOQzjAe28uaR5JJ0r6S5Jd0paQ9L3JT0m6eby2HwaP4OZmfVDO3fuvi0i/hMRP4+IDdpc5Xjg4ohYAVgZuLNMPy4ixpTHRf2JwczMpk1bzTkHQtLcwLqU7h0i4jXgNcmXCczMOqlfJf5+WhqYDPxK0k2STpE0R5m3p6RbJf1S0rw1xmBmZl3UmfhHAqsAJ0XEh4CXyGsDJwHLAGPILiGO6W5lSeMkjZc0fvLkyTWGaWbWLHUm/keBRyPiuvL6XGCViJgUEW9GxFvAL4DVuls5Ik6OiLERMXb06NE1hmlm1iy1Jf6IeAJ4RNLyZdKGwB2SFq4s9glgQl0xmJnZO9V2cbfYCzhD0ijgfuALwAml758AHgR2qzkGMzOrqDXxR8TNwNguk3eqc5tmZta7Ouv4zcxsCHLiNzNrGCd+M7OGceI3M2sYJ34zs4Zx4jczaxgnfjOzhnHiNzNrGCd+M7OGceI3M2sYJ34zs4Zx4jczaxgnfjOzhnHiNzNrmFoTv6R5JJ0r6S5Jd0paQ9J8ki6VdE/56zF3zcwGUd0l/uOBiyNiBWBl4E5y3N3LImJZ4LLy2szMBkltiV/S3MC6wKkAEfFaRDwLbA2cVhY7DdimrhjMzOyd6izxLw1MBn4l6SZJp0iaA1goIiYClL8L1hiDmZl1UWfiHwmsApwUER8CXqIf1TqSxkkaL2n85MmT64rRzKxx6kz8jwKPRsR15fW55A/BJEkLA5S/T3a3ckScHBFjI2Ls6NGjawzTzKxZakv8EfEE8Iik5cukDYE7gAuAncu0nYE/1RWDmZm908ia338v4AxJo4D7gS+QPzZnS9oVeBj4TM0xmJlZRa2JPyJuBsZ2M2vDOrdrZmY98527ZmYN48RvZtYwTvxmZg3jxG9m1jBO/GZmDePEb2bWME78ZmYN48RvZtYwTvxmZg3jxG9m1jBO/GZmDePEb2bWME78ZmYN48RvZtYwTvxmZg1Ta+KX9KCk2yTdLGl8mfZ9SY+VaTdL2rzOGMzMbGp1j8AFsH5EPNVl2nERcfQgbNvMzLpwVY+ZWcPUnfgDuETSDZLGVabvKelWSb+UNG93K0oaJ2m8pPGTJ0+uOUwzs+aoO/GvFRGrAJsBe0haFzgJWAYYA0wEjuluxYg4OSLGRsTY0aNH1xymmVlz1Jr4I+Lx8vdJ4DxgtYiYFBFvRsRbwC+A1eqMwczMplZb4pc0h6S5Ws+BjwETJC1cWewTwIS6YjAzs3eqs1XPQsB5klrbOTMiLpZ0uqQxZP3/g8BuNcZgZmZd1Jb4I+J+YOVupu9U1zbNzKxvbs5pZtYwTvxmZg3jxG9m1jBO/GZmDePEb2bWME78ZmYN48RvZtYwTvxmZg3jxG9m1jBO/GZmDePEb2bWME78ZmYN48RvZtYwTvxmZg1TZ3/8SHoQeAF4E3gjIsZKmg/4PbAk2R//thHxTJ1xmJnZFINR4l8/IsZExNjy+gDgsohYFrisvDYzs0HSiaqerYHTyvPTgG06EIOZWWMpIup7c+kB4BlymMWfR8TJkp6NiHkqyzwTEfN2s+44YFx5uTxwd22BtmcB4KkOxzBUeF9M4X0xhffFFENlX7wnIkZ3nVh34l8kIh6XtCBwKbAXcEE7iX+okTS+Ul3VaN4XU3hfTOF9McVQ3xe1VvVExOPl75PAecBqwCRJCwOUv0/WGYOZmU2ttsQvaQ5Jc7WeAx8DJgAXADuXxXYG/lRXDGZm9k51NudcCDhPUms7Z0bExZL+DZwtaVfgYeAzNcYwPZ3c6QCGEO+LKbwvpvC+mGJI74ta6/jNzGzo8Z27ZmYN48RvZtYwTvxmZg3jxD8IJC0jaUyn47ChRaXlg/VO0tydjmGokLSwpGlulOPEX5PWl1rSWOAQYJykFTob1eCofHZJGlGe+1irkLQssPH0+BIPR5VjaHngGEkrdzikjqnsi5WAg4BPtb5XA+UvY00iIiRtBpwAPAJ8EPjscD+AJal89i2Bk4DTJX04It7qdGydVvkCr03umx8Ca0ka1dHAhqByDG1CJro1ga+WQlTjlH3xceAoYCzweWC7aSk0uDlnTSTNDPwG+HVE/E3SR4BtAQEnR8RdHQ2wRpI2AA4HdgR+AswMbBYRb3Q0sCFA0keBo4HvAV8EngfOAq7w/plC0vuAP5OdOC4OrAIsBpwUEbd2MrbBJmkR4Hzy+3QvsDfwXuBK4LyIeLO/7+kSfw3K6elMwBPARpJmiojrgH8AGwNbSpqnt/eYwa0EfBP4APAu4EsR8YbragHYEPhLRPw1Ij4DPAocSJb8Xe0zxQjgvoiYEBF/Bf4CvAfYW9IHOhva4JE0L/Af4C1g9siS+inAPMCXgc0H8r5O/NNZ6aZiD+CjwB/J0m7r7uT/I3+xNweW7UR8dZL07vI0yGS2B/C5iHhI0ieB7zS1WkPS+0rCuglYQtKSABFxEDAL8AlgyHdWWDdJK0o6FngAmEnSbgARcQtwHfAasKGkEcP94ngp6R8FjCZ/+DaXtGxEvEQOZvUssNlACgxO/NPfS8CLwCYR8U+yf6JPSbqE7KdoX+B6YLnOhTj9VOqtlwOOkrQhcDrZZcetEfGApPWAw4DLI+K1zkXbGZJmBXYCVgf+lyy9bSxppbLfHifPkr7auSg7q5LERwJzAqOAnwJjJf1Y0vrAx4E7yf1IDP966tmBOYD5gLPJgsFxkr5DXh86HliKrPbpF9fxT6PKxcylgXdFxE2lU7pLgR9FxPmS5ifrKO8hT1dPATaNiPs6F/n0Uy487QosQV7IPg64izxYHyXraH8UERd2LMgOk7Q5cAxZ1bcEOSDRKmS/7TuQF/+XAw5rQEJ7B0mzR8TLpQr0dPKaxzGSPkiO0vcqeb1oNvJsctuIeK5zEddH0oKlR2MkfQ34LLA+WW26FrAiWec/K/Az4GMRMblfG4kIPwbwAEZUni9Atj64lazeWADYHtijyzrvB/4OrNTp+KfjflicPKtZDlgG2A34NfARsp52FLBIWVadjneQ983ywCeB2crrbwH7lefvIk/hFyRLsrcNp+Oin/tpGbKQsFF5vRRZtbFqZZkRZA+/NwMrdzrmGvfFe4ATgd+Spf2RJbds2mW5jciqrwHtC5f4B6BcvP06OXbw2ZXpq5IXNR8A1iH/cZ+PSisESfNHxNODHHJtyr44HVgjIt6UtDhwJDAX2QLjoo4GOIgkzQK8HhFvlXrXfcnkvyywJ/lj+GFgrygteMrZ4S+BQyPits5EPrgkLQQs1PpeSFqU/PEbB1wETCKve9wfEedX1tsBGB8R9wx+1PWQtAxZILw2IiaXBhDzk2c1swB3AB8C7omIAyrrLU3Wdj0woO068Wuz8D8AABSwSURBVPefpC2Ac8kLtXeSX9xbI+IxSQuQdXHfIJuibRcRV7aqhDoW9HRSqdqaJSJeLdN+QX5Zj4yIF0qX2x8mh908BHh1OHz23khajDybOxO4JCKureyrg8jS/SxkldhBEXFIZf7IaEBTzlKPPwd5djMHWYd/OjAxIv5bLn6/l2zmujHZKm554I0YQJPFGYGkC4BNgFuAg4EJEfFQmbcx2YT1cLIVzweA+8mEP03fJyf+ASj1kAeT7fTXBuYmW2XsR/4ATC7LLR4RjwzDpL8FebC+RpbuVyBLbGPIffJtssSyK/DFiJjUoZAHTfnBvxS4AdiUvHFvQuuMR9ISZBXG0cC3IuLyyrrD4vhol6R9yAu0o8gR+OYm98kjlWV2A+6KiCs7E+XgkLQG2ervLvLH7jngsYg4qPJ9+xBARNw03bbboONtupJ0CLBaRGxSSnv3AleTTaxujIjDOxpgTcrdyD8kL0ieSx6wPyIv6u5MfonPIesmfwxsFRFDYdDpWpVmqj8hS24Xke31P0222PkB8GJEPF25iNmoZA9TFRzWJQtKP4yIJyWdRtZZ/xR4ICJ+13WdDoVcu9Jk8yxK4wdJW5EXbn8OvAIcXv3+TK/94cTfT9UdL+kksqXOF8kLMr8hxxV+KyKu6FiQ01mXz3wccAZZdXEgWQe5NPCNiLixLLMh+eMwLiJu7kzUg6/Uu55Hnv3MBFxGVoHdT17z2BF4rQnVOn2RdD5ZTXos+UN5Ddk44nCyi4YHYph381H5IdwU+BL5w3c0WXD6N7Ad8NvIZuHTd9tO/P1X6ioFfI2s1tg/In7d0aBqUjk4tybrX48DFiV/5LaOiOcl3U/ePr5PRDyn7IvmsYFeeJoRSRpRLm7vTf4ofpLsmuN4ZfcDb0XE3Z2NsvOUd7G/VUq6PyZvdDwqIo4q8+eOiOc7GeNgKrlkHvIHbxvg4Ij4Wd3b9Q1c/VC9U7CURn5Dnso/X+YPu/1Zkv4qZD9D15fP/SLwBrBqSWrjyRY8z5V1rm5Y0lfl4uP/kQWCsyPi+DLtbif9VCnFvwg8Dfy1kvRHAC90KrbBVn4EIyKeIa8NvdhK+prG3jf7MuwS1fTUSvSSlpQ0J3m63kqGI0qzzOPJuzDnGo6npsouKHYj21S3TjlfI7uj+DrwJ+BXEXF9h0LsGElLldZN0TpWIuJi8oL3fKV5J8PxuGhHtaBUnVZ+KJ8nbz7apFzgJCLeHM71+QCS3i/pYMjjolVYjIhTgFsk7dk6e6wzDif+XpQv9FbAaeSp2EGSlirzWv+YW4ETI2LYlFQqP3gjyuf6H+AhSScARPYVcibZaueTkZ1oNYqkd5Ft8zesTGt9n8aTt9nP2YHQhoRKFeEGkg6U9DlJK5QSbpTS7i1k8h82353udPkBHAWM1pSxOaL1YwhcTt6xXHvTVdfx96JUY5xONl38f+Rt9Z8iT8mGdSmuXHBajzwd/wOZyL4K/Cci9utkbJ2mcku98nb6RSNi/zJ9pkopbvmIuLOzkXaWsiuPQ8jrQjuRd90eUP3uSHpXDNOuF6qU3bJ/ICJOkXQM8GhEHFfmtY6b2kv6LS7x907AX8k7LtcEdi+nqB9sncYPR8o+448hm2vuTVb13E62TV+stOxpJOUoSOeVi7g/J7tT3g/ePnUfERFvNT3pF+sBW5Itm+YFflz20VytBRqS9EcBXwCOlbQd2VHfPsrBit6uChyspA9O/N0q9XD7ApPJrhdOAD4dEfeVkvBhZHv14WoDYB+yS+lJZFXWf8kLl0cAv+pgbJ32PNlvzAFkKfbXZHe5H4TB/fIOVZVqjDfIY+V7wKci4vHy/fnocGwI0R1lFyZzkwWpe4AtyP0yCdhDpXvuwdaInT8Ay5IdRz1F9nv9d3LYxE3Jm5V+Hv3tDW8GUC5Wzksm+D2Z8oP3sKTPk/0O3RINGwEJQNIHJH2Z7FJ5O7Kt9SJkZ2vrAZ9uSjLrjaTZgO8p7+7+I1lF+IdyDK1D3uT2/HCvKoW3rwN9lWybP5q83+cJ4G6yUcRKZCFi8GNzHf8UpYXGq8pulC8k++D5JfnF3oW8vfzycofdsLmjsFxYmpscB/YUYCJZUjuB7DVxRbK3wP2beCEXQNJa5LWe95J3K08Ano7sh2lPshOtv3UyxqGgVIHuTd63cIyk7cvrx8l+d74dEX/pZIx1qlzUnpc8O3w32XPtz8mb++YBjo2IuyW9J0q/PIMe5zDJXdOsnJ5+EbggIq4ubdf3JDvUeqQs07oIMyySftfPIWl3stuFDcj+Q9YjO4maHTg6Iv40XD57Xypf4I8ASwIPkQn/3cCpZEn/NbJX0ler63Qo5I5S9tL6SinZL09eG/tSRFxekuAiZGd99w73/aS82XF3slXXOeS1spFkx42fBe6NiDUG82LuO2Icxvu/X0od7TrAXuSv8/NkSffciLimk7HVqXxJR5EdioVy2LtLI+Kvyu5y3wJGRQ6fOKy/sC0qvWUqe0f8BXm2sw15w97J5NCSXwI+R17wv65jwQ4BkmYHvkOOQfF1ss+qNcmBZo4uzX8bQTmi2jlk9xyLkvthBHBo+bsSMEtEXNWxIGlw4q+U6NYAxpL1bleTJZMtyYN2R7JN9lpk17Az/M4qif5DwL9KMj+RPCBbN2rtCSwZEbt1MMyOkLRYRDxans9F9p3yh4i4QNLKZH3tHZHdMMwMzBl512XjVL4/izBlMPB1yR/IuckqDZGl/mHbO2u5eLt/ROxVXq8J/CAiNiqvVyabsx4WEZdV1utoIaqxF6PKQbsZWYpbgqzmORaYo7Sv3ZXsVfGAiHh9mCR9kYNdnA4cIem7wPfJz/kEWcc/M/AlSdt2Ks4OOl7SeIBy49rTwCqSZis3G50BfE7SvOWYaGTSh7e/Px8nGz/8lkxuj0XEnmTLrxFkgWmFnt9lWJhINuk9pby+GfiPpB1LVU5rkPhlqit1Op80ucQ/guxB8vKIuFjSsmQ/6vOSp6cvV5YdNlUckj5G9qq5C/lDdy/ZlfQPycFTFiOrurYczlVcPZF0MVm1tUHZV1uQ133+Xq4DHQtsHw3qSKw7yjvY/0pWd4k8i9yCLCjdUS7yzh8Rj3cwzFppSsd8I8mWfw+SVYA7AiuTP34Xkncn7xgR/+pUrF01qsRfbW5XLqrMTdZLEjmc2y1kndxUhkvSB4iIS8hmqjtExFZkCeXbwFXAGmRrlSUi4ppyhtAoEbEp8Kaki8q+uhvYRdKFZDcVpzY56VeOiVnIzufGR8S/yRYrDwHvA4iIV4d50ldJ+nNFdrO9IVlN/BPyTvezycS/DbDnUEr60JASv6RZyw1ISBpDtqm9lRwUfRfy9ulW97k/BT4XERM7FW9dKq2SViOvY5xLVl8cCzxK1tGeFxE3dDDMQVWpq34febZ3fbmw+zfgvxGxdWmPvQowOSImDKczwHZVLnjPEREvlVLuP8jeNQ8vyxwOPBcRR3Y02EFSzgh3IguM15N35F5GXgf6allm1shhJYfUMTPsE79ymMQTyU7WZiHr9B8rj8eBG8nT1TnIq/DfjYjzOhPt4JC0IJnw1yb70P95mT5bRLzS0eA6QNI2ZKuUW4EFge9ExK0l+c8ZEWt1NMAOkvQeYPaIuFPS5mSb/NvJcXNvJZsovky2ZDkO+EqnW6wMBknrkXllHDkM66MRsUv5QbwauC8iduxkjL1pQlXPCPIX+ZDy+FREfIwc7kxl/rZkJ2xbRcR5w72KIyKeJBPdLcAF8PbZQKOSvtISZGum9cjqrkXI2+mJiE2A1ySt3rkoO+7jwIWSPgl8mbzB727ywu1ngf3JPLIBWb/fhKQ/irxovTd5L8c8ZLcUkPlkbfLmxyFrZKcDqFvkOKenkRcwWwOD30X+Kq9G3oBzNtlss7XO8D4NSjeRJbd1JJ0bDbiFHkDSaPLM77mIeEHSm+TwkXsDWwHbRsQkSetHxD8iYv1OxttpEXFiKQgdSVYDnlva7V8LfIu8EL5ra/mhVqUxPZRqwB2BWcmzwVclPUVWC/8X2CSyt9YtgRUj4giyJc+QNSxL/JKWl7R9Kc0REU8AvyPrsveQtGZptXMzsLSkOYd7Kb+riHidbL3zaIOS/gpkvfQhZCl2frJAMIosve4Z2RHfBsBPyj0PjSNpLk3d++zPyM7oviJpxYh4ObK/plnILizeNgyT/nJkc9WnyargM8usq8lq4guBF8p1s8PJ6q8hb9iV+Ctt1fcGzpE0iWy18hLZZPEl4CxJrT5o/iciXuxUvJ0UDRo1S9L7yTrZ48mBdY4DRkfEXZJ+S17j2U3SfWQXuvtFA4dLLNd/bgXOl3RFRPyutIA7rJSNzpX0DXIA+RUpw44OR5KWBv4MHBgRv5e0DHCgpM+SzTfPJO/2v4ocTOa7EXHRjHDWMywv7lbaqu9M9oz3EJnwjyL/QfsBm5F33F03I/yjbOCUd9neCdwVEVuU1w+Spf/3AzuQdbUbkE18b4iIq5p4XJSS/h/J+zs2JEeFug74fWnV8x3yjOn35DjLw7ZOX9lP06XAxiVPXE7mj2eBhcnCwS2S3g28FhH/mVGOmWGZ+AEknU9+gQ9Rdil8EtlG/Szybrt/lIuc1gCSViVPy38ArE5+eb9GXtTfE1gphmFX2wMh6QdkJ3TfBjYimyyOJlvwPA2sCkyMiKs7FmTNKs18NyeHHn2OvJHvwDL/GLK30S1nhETf1bBL/G20VV8LOD8ibupgmNYBksaSJbi7ImKNyvQzyMFm/rdjwQ0h5UbHK8gWO48CfyPPkJ4AFgc+GxFPzSil24GqJP91yGbge0XpUlo5St0XgXGte4RmJMMu8bf00lZ99qh0x2DNouw06wqymu8Xyk61TiMHjb+to8ENAZrSDcHOZBceGwGnRMSxkhYDZoqIhzsb5eAobfLfLMl/M6a0259E9nf1vYi4oJMxDtSwTfwApdR/AvCJiJjYOhvodFzWWaXkfxF5Nrgi8KOIuLCzUXVe9fuhHFv4IrJ6Y88ybViX8FtKkn8kIiaU162S/6Zkwn8V+HJk1+Uz5D4Zls05K6pt1Z30DYCIGE/emLQTcFzTk76kzSStVP1+lKS3PzBPafY67Jpqdkc5ANP+5E1ZwNs9kSoiLgY+CewUZSS6GXWfDLvmnFUR8bqknwMjnfStKiL+LWnhiHhxRi21TQ+VRPe9bmbfR3bTPfOgBtUhkhYmW/7dFjkK3whyCMmoJP9/lmVn6GNmWFf1mPWmcgo/Q3+JB6okut8Ct0fE3tVEV1lmqYh4oGNBDiJlv167kQPufDEqA6cMN8O6xG/Wm1aCa2LSL14BLgG+KulPMfUIUTNFxFvDOelXfvg/SA6n+VREHCnpBWBfSW9FxD86HGYtnPjNGqI/ia4JVaOV1jrHkWc+X5C0cWT/RG+Qd+nONBxL/sP94q6ZFZVEdzawNXC1pKUj4kSyl9YDJW3Y0SBrJmlh5XjKrZZLR5AX+u8g79q+SdIKEXEy2dX0sOySwonfbBhzoptC2UnflcCYMukxcgS+xcheN0eTndHdImnZiDgxcnSxYceJ32yYcqKbonTSdxJ5z8Y/ASLimYi4k9w/rRuxriBH01q8E3EOFid+s2HIiW6K0infBcCLEXGKpJGS/lC6XYDst+k9kr5NNm3dPSIul4ZvV+1O/GbDjBPd1CLHntgB+IikPci7bx+MiCvKIn8hf/wWBA6PiNvLesO2tZfb8ZsNQ5XeSA8m+6t6PCK+UebND3yG7F3y8oj4c8cCHUSVTvrujIg1y7RZu3ay1oT7Opz4zYYpJ7p3qnTS982IOLVMa1x3Lq7qMRumSp9EHwXeJ2nXMu2/pdvl6nKNSPoAEXELsDHwQ0l7l2mNSvrgEr/ZsFfpjfTQiDih0/EMBcrRtf5O9s7amHGnW5z4zRqg6YmuO5Lmjohhe99Cb5z4zRqiyYmuO03upM+J36whmpzobGpO/GZmDeNWPWZmDePEb2bWME78ZmYN48RvMxxJC0k6U9L9km6Q9C9Jn5jO25hH0lcrrz8q6S9trPdrSQ9IulnSLe30by9pF0mLVF6fUjpZM6uFE7/NUEpHYucDV0XE0hHxYaZ0Ndx12WkZYW4ecuzVgdgvIsYA+wA/a2P5XYC3E39EfCki7hjgts365MRvM5oNgNci4u2EGhEPRcRP4O3S8zmS/gxconSUpAmSbpO0XVnuRElblefnSfpleb6rpEPJAUuWKSX3o8qm5pR0rqS7JJ3RRm+W/wIWbb2QdKCkf5dYTi6xfRoYC5xRtjWbpCvK3bZIelHSYeXs4VpJC5Xpy5TX/5b0A0kvTvOetcZw4rcZzYrAjX0sswawc0RsAHyS7H9+ZWAj4ChJCwNXAeuU5RcFWlUrawP/BA4A7ouIMRGxX5n3IbIU/35gaWCtPuLYlDw7aflpRKwaESsBswFbRMS5wHhgx7KtV7q8xxzAtRGxcon5y2X68cDxEbEq8HgfcZhNxYnfZmiS/qeUhqsjR10aEf8pz9cGzoqINyNiEjki1apkcl+n1KXfAUwqPwhrANf0sLnrI6LV3cHNwJI9LHeUpPvJAbwPr0xfX9J1km4jz1xWbOMjvkb2Fw9wQ2Wba5BDJQKc2cb7mL3Nid9mNLcDq7ReRMQewIbA6MoyL1Wed1sdExGPAfOSpfKryB+CbcnBS17oYduvVp6/CfR0DWE/4L3Ad4HTILtDBk4EPh0RHwB+Aczaw/pVr1fusu1tm2Ztc+K3Gc3lwKySvlKZNnsvy18FbCdphKTRwLrkaEuQdfD7MCXxf7P8BXgBmGugQZazguOBmSRtwpQk/5SkOYFPVxYfyLauBT5Vnm8/0DitmZz4bYZSSr/bAOuVZpPXk6Xqb/WwynnArcAt5I/G/hHxRJn3T2BkRNxLXjeYr0wjIp4G/rdciD3qnW/bdqyHlm0+S5bybyPr/atVU78Gfta6uNvm2+8DfL18/oWB5wYSozWT++oxmwFJmh14pXS6tj2wQ0Rs3em4bMbg+kKzGdOHgZ+WJqXPAl/scDw2A3GJ38ysYVzHb2bWME78ZmYN48RvZtYwTvxmZg3jxG9m1jBO/GZmDfP/AcDwgbE19E1WAAAAAElFTkSuQmCC\n",
      "text/plain": [
       "<Figure size 432x288 with 1 Axes>"
      ]
     },
     "metadata": {
      "needs_background": "light"
     },
     "output_type": "display_data"
    }
   ],
   "source": [
    "# Teacher Attendance vs. Student Growth\n",
    "teacher_and_growth=student_growth[\"Teacher_Attendance_Year_1_Pct\"].mean()\n",
    "teacher_and_growth=pd.DataFrame(teacher_and_growth)\n",
    "\n",
    "teacher_and_growth.plot(kind=\"bar\", legend=None, alpha=0.75)\n",
    "plt.xlabel(\"Growth Rating\")\n",
    "plt.ylabel(\"Attendance %\")\n",
    "plt.title(\"Teacher Attendance by Student Growth Rating\")\n",
    "plt.yticks(np.arange(0, 100, step=5))\n",
    "# plt.grid(axis=\"y\")\n",
    "positions = (0, 1, 2, 3, 4)\n",
    "labels = (\"Above Avg\", \"Average\", \"Below Avg\", \"Far Above Avg\", \"Far Below Avg\")\n",
    "plt.xticks(positions, labels, rotation=45)\n",
    "plt.ylim(50,97);"
   ]
  },
  {
   "cell_type": "code",

   "execution_count": 42,

   "metadata": {},
   "outputs": [
    {
     "data": {
      "image/png": "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\n",
      "text/plain": [
       "<Figure size 432x288 with 1 Axes>"
      ]
     },
     "metadata": {
      "needs_background": "light"
     },
     "output_type": "display_data"
    }
   ],
   "source": [
    "# Suspensions per 100 Students vs. Student Growth\n",
    "suspensions_and_growth=student_growth[\"Suspensions_Per_100_Students_Year_1_Pct\"].mean()\n",
    "suspensions_and_growth=pd.DataFrame(suspensions_and_growth)\n",
    "\n",
    "suspensions_and_growth.plot(kind=\"bar\", legend=None, alpha=0.75)\n",
    "plt.xlabel(\"Growth Rating\")\n",
    "plt.ylabel(\"Suspensions per 100 Students\")\n",
    "plt.title(\"Suspensions by Student Growth Rating\")\n",
    "plt.yticks(np.arange(0, 100, step=5))\n",
    "# plt.grid(axis=\"y\")\n",
    "positions = (0, 1, 2, 3, 4)\n",
    "labels = (\"Above Avg\", \"Average\", \"Below Avg\", \"Far Above Avg\", \"Far Below Avg\")\n",
    "plt.xticks(positions, labels, rotation=45)\n",
    "plt.ylim(0,20);\n",
    "\n",
    "# save figs"
   ]
  },
  {
   "cell_type": "code",

   "execution_count": 44,

   "metadata": {},
   "outputs": [
    {
     "data": {
      "image/png": "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\n",
      "text/plain": [
       "<Figure size 432x288 with 1 Axes>"
      ]
     },
     "metadata": {
      "needs_background": "light"
     },
     "output_type": "display_data"
    }
   ],
   "source": [
    "# Student Attendance vs. Student Attainment\n",
    "# set up dataframe\n",
    "attain_no_data = df_indexed[df_indexed[\"Student_Attainment_Rating\"]!= \"NO DATA AVAILABLE\"]\n",
    "student_attain=attain_no_data.groupby([\"Student_Attainment_Rating\"])\n",
    "attendance_and_attain=student_attain[\"Student_Attendance_Year_1_Pct\"].mean()\n",
    "attendance_and_attain=pd.DataFrame(attendance_and_attain)\n",
    "\n",
    "# create bar chart\n",
    "attendance_and_attain.plot(kind=\"bar\", legend=None, alpha=0.75)\n",
    "plt.xlabel(\"Attainment Rating\")\n",
    "plt.ylabel(\"Student Attendance %\")\n",
    "plt.title(\"Student Attendance by Student Attainment Rating\")\n",
    "plt.yticks(np.arange(0, 100, step=5))\n",
    "# plt.grid(axis=\"y\")\n",
    "positions = (0, 1, 2, 3, 4, 5, 6, 7, 8, 9)\n",
    "labels = (\"Above Avg\", \"Above Expecations\", \"Average\", \"Below Avg\", \"Below Expectations\",\n",
    "          \"Far Above Avg\", \"Far Above Expectations\", \"Far Below Avg\", \"Far Below Expectations\", \n",
    "          \"Met Expecations\")\n",
    "plt.xticks(positions, labels, rotation=45, ha=\"right\")\n",
    "plt.ylim(50,97);"
   ]
  },
  {
   "cell_type": "code",
=
   "execution_count": 29,

   "metadata": {},
   "outputs": [
    {
     "data": {
      "image/png": "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\n",
      "text/plain": [
       "<Figure size 432x288 with 1 Axes>"
      ]
     },
     "metadata": {
      "needs_background": "light"
     },
     "output_type": "display_data"
    }
   ],
   "source": [
    "# Teacher Attendance vs. Student Attainment\n",
    "teacher_and_attain=student_attain[\"Teacher_Attendance_Year_1_Pct\"].mean()\n",
    "teacher_and_attain=pd.DataFrame(teacher_and_attain)\n",
    "\n",
    "teacher_and_attain.plot(kind=\"bar\", legend=None, alpha=0.75)\n",
    "plt.xlabel(\"Attainment Rating\")\n",
    "plt.ylabel(\"Teacher Attendance %\")\n",
    "plt.title(\"Teacher Attendance by Student Attainment Rating\")\n",
    "plt.yticks(np.arange(0, 100, step=5))\n",
    "# plt.grid(axis=\"y\")\n",
    "positions = (0, 1, 2, 3, 4, 5, 6, 7, 8, 9)\n",
    "labels = (\"Above Avg\", \"Above Expecations\", \"Average\", \"Below Avg\", \"Below Expectations\",\n",
    "          \"Far Above Avg\", \"Far Above Expectations\", \"Far Below Avg\", \"Far Below Expectations\", \n",
    "          \"Met Expecations\")\n",
    "plt.xticks(positions, labels, rotation=45, ha=\"right\")\n",
    "plt.ylim(50,97);"
   ]
  },
  {
   "cell_type": "code",

   "execution_count": 28,

   "metadata": {},
   "outputs": [
    {
     "data": {
      "image/png": "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\n",
      "text/plain": [
       "<Figure size 432x288 with 1 Axes>"
      ]
     },
     "metadata": {
      "needs_background": "light"
     },
     "output_type": "display_data"
    }
   ],
   "source": [
    "# Suspensions per 100 stuents vs. Student Attainment\n",
    "suspensions_and_attain=student_attain[\"Suspensions_Per_100_Students_Year_1_Pct\"].mean()\n",
    "suspensions_and_attain=pd.DataFrame(suspensions_and_attain)\n",
    "\n",
    "suspensions_and_attain.plot(kind=\"bar\", legend=None, alpha=0.75)\n",
    "plt.xlabel(\"Student Attainment Rating\")\n",
    "plt.ylabel(\"Suspensions per 100 Students\")\n",
    "plt.title(\"Suspensions by Student Attainment Rating\")\n",
    "plt.yticks(np.arange(0, 100, step=5))\n",
    "# plt.grid(axis=\"y\")\n",
    "positions = (0, 1, 2, 3, 4, 5, 6, 7, 8, 9)\n",
    "labels = (\"Above Avg\", \"Above Expecations\", \"Average\", \"Below Avg\", \"Below Expectations\",\n",
    "          \"Far Above Avg\", \"Far Above Expectations\", \"Far Below Avg\", \"Far Below Expectations\", \n",
    "          \"Met Expecations\")\n",
    "plt.xticks(positions, labels, rotation=45, ha=\"right\")\n",
    "plt.ylim(0,35);"
   ]
  },
  {
   "cell_type": "code",
   "execution_count": 18,
   "metadata": {},
   "outputs": [
    {
     "data": {
      "text/html": [
       "<div>\n",
       "<style scoped>\n",
       "    .dataframe tbody tr th:only-of-type {\n",
       "        vertical-align: middle;\n",
       "    }\n",
       "\n",
       "    .dataframe tbody tr th {\n",
       "        vertical-align: top;\n",
       "    }\n",
       "\n",
       "    .dataframe thead th {\n",
       "        text-align: right;\n",
       "    }\n",
       "</style>\n",
       "<table border=\"1\" class=\"dataframe\">\n",
       "  <thead>\n",
       "    <tr style=\"text-align: right;\">\n",
       "      <th></th>\n",
       "      <th>School_ID</th>\n",
       "      <th>Long_Name</th>\n",
       "      <th>Primary_Category</th>\n",
       "      <th>School_Type</th>\n",
       "      <th>Student_Attendance_Year_1_Pct</th>\n",
       "      <th>Suspensions_Per_100_Students_Year_1_Pct</th>\n",
       "      <th>Teacher_Attendance_Year_1_Pct</th>\n",
       "      <th>Student_Growth_Rating</th>\n",
       "      <th>Student_Attainment_Rating</th>\n",
       "    </tr>\n",
       "    <tr>\n",
       "      <th>School_Type</th>\n",
       "      <th></th>\n",
       "      <th></th>\n",
       "      <th></th>\n",
       "      <th></th>\n",
       "      <th></th>\n",
       "      <th></th>\n",
       "      <th></th>\n",
       "      <th></th>\n",
       "      <th></th>\n",
       "    </tr>\n",
       "  </thead>\n",
       "  <tbody>\n",
       "    <tr>\n",
       "      <th>Career academy</th>\n",
       "      <td>4</td>\n",
       "      <td>4</td>\n",
       "      <td>1</td>\n",
       "      <td>1</td>\n",
       "      <td>4</td>\n",
       "      <td>4</td>\n",
       "      <td>4</td>\n",
       "      <td>2</td>\n",
       "      <td>2</td>\n",
       "    </tr>\n",
       "    <tr>\n",
       "      <th>Citywide-Option</th>\n",
       "      <td>4</td>\n",
       "      <td>4</td>\n",
       "      <td>1</td>\n",
       "      <td>1</td>\n",
       "      <td>4</td>\n",
       "      <td>4</td>\n",
       "      <td>4</td>\n",
       "      <td>2</td>\n",
       "      <td>2</td>\n",
       "    </tr>\n",
       "    <tr>\n",
       "      <th>Classical</th>\n",
       "      <td>5</td>\n",
       "      <td>5</td>\n",
       "      <td>1</td>\n",
       "      <td>1</td>\n",
       "      <td>5</td>\n",
       "      <td>3</td>\n",
       "      <td>5</td>\n",
       "      <td>3</td>\n",
       "      <td>1</td>\n",
       "    </tr>\n",
       "    <tr>\n",
       "      <th>Magnet</th>\n",
       "      <td>41</td>\n",
       "      <td>41</td>\n",
       "      <td>2</td>\n",
       "      <td>1</td>\n",
       "      <td>24</td>\n",
       "      <td>32</td>\n",
       "      <td>24</td>\n",
       "      <td>4</td>\n",
       "      <td>8</td>\n",
       "    </tr>\n",
       "    <tr>\n",
       "      <th>Military academy</th>\n",
       "      <td>6</td>\n",
       "      <td>6</td>\n",
       "      <td>1</td>\n",
       "      <td>1</td>\n",
       "      <td>6</td>\n",
       "      <td>6</td>\n",
       "      <td>6</td>\n",
       "      <td>1</td>\n",
       "      <td>2</td>\n",
       "    </tr>\n",
       "    <tr>\n",
       "      <th>Neighborhood</th>\n",
       "      <td>394</td>\n",
       "      <td>394</td>\n",
       "      <td>3</td>\n",
       "      <td>1</td>\n",
       "      <td>94</td>\n",
       "      <td>139</td>\n",
       "      <td>58</td>\n",
       "      <td>6</td>\n",
       "      <td>9</td>\n",
       "    </tr>\n",
       "    <tr>\n",
       "      <th>Regional gifted center</th>\n",
       "      <td>10</td>\n",
       "      <td>10</td>\n",
       "      <td>1</td>\n",
       "      <td>1</td>\n",
       "      <td>8</td>\n",
       "      <td>9</td>\n",
       "      <td>9</td>\n",
       "      <td>3</td>\n",
       "      <td>3</td>\n",
       "    </tr>\n",
       "    <tr>\n",
       "      <th>Selective enrollment</th>\n",
       "      <td>11</td>\n",
       "      <td>11</td>\n",
       "      <td>1</td>\n",
       "      <td>1</td>\n",
       "      <td>11</td>\n",
       "      <td>10</td>\n",
       "      <td>11</td>\n",
       "      <td>2</td>\n",
       "      <td>3</td>\n",
       "    </tr>\n",
       "    <tr>\n",
       "      <th>Small</th>\n",
       "      <td>24</td>\n",
       "      <td>24</td>\n",
       "      <td>2</td>\n",
       "      <td>1</td>\n",
       "      <td>23</td>\n",
       "      <td>22</td>\n",
       "      <td>16</td>\n",
       "      <td>4</td>\n",
       "      <td>5</td>\n",
       "    </tr>\n",
       "    <tr>\n",
       "      <th>Special Education</th>\n",
       "      <td>4</td>\n",
       "      <td>4</td>\n",
       "      <td>1</td>\n",
       "      <td>1</td>\n",
       "      <td>4</td>\n",
       "      <td>4</td>\n",
       "      <td>4</td>\n",
       "      <td>1</td>\n",
       "      <td>1</td>\n",
       "    </tr>\n",
       "  </tbody>\n",
       "</table>\n",
       "</div>"
      ],
      "text/plain": [
       "                        School_ID  Long_Name  Primary_Category  School_Type  \\\n",
       "School_Type                                                                   \n",
       "Career academy                  4          4                 1            1   \n",
       "Citywide-Option                 4          4                 1            1   \n",
       "Classical                       5          5                 1            1   \n",
       "Magnet                         41         41                 2            1   \n",
       "Military academy                6          6                 1            1   \n",
       "Neighborhood                  394        394                 3            1   \n",
       "Regional gifted center         10         10                 1            1   \n",
       "Selective enrollment           11         11                 1            1   \n",
       "Small                          24         24                 2            1   \n",
       "Special Education               4          4                 1            1   \n",
       "\n",
       "                        Student_Attendance_Year_1_Pct  \\\n",
       "School_Type                                             \n",
       "Career academy                                      4   \n",
       "Citywide-Option                                     4   \n",
       "Classical                                           5   \n",
       "Magnet                                             24   \n",
       "Military academy                                    6   \n",
       "Neighborhood                                       94   \n",
       "Regional gifted center                              8   \n",
       "Selective enrollment                               11   \n",
       "Small                                              23   \n",
       "Special Education                                   4   \n",
       "\n",
       "                        Suspensions_Per_100_Students_Year_1_Pct  \\\n",
       "School_Type                                                       \n",
       "Career academy                                                4   \n",
       "Citywide-Option                                               4   \n",
       "Classical                                                     3   \n",
       "Magnet                                                       32   \n",
       "Military academy                                              6   \n",
       "Neighborhood                                                139   \n",
       "Regional gifted center                                        9   \n",
       "Selective enrollment                                         10   \n",
       "Small                                                        22   \n",
       "Special Education                                             4   \n",
       "\n",
       "                        Teacher_Attendance_Year_1_Pct  Student_Growth_Rating  \\\n",
       "School_Type                                                                    \n",
       "Career academy                                      4                      2   \n",
       "Citywide-Option                                     4                      2   \n",
       "Classical                                           5                      3   \n",
       "Magnet                                             24                      4   \n",
       "Military academy                                    6                      1   \n",
       "Neighborhood                                       58                      6   \n",
       "Regional gifted center                              9                      3   \n",
       "Selective enrollment                               11                      2   \n",
       "Small                                              16                      4   \n",
       "Special Education                                   4                      1   \n",
       "\n",
       "                        Student_Attainment_Rating  \n",
       "School_Type                                        \n",
       "Career academy                                  2  \n",
       "Citywide-Option                                 2  \n",
       "Classical                                       1  \n",
       "Magnet                                          8  \n",
       "Military academy                                2  \n",
       "Neighborhood                                    9  \n",
       "Regional gifted center                          3  \n",
       "Selective enrollment                            3  \n",
       "Small                                           5  \n",
       "Special Education                               1  "
      ]
     },
     "execution_count": 18,
     "metadata": {},
     "output_type": "execute_result"
    }
   ],
   "source": [
    "school_type=df_indexed.groupby([\"School_Type\"])\n",
    "school_type.nunique()"
   ]
  },
  {
   "cell_type": "code",

   "execution_count": 18,

   "metadata": {},
   "outputs": [
    {
     "name": "stdout",
     "output_type": "stream",
     "text": [
      "(-0.612647886258247, 3.735609366453981e-53)\n"
     ]
    },
    {
     "data": {

      "image/png": "iVBORw0KGgoAAAANSUhEUgAAAYUAAAEWCAYAAACJ0YulAAAABHNCSVQICAgIfAhkiAAAAAlwSFlzAAALEgAACxIB0t1+/AAAADh0RVh0U29mdHdhcmUAbWF0cGxvdGxpYiB2ZXJzaW9uMy4xLjMsIGh0dHA6Ly9tYXRwbG90bGliLm9yZy+AADFEAAAgAElEQVR4nO2deZyVVf3H398ZNodtYAYQwZlBXELMlbKFRMI0y9QsUyOXpB/+KHFJK2ssl5wif6YplUkSiwxk+cu9X2qIC+U2KBoJpiUDFAou4DIqCN/fH+fce59773OXmbn7fN+8nte9z3mWe57zMOdzzvd7zveIqmIYhmEYAFXFzoBhGIZROpgoGIZhGFFMFAzDMIwoJgqGYRhGFBMFwzAMI4qJgmEYhhHFRMHokYjIVBG5t9j5KCVE5FIRWVTsfBjFxUTB6BQiMlFE/ioiW0XkNRH5i4h8qNj56iyq2qqqRxY7H5kQkQdE5HUR6ZuQPl9ErkhIWysiRxQ2h0alYaJgZI2IDALuAmYDQ4FRwGXAe8XMV6UiIk3AJwAFji1qZoweg4mC0Rn2BlDVJaq6Q1XfUdV7VfUZSDY/iEiTiKiI9PL7Z4jIv0TkTRF5UUSmBtL/IiKzfQ9kjYhMCdxnsIjMFZGNIvJvEblCRKoD1y4Xkat8i/pFETk6cG2631weOO9jIvKE//0nRORjgWMPiMgPfR7fFJF7RaQ+rIBEZLWIHBPY7yUir4jIwSLST0QWicirIrLF/86INOV9GvAoMB84PXDP6cBU4Nsi8paI3CkiNwENwJ0+7dv+3I/4nt0WEXlaRA4P3GeMiDzon+k+IO6ZROT3IvKSL5OHRGR84Nh8EfmFiNztr39MRMYGjo8Xkft8b/JlEfmeT68SkYtE5J++HH4nIkPTlIFRaFTVNtuy2oBBwKvAAuBoYEjC8UuBRYH9JlwrtxfQH3gD2McfGwmM99/PAN4Hzgd6AycBW4Gh/vhtwA3+HsOBx4GzAtduB/4LqAZmAP8BJIvfXO6/DwVeB071eT3F79f54w8A/8SJ4i5+f1aKMvoB0BrY/yywxn8/C7gTqPF5PQQYlKa8XwC+7s/bDowIHJsPXJFw/lrgiMD+KP++PoNrAH7K7w/zxx8Brgb6AocBbya8vzOBgf74z4CVCb//GvBhX2atwG/9sYHARuACoJ/fP9QfOw8ndKP9fW8AlhT7/7Ztgf9Hxc6AbeW1AeN8hbDBV+R3RCorMovCFuALwC4J9zwjUpEH0h73lfQInHlql8CxU4BlgWtfCByr8b+5axa/GRGFU4HHE44/Apzhvz8AXBw49nXgTynKZ09fudb4/VbgB/77mcBfgf2zKOeJOCGo9/trgPMDx+eTWRS+A9yUcM49uF5Hg39//QPHFgffX8J1tb5cBwd+/8bA8c8QE79TgKdS3Gc1MCWwP9I/Z69i/9+2zW1mPjI6haquVtUzVHU0sB+wG64Vmem6t3E9gP8GNnqzwwcCp/xbfS3haff3bsT1HjZ6E8gWXOtyeODclwK/0+G/DsjiNyPs5n8vSDuupZ30G0AHMCDFc76Aq/g+JyI1OF/AYn/4Jlyl/FsR+Y+IXCkivcPug6u471XVV/z+YgImpCxpBE6MlJsvu4m4ing34HVfRhGiZSAi1SIyy5t53sAJDsSbmFKVye64nlWqPN0ayM9qYAdO/I0SwETB6DKqugbXYtzPJ72Na6lH2DXh/HtU9VO4SmkN8OvA4VEiIoH9BlzvYT2up1CvqrV+G6Sq48mCDL8Z4T+4yipIA/DvbH4jhCW41vJxwLNeKFDV7ap6maruC3wMOAbnN4hDRHYBvgRM8jb9l3CmtQNE5IDIo4X8bmLaelxPoTaw9VfVWTjzzhAR6Z/wzBG+7PN/BDAY1+sDZ5bLxHpgbJpjRyfkqZ+qdrWsjRxjomBkjYh8QEQuEJHRfn93XOX3qD9lJXCYiDSIyGDgu4FrR4jIsb4Seg94C9dCjDAcOEdEeovIiTgz1R9VdSNwL/BTERnkHZVjRWRSFvnN9JsR/gjsLSJf9o7hk4B9cSOtusJvgSNx/o1ILwERmSwiH/RO8jdwZpOw/Bzv0/cFDvTbOOBhYiLyMrBHwnWJaYtwPZajfMu/n4gcLiKjVbUdaAMuE5E+IjIR+Fzg2oG4MnsVJ/Q/6sTz3wXsKiLniUhfERkoIof6Y78CWkSk0ZfJMBE5rhP3NvKMiYLRGd4EDgUeE5G3cWKwCudQRFXvA24GngFWEF+pVvnz/oNzUE7C2eYjPAbsBbwCtABfVNVX/bHTgD7AszgH8C24ln8mMv0mPt+v4lrtF+AqwW8DxwRMN53CC9kjuN7AzYFDu/q8v4EzmzyIq7gTOR2Yp6rrVPWlyAb8HJgqbjTXXGBfb4a5zV/3Y+Bin3ahqq7Htfa/B2zGtdK/Rezv/su49/kacAmwMJCHhThz0r9x5f4oWaKqb+Kc2p/DmZieByb7w9fi/FD3isib/r6Hht3HKA4Sb8Y1jMIjImcAX1PVicXOi2H0dKynYBiGYUQxUTAMwzCimPnIMAzDiJK3noKI/EZENonIqkDaUD/1/Xn/OcSni4hcJyIviMgzInJwvvJlGIZhpCZvPQUROQw3BHChqu7n064EXlPVWSJyES5MwndE5DPATNysyEOBa1U144iE+vp6bWpqykv+DcMwKpUVK1a8oqrDwo71ytePqupD4qI8BjkOONx/X4ALH/Adn77Qz2h9VERqRWSkH9qXkqamJtra2nKZbcMwjIpHRBJn8EcptKN5RKSi95+RUAWjcGOoI2wgPsRAFBGZLiJtItK2efPmvGbWMAyjp1Eqo4/Cps6H2rVUdY6qTlDVCcOGhfZ+DMMwjC5SaFF4WURGAvjPTT59Ay6IVoTRuFmohmEYRgEptCjcQSzS4+nA7YH00/wopI8AWzP5EwzDMIzckzdHs4gswTmV60VkAy62yizgdyIyDVgHnOhP/yNu5NELuBC8X81XvgzDMIzU5K2noKqnqOpIVe2tqqNVda6qvqqqU1R1L//5mj9XVfUbqjpWVT+oqnkbUtS6pJWm/Zqoqq6ifkw99bvXU1VdRdN+TbQuac3XzxqGYZQFeesplCKtS1qZ3jydjrkdMBFeXf6qW39rPrSPbmf6tOkATD1lajGzaRiGUTTKOszFhAkTtDPzFJr2a6J9dnssiC/AMty0uVXue+PMRtauWpvbjBqGYZQQIrJCVSeEHetRPYV1q9e5xQjBrY3VgotqPwBnSNsX2p9NOafDMAyj4imVeQoFYWjDUFiOE4RmYDbwLnAbbrHB40F2FfMtGIbRY+lRovDu2++6Nby+j1u3ajJuSfjJfv820FaluaU5ziFtTmjDMHoKPcp89PYrb0NkmfIjcKveTsb5FVbjVqLdAO2r2+Mc0u3LzQltGEbPoEf1FOjltxF+fzPwG5wgjAPOBS4GdsEJQqAn0TG3g+aW5qRbWo/CMIxKoueJwiDg1zhfwm+BemA+zr+wGDgVF4kpcbXgic5RHRSBgbsN5Cv/9RXaV7ej45T2410Pw4TBMIxypWeJQjWu0p8J9POfp+J6CC8R9SvwNq7nUA3sh3NML4ehuw1levN02me3o+8qb7W+BXXEiUrHl8N7FIbDelaGUeKoatluhxxyiHYGBGV3lPtRtvnPESjVKANwxweg7IJyfOCc0Sg1/tj9aNy/+336eJRmlCaUKjdJe9HiRdo4vlGlSrRxfKMuWrwoNK2z5OIexWDR4kVaM6YmrvxrxtSUTf4No1IA2jRFvVr0ir07W6dFYWCKSn2wr9AjItCAUotydkLFL/6c4L9tTgS4H2WMP6c/OuPsGUkVYHV9tbIr3aoUy7libRzfGFr+jeMbi501w+hRmChECiJSqS/2Lfsq/yn+MygUY1GGBCr+SC8iTFTGB77XooxCq4dUJ587Nvz66iHVWVfq5VyxSpWEiqpUSbGzZhg9inSi0LN8Cv2By4hNXJuPczgDtONWdFiCczK/CGzxx5bj1ogbCEwB9gRuwg1lnebvh7/uDWAj7NiyI9lZ/SKhDuwdW3dk7aCOm5UduMe61esyXltsGsY1uLIMstxNKjQ/g2GUCKnUohy2TvcUdvEt+Wacn2BEvCmHXX2PYJQ/NshvvVF2I9kXMcL3OhJ7GGNT9BRGpehpePNVNq39cu4phJm++jT00d7De6c1h5WrD8UwShXMfOQLQnylX+s/x4ZU6uMDlf6nApV2qso8KBQNKPWoDBXtP7R/suj09+ckXjPC/W42ZpQZZ89QGSll6VNQTa7g60bXpRW5cvahGEapYqIQKYhdQnoHYwLCEHEaBwVCfVoqB3Ot/4yMWhrsK//7URZ64RGUkf5zIfH+jIX+u7jeRbrWcLSCbI7dQ2pFZ5w9o1PlUEpk8jOUc8/IMEoVE4VIQXhH8Uf/gnt00G/MRGVfX9k045zLQQd0lU9L5WCOmIwiQ1L7ExupNBjlqIAw1Ka4T8RclWBWqRtdFycSlVhBZnomc04bRu4xUYgUhB99NGJjTBSC29TBKEuJ9zEs9JV9wlDSaA8jMjLpbJThJJuHRhCb8xB2nwbcHIgwsRhLnMkk1ZBYqZKytbtnMg9VohAaRrExUYgURMKQ0sYX0WUHJIvD9mr0mDuINyE145zO4nsOwTkMI/15KYacRoe2Jt5nACr9Jd48FRwuO4CYacsPXQ2ajiK9k7rRdQW3u+dShNLdy3wKhpF7TBQiBVFFsk9hBMoMdJygT+2fLBD/wolH1IcQ7Ck0+5b+aH8sle9BEvariJmDInMk7vcCMIbUPZIqknsau6L9h/UvaGu60BV1ufaCDKNUMVGIFMQAnIlnYKylHnUKRypmRSc8jr7YmCwQL/RGD1qR0AOIOIrT9RRq4/frmgIt+4gvYjipfQ7jAz2FxOORnkckD0GnudDpSjQqVlX+90LuYSYdwyhvTBQiBREZ/RMZKVSDcwaL7zGExEXacwS6qj5ZINoOQveWgDhEHMlhPgXBxUQ63o0WihsOu9gLQqS3kWKUU6hPIV3PIiAm2bbiw3oAkR5R8B7m/DWM8sZEwdNvWD9XGR+P6yEkmpIGE7P3j/UCEnAWH/+HZHFQ0D83oaPXEZsQFxl91ETMB5DOWd1EUm8l2AKPhMFoHN8Y71NINSpqLPFDbbNsxafqAUTyFbmH9RQMo7wxUfAsWrwoNmcg1eziVCac4ES1pejpg8IF4pbj0fpNyS39VBV+tIKPxGRKaPnXjKnRGWfPiPkfgkKWzoexOD4tm1Z8qh5A5Hci9zDnr2GUNyYKwcIY5FvtqSKepksP9gB8pSt/Rs/tFS4QN56JDrwzoeIPq3CDvojA6KOq2qr4aKuJwpJKaMYmp+Wyp6Das5y/PelZjZ6BiUKwMCKjfcYSOryTQSkq2ohZKZVgVKG9+qGX9A8XiKvq0L5/CrnvADektNeoXknzF3oP7611TYEwEInCEtKzyCaWUCqy9Sn0JKxXZFQiJgrBwhjgK9cZhA7vpJpkh3NknYSI7T+xYm8KiMMo97lLf/Sa6nCBuPgStPo+lBFEK5e60XVOqIKjiO5PEKKwnkGzHyUUGC1UN7pO65rqutSyzWb0UU/C/CdGJWKiEKBudJ3zD6QaPhpZcCfSgxgdq+hpQqlPOB5ZjKcZ56tIFJlmdNBmdN5R4QKh112numNHant+cMJdSM9ARrrRTOUcJK+UKcRIKzNPGYXGRCHAosWL3HDUdKagyOijGSQPMR1FzBkdDFWRKpJqwuI9w/dBb/14uEB85SKUnfHnJ81WbvbDWn0wvKhAWWs2L+S7p2DmKaMYmCgksGjxIpVBktpJGxyimqUjN+1SnQmrvEVbg2vXqk6alCQO71ehn/uh8w+kWtc5rrJK4cS2eQPdJ9+VtpmnjGJgohDCosWLkucpNBA/lDPdiKHEtFRLdUZGOwVMSmEVyh1X/kRXhoxienfAANUHHkg6P2rWWEx8ZNfIhLix9Hh/QK7Ip3nHJgIaxcBEIYRFixe5CWwR5+4A3GS14L9ODPmkhmRT0+5eELKYSBZsMaYKs6F77KHa1hY7P3LvxN+sx8wRZYL1FIxiYKIQQlKlmmJkT9QpHZlPUEvyimveoRwX4XQszkmtgftr6lZgaItxITq5H/p6iP/hlaYm3Wdg9qJllUxpYj4FoxiYKIQQZ36JLKiTOHqoNiRtN5S+RCey1TXVZZy/EL1/mgo6qcW4OLnncdLwPsm9B9A/f9KH2Yj8boh5y8wRpYuNPjIKjYlCCKGVcDBu0aiAIAT/3e+EIPiHHF3nIHivyGprkUlxI91nxHmcSFKLMcWQ2cbxjao7d6rOmxcqELd8Aq1vsp6CYRipKTlRAM4FVgF/B87zaUOB+4Dn/eeQTPfprk8hWgkvTG6VR8b/p41aGuxBRKKhjvZbyKzgqtqqtK3AoNCkW2UteH7/pl303K8ni4OCzj3dhdkwc4RhGEFKShSA/bwg1AC9gD8DewFXAhf5cy4CfpLpXt0RBdXA7N0UI4dC1y9Ik552TQVvQsq2cs7WARkUkrH7NujTXzghVCD0/PNVOzq6VV6GYVQGpSYKJwI3Bva/D3wbeA4Y6dNGAs9luld3RSFCytnEktwjSLdWctrV17zzOdtW+4yzZ0QnqUVMUJ1q8Xd0qJ53XrhAXHaZ6vbt3Sw1wzDKlVIThXHAP4A631t4BJgNbEk47/UU108H2oC2hoaGLhXIosWLXLgL7z+oqq2K9wkEWuUZJ44l9gZSDWMdTDSeUbrWfuP4xvjIqAFz1oyzZ3TpeXXLFtXTTw8XiGuvVd2xo1NlZ05RwyhvSkoUXH6YBjwJPAT8CrgmW1EIbl3pKcw4e0b4AjuRYaVZDAuccfaM1AvmhIwaYgTKUan9AkkCUBs+2zonzuKXX1Y9/vhwgViwwDmxU1CJwydN5IyeSMmJQlwG4EfA1wthPlq0eJFzIKew+1cPqc6qckhaAa02XlCq66tj60BHAualqNxDex2FCluxdq3q4Ycni4OI6u23hz93BU20qkSRM4xsKDlRAIb7zwZgDTAE+J8ER/OVme7TWVGIVmpp7P6qmVuPST6IwFyHyPlSJW5UU+KM4xHxzuZQf0YxAtw9+6zqgQcmC8SQIarLlqXOaxnPgag0kTOMbClFUXgYeBZ4Gpji0+qApX5I6lJgaKb7dFYUopVaikpXaiXUnp/YesymMomekzDLuW50XVyeQu/VnH0o7LyYPx5/XLWpKUkg2nv30oN/VTmVaKWJnGFkS8mJQq62LvcUFpM8U9nPJUg13DRxKcpMwpHqnMh6y+mcymHnZTXhLR/mj/vvd72FBIFYcSC6z/zyNrdYT8HoqZgoeOIq0chs42B00TRrNCe2HrNpoWczqihbAQij4JXarbcmiYOC6uTJqu3t+fnNPGI+BaOnYqIQoKsT1upG16WtuMNEIjEtbr3lHFTiRTN/7NypOn9+uEB8/vOqmzbl9/dziI0+MnoiJgohpDPvJKb3Ht5b+zT0SdmiDLtXn4Y+2nt473gTVZpeSFcqp5Iwf+zYofqzn4ULxFe/qrp1a+HyYhhGVpgopCBVRZxVC785NoQ1KSCer5yTQlinGAqbtORmlmaMkjN/bNvmZktbmA3DKGlMFLpJ6BDUxKGmwYV0lPAQ1gtJmjRXM6amW2alzvQwCmoq6ehwQpAqzMa2bfn7bcMw0mKi0E2SzDSpQlmMT9gPWewmzDdRCN9AUXsVW7Y4U1IOwmwYhtF9TBS6SVKFmi7oXRqfQtiw1XRO77qmujS56hwl4X9QdWE2Pv/5cIGYPz9tmI3OYA5kw0iNiUIOCFYyVYOrsgqTka5iihOa0STHS2pInujWHUpyolZ7uxvOGiYQIWE2sqXkfC2GUWKYKATobgty0eJFrgeQUIlHVlTL9v5xLfcq728IzptYSDTsRneI9kbEm7OCfo9Smqi1erXqQQcli0MgzEa2lEyvKAusR2MUAxMFTy5akKnCV/Qf1t+F4w5xJIfdP67lnibsRncqibDnpcELTim3np94QnXMmGSBaGpyxzJQkr2iEKxHYxQLEwVPLlqQ6RbkSbuucrq8pAm7Ebk2l/MYGED5tEpThNnQAw90vYsQyqWnUC75NCoPEwVPd1qQmZzCjKVTIa+TWokpwm5IlQvSl22AvFw9b0ly220urHeiQBx+eFyYjXJpgVfc+zHKBhMFT1dbZnGVzELCF9GJ+AQ6cf9g6z9leI2mui4vulOxLdGdO92CQGEO6uOPV3355bzY6nN9z4p9P0bJY6Lg6WoLMumPd7HvGfj1E+pG18X8DAmT2rJtoabKW93oui4vulOKLeacV9Y7dri5DmECccYZbo5EjvKd67Isxfdj9AxMFAJ0pVLK1M1P6kl4wahrquvUH3hY3qRKurXoTimNbsl7JZguzMZ553UrzEa+WvWl9H6MnoOJQgKd/UPMpkLI1x934/hGF1cpoQciI7s3MinXZPP8BTWXpAuzcemlnQ6zYfZ/o5IwUQjQldZqLlq4XRWN6G8H1oSOrBBXKmRbPkWrWNOF2fjZz7IKs2H2f6OSMFEI0B1nc1cr9bqmutiQ1S7MESh1E0O2ZVoSFWsXw2yY/d+oJEwUAhSytRo6eSwSTbWCWpnZlmnJVazpwmzcdlvS6aUuzoaRLSYKAQrZWk05eWx8YcwmharE0pVp2JKkJVmxpgqzUVvrJtCVCSZcRjaYKAQoZGs15eznqvz3FAr5nJ1Zxa4sTC6pwmw0NmYVZqNYlFxPzChZTBQSKHYLmrH5/2MttP0+rExLwofQXVKF2TjgANVnny127uKoiPI2CkI6URB3vDyZMGGCtrW1FTsbKWld0sr05ul0zO2AicBy4BSo613HtVdey9RTpubtt6uqq9B3FXoHEreD9BN27tiZt98ttTzklNtvh89/3slCkEmTYOFCaGgoTr48FVfeRt4QkRWqOiHsWFWhM9OTmHrKVOa0zKFxZiPST2ic2ciiaxbxyvpX8ioIAA3jGpwIBVnu0wtEKeQhpxx3HOzc6bYFC2LpDz4IjY0g4kRj06aiZK+75d26pJWm/Zqoqq6iab8mWpe05j6TRumTqgtRDlshF9kpN0rBvlwKecg7O3aoXnddsnkJVE8/PWdhNrKhO+XdI96VEQXzKeSXUh3xUQr5yjYPpZDXbrNtm+rll4cLxLnndivMRrZ0tRzNH9GzMFHII+XcwiqViricyzAlHR2q3/xmuEBcckmnw2zkGwvj0bMwUcgj5drCKqWKuFzLMGu2blU988xwgbjmmqzCbOSbin8HRhwmCnmkXFtYuaoEctHbKNcy7BKbNql+4QvhAjFvXsowG/mmlBoJRv4xUcgj5drCykVFnKuKpFzLsNusW6c6ZUq4QNx6a8GzUyrmRCP/mCjkkXJtYeWiIs5lb6McyzCnrFmjesghyeIweLDq0qXFzp1RYeREFID+2Z5bqK0UREG1PFtYuaiIc2n2KccyzBttbap77JEsEI2Nqo8/XuzcGUUmF38r3RIF4GPAs8A6v38A8MtM1xViKxVRKFe6+5+rUs0+JSVQDzygWleXLBAlGGbDyD+56lV3VxQeA3YHngqkrcp0XSE2E4XiUolmn0I/U6cE6PbbVaurkwVi0iTVtWvzkj+jtMhVQ6zbouA/g6LwdKbrCrGZKHSNXLaES6pVnQMK2fvpsgDt3Kl6003J4gCqxx3nFhIyKpJcmWy7Kwq3eBPSk0Af4ELgt5muy3DP84G/A6uAJUA/YIzvlTwP3Az0yXQfE4XOU4mt+1xSyOGxORGgHTtUZ88OF4gCh9kw8k+p9BTqgVbgZWATsAioy3RdmvuNAl4EdvH7vwPO8J8n+7RfATMy3ctEofNUqh8gVxSyfHIuQNu3q/7wh+ECUaAwG0Z+KQmfQq43LwrrgaFAL+Au4CjgFaCXP+ejwD2Z7mWi0Hl61ESxLlDInlReBeidd1QvuCBcIEowzIaRPaUw+mgBUBvYHwL8JtN1Ge55LvAWsNn3QuqBFwLHd0/lzAamA21AW0NDQ6cLo6dTCT2FfPsxCuUnKZgAbd2qOm1auECUSJgNo7B0VxSeyiYt282Lyv3AMNxyILcBp4aIwt8y3ct6Cp2n3H0K5Z7/RAruqC/RMBtGYemuKDwNDAnsD82mwk5zvxOBuYH904DrzXxUOPJVERWigquEnk4xCb6jj+w9Sv8zfny4QBQhzIZROLorCqcBq4Ef+m0NcGqm69Lc71A/8qgGEG+emgn8PsHR/PVM9zJRKB0K1YI3n0jXSfuOLMxGj6LbjmZgPHC2r7z3zeaaDPe7zIvLKuAmoC+wB/A48IIXiL6Z7mOiUDoUqgVvPYWuk3XZrVihOnZsskA0NFiYjQohnSiIO54eEakGRuBGCwGgqusyXphnJkyYoG1tbcXOhkHhFo1vXdLK9ObpdMztgInAcqiZVsOcljl5X/e63OnSO3rwQfjCF+DVV+PTDzgAliyBcePyll8jf4jIClWdEHasKouLZ+LmKNyHGz56t/80jCjdXTQ+W6aeMpU5LXNonNmI9BMaZzaaIGRJl97RpEnwyiuur3DHHVBd7dKffhr23RdE4PDDob09X9k2Ck2qLoTGTD0v0I3JavnczHxUOlTaqKBKJGfvyMJslD1009G8DD8qqNQ2E4XSotLiIFUiOX9H6cJsnHaahdkoUdKJQkafgojMBfbBmY3eC/Qwrs5P3yV7zKdgGCXE++/DrFnw/e8nHzvnHPjxj6GmpvD5MpLolk8BWIfzJ/QBBgY2wzCMGL16wcUXu37CO+/ABRfEjl13HfTv73wQl1wC27cXL59GWjKKgqpeFrYVInOGUWhal7TStF8TVdVVNO3XROuS1mJnqTzp1w+uusoJxNatMG1a7Njll0OfPk4grrkGduZudJrRfbIZfTRMRP5HRP4oIvdHtkJkzjAKSWS4a/vsdvRdpX12O9Obp5swdJdBg+DGG51AbN7shrhG+OY33YgmEfjNb9w5RlHJxnzUiptoNgY36Wwt8EQe82QYRaG5pdnNf5iMG8s/GTrmdtDc0lzsrFUO9fVwyy2u8l+3DqZMiR2bNg2qqpxA3Hpr8fLYw8lGFOpUdS6wXVUfVNUzgY/kOX0fRZUAABvISURBVF+GUXDWrV7nJsQFmejTjdyz++7w5z87gVizBg45JHbshBOcOAweDEuXFi+PPZBsRCHiEdooIp8VkYOA0XnMk2EUhUJNwDNC2GcfaGtzAvHkk7DXXi79jTfgiCOcQDQ0wOOPFzefPYBsROEKERkMXIBbivNG3HKahlFRtDS3UDOtxs3M2Q4scyE0Wppbip21nsVBB8E//uEE4sEHnckJYP16OPRQJxD77w/PPlvcfFYo2Yw+uktVt6rqKlWdrKqHqOodhcicYRQSC6FRghx2mHNOq8Kdd7phrwB/+xuMH+8E4rDDYO3aomazkkg5eU1EZgMphwKo6jn5ylS22OQ1w+iBqMLixfCVryQf+9zn4Ne/hhEjCp+vMqKrk9fagBVAP+Bg4Hm/HQjsyHUmDcMwskIEpk514rBjB/ziF7Fjd94Ju+7qzjntNNiypXj5LFNSioKqLlDVBcBewGRVna2qs4EpOGEwDMMoLlVV8PWvO4HYvh1aAv6fm26CIUOcQJxzDnR0FC+fZUQ2jubdiA9rMcCnGYZhlA69esH3vhcLs/Gtb8WOzZ4dC7Pxgx9YmI00ZCMKs4CnRGS+iMwHngR+lNdcGYZhdId+/eDKK51AvPEG/Nd/xY798IexMBtXX21hNhLIZvTRPNy6yrf67aPerGQYhlH6DBwIc+bEwmyceGLs2AUXWJiNBLLpKQBUA5uB14G9ReSw/GXJMCoHC7BXYtTXw+9+5yr/9evhU5+KHQuG2fjDH4qXxyLTK9MJIvIT4CTg70Ckn6XAQ3nMl2GUPYnrSbcvb2f6tOkANvehFBg9Gu69133/xz/cENcnfFi3SNC+gQNdHKZgjKYKJ5tFdp4D9lfV99KeWARsnoJRyjTt10T77HYXYC/CMmic2cjaVWuLlS0jE089BSedBM8/H5++++4umN+HP1ycfOWQ7i6y8y9czEjDMDqBBdgrUxLDbAwb5tJ7SJiNbEShA1gpIjeIyHWRLd8ZM4xyxwLsVQCHHQabNjmBuOsu6O3bxxUcZiMbUbgD+CHwV9wM58hmGEYaLMBehfHZz8K2bW4Ia2tgwMDDD8OYMU4gjj0WXn65eHnMARl9CgAisgvQoKrP5T9L2WM+BaPUaV3SSnNLM+tWr6NhXAMtzS3mZK4kVOH66+Eb30g+duqpbm3q2trC5ysD6XwK2TiaPwdcBfRR1TEiciBwuaoem/usdg4TBcMwSob333cT5ppDVuqbORNmzYKamsLnK4TuOpovBT4MbAFQ1ZW4pTkNwzCMCBUSZiMbUXhfVbcmpNm0P8NIhSr86EduCOMuuzhH5MqV6a/ZsQN+8hP4xCegrs5tRx4ZGzcf4bnnnKli3DjX6txjDzj33NKLBnrbbW6ETt++zt5+9dXpzz/vPFdhXnhh5ntv2waXXw577unKd8894ZJL4L2EUfN//7srw5oaN2ltxgx4662uP1NnKOcwG6qadgPmAl8GnsFFTJ0N/CrTdYXYDjnkEDWMkuNHP1Lt10919mzV++5TPfpo1bo61Y0bU1/z5puqtbWq55+vevfdqn/8o+pnPqPap49qW1vsvNmzVQ84QPXaa1WXLVOdO1d15EjVD31IdceOvD9aVixfriqiOm2a6j33qF5+uWqvXqrXXBN+/t//rjpwoOqgQaoXXJD5/uefr7rLLqo//anq/ferXnWVK+9zzomds2WL6vDhqhMnqt5xh+q8earDhqked1xOHrHLbN6seuKJqk4u4re5c1V37ixINoA2TVXnpzoQPQFqgBbgCb9dAfTNdF0hNhMFo+R45x1XuV12WSztrbdU6+tVm5tTX/f++6qvvRaf9t57qo2NqmecEUt75ZXkiuOee9yf8gMPdDv7SZx+uts6w5FHqn7iE/Fp55+vOmSIe6ZEpkxRvfhi96zZiMKIEarf/Gby/YcPj+3/6EdOaF5/PZZ2++2unJ54IutHySvr16t+6lPhAnHLLXn96XSikI356LOq2qyqH/LbxUDRncyGwd13u1g1L74Yn/7iiy79jiKsGvvXvzpzwZe+FEvr39+tCPZ//5f6uupqF/s/SJ8+biz8pk2xtLo6Z3YIctBB7jNy3pYtLoTDaafFn3fssbD33vlfV2DlSjjiiPi0I4+E11+HRx6JT7/lFli9Gi66KPv7b98OgwfHp9XWxgezW7kSJkyIH/lz5JGu7O6+O/vfyieRMBuqziz4oQ/Fjn3xiy6vgwbBn/9c0GxlIwrfzTLNMArLpz8Nu+0GCxKC9s6f72ahfuYzqa/dscONFkm3dcXWu2aNq+D32is+fdw4d6wzvPcerFgB++6b/ry//tV9Rs6rrYW5c90iM7fd5tLmzXOV4fz5+R8B8+67TtCC9O3rPlevjqW9846LUjprlhPObPna1+CGG+Avf3E+gocfdsNCzz47fR569XKNhWAeSoW994bHH3cC8eSTsf8/b77pgvaJQEODOyfPpBQFETnar9M8KjiT2a+p8H7ec2YYmaiuhjPOcKIQaSWquv1TT40t8h7GlCludmq67cwzO5+n11+HAQNc3oIMGeJa6Nu2ZX+vlhZ3v699LfU5HR2ulT1pkutVRDjqKJg+Hc46y8XyOf9858T92MfS/2aiWEYMGp0Ryz33THaQRyqz116Lpf34xzByZPhay+mYNcsFrJs40QWsO+wwOOEEN6onmIenn44f5bNihXu+YB5KkWCYjYceCg+z8fGPu2fJB6nsSsABwOlAu/+MbCcAQ1JdV8jNfAqG/vOfzql5//1uf+lSV42tWpX+ujVrnG053fbii6mv37lTdfv22Pb++y79iiucwziROXNcvrZty+657rpLtaoqtXM2koeTT1YdOtSVQyJvvqk6Zoxq376q48ervvtu5t+dNCncxh3cMvkY5sxRra52n6+9pvqnPzknL6jOmuXO+de/nLP4kUdi12XrU/jJT5x/YvZs1QcfVL3uOtXBg1W///3YOatXuzycdZZz8K9apXrwwS7t05/O/BulyF13qfbuHXsP3fAh0U1H87dD0s7NdF0hNhMFQ1VVJ09WPfVU9/0rX1H98IczX/P++/GVetiWbjTPsmXxFeWkSS79F79wFU9EJCJceaVqTU12z/P446r9+6vOmJH+vG99y1X4Dz2U+pyZM13+rr46u99OFMtjjnFbtmKp6p79G99w5QDuuWfPdt/nzXPnfOlLqiec4BzBkW333VXPPtt9TzUKZ/NmVzHOmROf/qtfuRFOL78cS5s71zn9wQnsf/+36iGHdN5xXmrs3Km6YUO3Rip1VxSeDEl7KtN1ae63D7AysL0BnAcMBe4DnvefGXsjJgqGqqq2trqKZ8MG93n99Zmv6W6L+I034ivKNWtceqSnEtmPcOaZrqWaieeec63qY49NFpYgV1/tekg335z6nCeecBXlQQe53kS6IbGp6Mroowivvab6zDOux/LEE65cVq92xw44IH3Zr18ffs/HHnPHH388u/R33nF5eOklV56DB2f3/6PCSScKKY2uInIKbn7CGBEJDuMYBLzSDXPVc8CB/jeqgX/jlvm8CFiqqrNE5CK//52u/o7RgzjhBDeh6+STnb375JMzX3PDDc6Jl476+tTHBg50o1sS+djH3IiR3/8eLr7YpXV0wJ13Oht/OjZudL6AsWNhyZJkv0SExYudg/anP40f5RTk3Xfd6KOjjnIrjR1wgPv9Qo7IGjIkNqLql790ZfOBD7j9G29Mnkh28snONzJjRsyOnkhjo/t88sn40TorfIzOpqb48/v1gw9+0H1fsMD9/0hVZgaQfuW1vwIbgXrgp4F0xa3ElgumAP9U1XYROQ443KcvAB7ARMHIhn79YOpU+MUv4JRTsgtAts8++cvLRRe5WatDhrhKMDJrdebM2HkLFzpH9j//6Sq6d96Bo492juWf/xyeeSZ2bt++sWGnDz7onOtHHgkf/Sg8+mjsvNGj3QZOkF56CZYudaONFixws6Xnz3fX55NHH4Xly+HAA93w3CVL4J57XFqEMEHt18/NAj/88FhaYjmNGAHHHw/f+Y4Tvv33d8NPL73Urb0cEZM33nCO+sMOcwMOli1zIvrrX8PQofl8+vInVRciuOFa9lcCa3GBgM/O5ros7vubyL2ALQnHXk9xzXSgDWhraGjIT9/KKD/uu8+ZD+67r9g5cbbeK65QHTXKzbSdOFH1ySfjz5k3z+U3Yp9/8cXUppTGxth1l1yS+rxLLnHnLF/ubOitrfG/eeGFznySyjQTRlfMR21tqhMmOL/IwIFuZvYzz2S+LszRnFhOqqpbt7rz9tjDle/Ysc6/8sYbsXPeestNDBsyxJ0zYYLqrbd27jkqGNKYj1JGSRWRvYGTgVOAV4GbgQtVtTEXYiQifYD/AONV9WUR2aKqtYHjr6vqkNR3sCipRoBvfxtuvjk2cc0wjJSki5Kazny0BngY+JyqvuBvdH4O83U0zokdWZHiZREZqaobRWQksCnNtYbheO45tyzi9de7oGgmCIbRLdL9BX0BeAlYJiK/FpEpgKQ5v7OcAiwJ7N+BmweB/7w9h79lVCpnnQVf/rKbvXzOOcXOjWGUPdksstMfOB5XiX8S5wS+VVXv7fKPitQA64E91IflFpE64HdAA7AOOFFV0049NPORYRhG5+mq+QgAVX0baAVaRWQocCJuuGiXRUFVO4C6hLRXcaORDMMwjCLRKQOsqr6mqjeo6ifzlSHDMAyjeJhXzjAMw4hiomAYhmFEMVEwDMMwopgoGIZhGFFMFAzDMIwoJgqGYRhGFBMFwzAMI4qJgmEYhhHFRMEwDMOIYqJgGIZhRDFRMAzDMKKYKBiGYRhRTBQMwzCMKCYKhmEYRhQTBcMwDCOKiYJhGIYRxUTBMAzDiGKiYBiGYUQxUTAMwzCimCgYhmEYUUwUDMMwjCgmCoZhGEYUEwXDMAwjiomCYRiGEcVEwTAMw4hiomCUPa1LWmnar4mq6iqa9muidUlrsbNkGGVLr2JnwDC6Q+uSVqY3T6djbgdMhPbl7UyfNh2AqadMLXLuDKP8sJ6CUdY0tzQ7QZgM9AYmQ8fcDppbmoudNcMoS0wUjLJm3ep1MDEhcaJPNwyj05goGGVNw7gGWJ6QuNynG4bRaUwUjLKmpbmFmmk1sAzYDiyDmmk1tDS3FDtrhlGWmKPZKGsizuTmmc2sW72OhnENtLS0mJPZMLqIqGqx89BlJkyYoG1tbcXOhmEYRlkhIitUdULYMTMfGYZhGFGKIgoiUisit4jIGhFZLSIfFZGhInKfiDzvP4cUI2+GYRg9mWL1FK4F/qSqHwAOAFYDFwFLVXUvYKnfNwzDMApIwUVBRAYBhwFzAVR1m6puAY4DFvjTFgDHFzpvhmEYPZ1i9BT2ADYD80TkKRG5UUT6AyNUdSOA/xwedrGITBeRNhFp27x5c+FybRiG0QMohij0Ag4GrlfVg4C36YSpSFXnqOoEVZ0wbNiwfOXRMAyjR1IMUdgAbFDVx/z+LTiReFlERgL4z01FyJthGEaPpuCioKovAetFZB+fNAV4FrgDON2nnQ7cXui8GYZh9HSKNaN5JtAqIn2AfwFfxQnU70RkGrAOOLFIeTMMw+ixFEUUVHUlEDabbkqh82IYhmHEsBnNhmEYRhQTBcMwDCOKiYJhGIYRxUTBMAzDiGKiYBiGYUQxUTAMwzCimCgYhmEYUUwUDMMwjCgmCoZhGEYUEwXDMAwjiomCYRiGEcVEwTAMw4hiomAYhmFEMVEwDMMwopgoGIZhGFFMFAzDMIwoJgqGYRhGFBMFwzAMI4qJgmEYhhHFRMEwDMOIYqJgGIZhRDFRyDGtS1pp2q+JquoqmvZronVJa7GzZBiGkTW9ip2BSqJ1SSvTm6fTMbcDJkL78namT5sOwNRTphY5d4ZhGJmxnkIOaW5pdoIwGegNTIaOuR00tzQXO2uGYRhZYaKQQ9atXgcTExIn+nTDMIwywEQhhzSMa4DlCYnLfbphGEYZYKKQQ1qaW6iZVgPLgO3AMqiZVkNLc0uxs2YYhpEV5mjOIRFncvPMZtatXkfDuAZaWlrMyWwYRtkgqlrsPHSZCRMmaFtbW7GzYRiGUVaIyApVnRB2zMxHhmEYRhQTBcMwDCOKiYJhGIYRxUTBMAzDiGKiYBiGYUQp69FHIrIZaO/i5fXAKznMTilS6c9Y6c8H9oyVQCk+X6OqDgs7UNai0B1EpC3VkKxKodKfsdKfD+wZK4Fyez4zHxmGYRhRTBQMwzCMKD1ZFOYUOwMFoNKfsdKfD+wZK4Gyer4e61MwDMMwkunJPQXDMAwjARMFwzAMI0qPFAUR+bSIPCciL4jIRcXOT3cRkd1FZJmIrBaRv4vIuT59qIjcJyLP+88hxc5rdxGRahF5SkTu8vtjROQx/4w3i0ifYuexq4hIrYjcIiJr/Lv8aKW9QxE53/8fXSUiS0SkX7m/QxH5jYhsEpFVgbTQ9yaO63zd84yIHFy8nIfT40RBRKqBXwBHA/sCp4jIvsXNVbd5H7hAVccBHwG+4Z/pImCpqu4FLPX75c65wOrA/k+Aa/wzvg5MK0qucsO1wJ9U9QPAAbjnrJh3KCKjgHOACaq6H1ANnEz5v8P5wKcT0lK9t6OBvfw2Hbi+QHnMmh4nCsCHgRdU9V+qug34LXBckfPULVR1o6o+6b+/iatMRuGea4E/bQFwfHFymBtEZDTwWeBGvy/AJ4Fb/Cll+4wiMgg4DJgLoKrbVHULFfYOcQt77SIivYAaYCNl/g5V9SHgtYTkVO/tOGChOh4FakVkZGFymh09URRGAesD+xt8WkUgIk3AQcBjwAhV3QhOOIDhxctZTvgZ8G1gp9+vA7ao6vt+v5zf5R7AZmCeN4/dKCL9qaB3qKr/Bq4C1uHEYCuwgsp5h0FSvbeSr396oihISFpFjMsVkQHA/wLnqeobxc5PLhGRY4BNqroimBxyarm+y17AwcD1qnoQ8DZlbCoKw9vVjwPGALsB/XHmlETK9R1mQ8n/n+2JorAB2D2wPxr4T5HykjNEpDdOEFpV9Q8++eVI19R/bipW/nLAx4FjRWQtzuT3SVzPodabIqC83+UGYIOqPub3b8GJRCW9wyOAF1V1s6puB/4AfIzKeYdBUr23kq9/eqIoPAHs5Uc89ME5uu4ocp66hbetzwVWq+rVgUN3AKf776cDtxc6b7lCVb+rqqNVtQn3zu5X1anAMuCL/rSyfUZVfQlYLyL7+KQpwLNU0DvEmY0+IiI1/v9s5Bkr4h0mkOq93QGc5kchfQTYGjEzlQo9ckaziHwG18qsBn6jqi1FzlK3EJGJwMPA34jZ27+H8yv8DmjA/UGeqKqJDrGyQ0QOBy5U1WNEZA9cz2Eo8BTwFVV9r5j56yoiciDOid4H+BfwVVzDrWLeoYhcBpyEGzH3FPA1nE29bN+hiCwBDseFyH4ZuAS4jZD35sXw57jRSh3AV1W1rRj5TkWPFAXDMAwjnJ5oPjIMwzBSYKJgGIZhRDFRMAzDMKKYKBiGYRhRTBQMwzCMKCYKRqcQkWYf5fIZEVkpIocWO0+JiMhuInJL5jO7fP9LReTf/vlXicix3bzfn0RkSyTyayA9NHqoiPT1+y/4400h96zy0ThXicjfROQJERnjj32vC3lsCkYB7cL154lITVevNwqHiYKRNSLyUeAY4GBV3R83Q3V9+qsKj6r+R1W/mPnMbnGNqh4InAj8RkSy+lsKzNwN8j/AqSHpqaKHTgNeV9U9gWv8eYmchAslsb+qfhD4PLDFH+u0KOSA83AB8IwSx0TB6AwjgVciE4tU9RVV/Q+AiKwVkXr/fYKIPOC/T/It6pU+0NtAETlcRB4SkVtF5FkR+VWkUhWRI0XkERF5UkR+7+M5Re5/mU//m4h8IM39o61acfH65/lrnhKRyT79DBH5g2+lPy8iV/r0ahGZH2hhn5+uQFR1NW4iVr2IDBOR//Wt8idE5OP+npeKyBwRuRdYGHKPpcCbwTQ/ySlV9NBgBM5bgCn+/MR3tVFVd/rf2KCqr4vILFyU0pUi0prYAxCRC0XkUv/9EBF5WkQeAb4ROKdaRP7HP+MzInKWTz9cRB6Q2JoQreI4BydQy8St+9GpMjYKjKraZltWGzAAWAn8A/glMClwbC1Q779PAB7w3+8EPh64vhdu9ue7uMig1cB9uDAH9cBDQH9//neAHwTuP9N//zpwY5r7NwGrfNoFwDz//QO42aX9gDNws4YH+/12XEyaQ4D7As9VG1IOl+JmVAMciotdI8BiYKJPb8CFHYmcvwLYJU3ZHg7cFdivx4V4j+zvHnimVcDowLF/Rso+kDbal9lK4KfAQYFjbwW+R8vK718IXOq/PxN5x7jeTOT3pwMX++99gTZckLvDcZFPR+ManI8EymMtsf8fGcvYtuJt1lMwskZV38L9QU/HhXm+WUTOyHDZX4CrfWuxVmMhkh9Xt6bFDmAJMBG3QNC+wF9EZCUuZkxj4F6RQH8rcJVZuvtHmAjc5PO/Blf57+2PLVXVrar6Li4GTyNOKPYQkdki8mkgVbTZ830erwJOUle7HQH83KffAQwSkYH+/DtU9Z0MZRUkXTTNjJE2VXUDsA/wXVzok6UiMiXrHxcZjCvPB33STYHDR+Li96zEhVKpwy0aA+69blDXQ1lJ7D0FybaMjSIQZt80jJT4SvwB4AER+Ruu4p6PM6FEGhn9AufPEpG7gc8Aj4rIEZFDibfGVXb3qeopKX4+Eg9nB/7/bor7vxu4JqwCTbxf9J7qTCwHAEfhTCZfAs4MufYaVb0qIa0K+Ghi5e8tO2+nyUcYr+Cjh3qhC0bTjETa3OB9FINJXuQFdWa+/wP+T0RexpmfliacFnxvEHt3QuqQzoLrtd0Tl+hiUiWVaUi+si1jowhYT8HIGhHZR0T2CiQdiGt5gzMPHOK/fyFwzVhV/Zuq/gRnZviAP/RhcaNrqnBO0eXAo8DHRWRPf22NiERa9anylOr+ER4Cpvpz98aZdZ5Lc796oEpV/xf4Pi58dbbcC5wduNeBnbg2Dt/zSBU9NBiB84u4iLFxFbiIHCwiu/nvVcD+xN7VdnGh1sEFcBsuInUi0hc3kAB1q75tFRdsEXwZeu4BZkTuISJ7i1sQKB1vAgP9+d0pYyPPmCgYnWEAsECcc/gZnKnnUn/sMuBaEXkY10KMcJ53KD4NvINruYKzN8/C2cdfBG5V1c04W/8Sf/9HSa7kE0l1/wi/BKp9r+Zm4AxNH4FzFK4XtBLXA/puht8Pcg4wwTtfnwX+O5uLfJn9Hucw3iAiR/lD3wG+KSIv4Ew0c336XKDOp3+T8MV4hgN3eifyM7gewc/9sTnAMyLSqm5dg8txZqC7gDWBe3wV+IV3NAd7PzfizG1P+vvfQGarwxxcj2UZ3StjI89YlFSj4Egg9HWx82IYRjzWUzAMwzCiWE/BMAzDiGI9BcMwDCOKiYJhGIYRxUTBMAzDiGKiYBiGYUQxUTAMwzCi/D8x20YJevcM6QAAAABJRU5ErkJggg==\n",
      "text/plain": [
       "<Figure size 432x288 with 1 Axes>"
      ]
     },
     "metadata": {
      "needs_background": "light"
     },
     "output_type": "display_data"
    }
   ],
   "source": [
    "#regression suspensions on attendance\n",
    "x_values = df_indexed[\"Suspensions_Per_100_Students_Year_1_Pct\"]\n",
    "y_values = df_indexed[\"Student_Attendance_Year_1_Pct\"]\n",
    "correlation=st.pearsonr(x_values, y_values)\n",
    "print(correlation)\n",
    "(slope, intercept, rvalue, pvalue, stdder)=st.linregress(x_values, y_values)\n",
    "regress_values=x_values * slope + intercept\n",
    "plt.xlabel(\"Suspensions Per 100 Students\")\n",
    "plt.ylabel(\"Attendance\")\n",
    "plt.title(\"Suspension vs Attedance\")\n",
    "line_eq = \"y = \" +str(round(slope,2)) + \"x + \" + str(round(intercept, 2))\n",
    "plt.scatter(x_values, y_values, facecolors=\"lime\", edgecolors=\"black\")\n",
    "plt.plot(x_values, regress_values, \"r-\")\n",
    "plt.annotate(line_eq,(40,70),fontsize=15,color=\"red\");"
   ]
  },
  {
   "cell_type": "code",

   "execution_count": 20,

   "metadata": {},
   "outputs": [
    {
     "name": "stdout",
     "output_type": "stream",
     "text": [
      "(0.27271329952923945, 4.991378912404725e-10)\n"
     ]
    },
    {
     "data": {

      "text/plain": [
       "[<matplotlib.lines.Line2D at 0x25e75563c88>]"
      ]
     },
     "execution_count": 20,
     "metadata": {},
     "output_type": "execute_result"
    },
    {
     "data": {

      "image/png": "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\n",
      "text/plain": [
       "<Figure size 432x288 with 1 Axes>"
      ]
     },
     "metadata": {
      "needs_background": "light"
     },
     "output_type": "display_data"
    }
   ],
   "source": [
    "#regression teacher attendance on student attendance\n",
    "x_values = df_indexed[\"Teacher_Attendance_Year_1_Pct\"]\n",
    "y_values = df_indexed[\"Student_Attendance_Year_1_Pct\"]\n",
    "correlation=st.pearsonr(x_values, y_values)\n",
    "print(correlation)\n",
    "(slope, intercept, rvalue, pvalue, stdder)=st.linregress(x_values, y_values)\n",
    "regress_values=x_values * slope + intercept\n",
    "plt.annotate(line_eq,(90,85),fontsize=15,color=\"red\")\n",
    "plt.xlabel(\"Teacher Attendance\")\n",
    "plt.ylabel(\"Student Attendance\")\n",
    "plt.title(\"Teacher Attendance vs Student Attendance\")\n",
    "line_eq = \"y = \" +str(round(slope,2)) + \"x + \" + str(round(intercept, 2))\n",
    "plt.scatter(x_values, y_values, facecolors=\"lime\", edgecolors=\"black\")\n",
    "plt.plot(x_values, regress_values, \"r-\");"
   ]
  },
  {
   "cell_type": "code",
   "execution_count": 21,
   "metadata": {},
   "outputs": [
    {
     "data": {
      "text/plain": [
       "F_onewayResult(statistic=229.12628201761012, pvalue=2.3577816706673005e-71)"
      ]
     },
     "execution_count": 21,
     "metadata": {},
     "output_type": "execute_result"
    }
   ],
   "source": [
    "#ANOVAs\n",
    "#Attendance Rate School Category\n",
    "group1=df_indexed[df_indexed[\"Primary_Category\"]==\"ES\"][\"Student_Attendance_Year_1_Pct\"]\n",
    "group2=df_indexed[df_indexed[\"Primary_Category\"]==\"MS\"][\"Student_Attendance_Year_1_Pct\"]\n",
    "group3=df_indexed[df_indexed[\"Primary_Category\"]==\"HS\"][\"Student_Attendance_Year_1_Pct\"]\n",
    "attendance_category_stats=st.f_oneway(group1, group2, group3)\n",
    "attendance_category_stats"
   ]
  },
  {
   "cell_type": "code",
   "execution_count": 22,
   "metadata": {},
   "outputs": [
    {
     "data": {
      "text/plain": [
       "F_onewayResult(statistic=72.38934858760075, pvalue=2.4537538058214305e-28)"
      ]
     },
     "execution_count": 22,
     "metadata": {},
     "output_type": "execute_result"
    }
   ],
   "source": [
    "#Suspension Rate School Category\n",
    "group1=df_indexed[df_indexed[\"Primary_Category\"]==\"ES\"][\"Suspensions_Per_100_Students_Year_1_Pct\"]\n",
    "group2=df_indexed[df_indexed[\"Primary_Category\"]==\"MS\"][\"Suspensions_Per_100_Students_Year_1_Pct\"]\n",
    "group3=df_indexed[df_indexed[\"Primary_Category\"]==\"HS\"][\"Suspensions_Per_100_Students_Year_1_Pct\"]\n",
    "suspension_category_stats=st.f_oneway(group1, group2, group3)\n",
    "suspension_category_stats"
   ]
  },
  {
   "cell_type": "code",
   "execution_count": 23,
   "metadata": {},
   "outputs": [
    {
     "data": {
      "text/plain": [
       "F_onewayResult(statistic=4.234289036747101, pvalue=0.015013125189675201)"
      ]
     },
     "execution_count": 23,
     "metadata": {},
     "output_type": "execute_result"
    }
   ],
   "source": [
    "#Teacher Attendance School Category\n",
    "group1=df_indexed[df_indexed[\"Primary_Category\"]==\"ES\"][\"Teacher_Attendance_Year_1_Pct\"]\n",
    "group2=df_indexed[df_indexed[\"Primary_Category\"]==\"MS\"][\"Teacher_Attendance_Year_1_Pct\"]\n",
    "group3=df_indexed[df_indexed[\"Primary_Category\"]==\"HS\"][\"Teacher_Attendance_Year_1_Pct\"]\n",
    "teacher_attendance_category_stats=st.f_oneway(group1, group2, group3)\n",
    "teacher_attendance_category_stats"
   ]
  },
  {
   "cell_type": "code",
   "execution_count": 24,
   "metadata": {},
   "outputs": [
    {
     "data": {
      "text/plain": [
       "F_onewayResult(statistic=24.37783326650844, pvalue=2.0361728057135686e-18)"
      ]
     },
     "execution_count": 24,
     "metadata": {},
     "output_type": "execute_result"
    }
   ],
   "source": [
    "#Student Growth By Student Attendance\n",
    "group1=df_indexed[df_indexed[\"Student_Growth_Rating\"]==\"FAR BELOW AVERAGE\"][\"Student_Attendance_Year_1_Pct\"]\n",
    "group2=df_indexed[df_indexed[\"Student_Growth_Rating\"]==\"BELOW AVERAGE\"][\"Student_Attendance_Year_1_Pct\"]\n",
    "group3=df_indexed[df_indexed[\"Student_Growth_Rating\"]==\"AVERAGE\"][\"Student_Attendance_Year_1_Pct\"]\n",
    "group4=df_indexed[df_indexed[\"Student_Growth_Rating\"]==\"ABOVE AVERAGE\"][\"Student_Attendance_Year_1_Pct\"]\n",
    "group5=df_indexed[df_indexed[\"Student_Growth_Rating\"]==\"FAR ABOVE AVERAGE\"][\"Student_Attendance_Year_1_Pct\"]\n",
    "attendance_growth_stats=st.f_oneway(group1, group2, group3, group4, group5)\n",
    "attendance_growth_stats\n"
   ]
  },
  {
   "cell_type": "code",
   "execution_count": 25,
   "metadata": {},
   "outputs": [
    {
     "data": {
      "text/plain": [
       "F_onewayResult(statistic=20.562509648855382, pvalue=1.1178629814903243e-15)"
      ]
     },
     "execution_count": 25,
     "metadata": {},
     "output_type": "execute_result"
    }
   ],
   "source": [
    "#Student Growth by Student Attendance\n",
    "group1=df_indexed[df_indexed[\"Student_Growth_Rating\"]==\"FAR BELOW AVERAGE\"][\"Suspensions_Per_100_Students_Year_1_Pct\"]\n",
    "group2=df_indexed[df_indexed[\"Student_Growth_Rating\"]==\"BELOW AVERAGE\"][\"Suspensions_Per_100_Students_Year_1_Pct\"]\n",
    "group3=df_indexed[df_indexed[\"Student_Growth_Rating\"]==\"AVERAGE\"][\"Suspensions_Per_100_Students_Year_1_Pct\"]\n",
    "group4=df_indexed[df_indexed[\"Student_Growth_Rating\"]==\"ABOVE AVERAGE\"][\"Suspensions_Per_100_Students_Year_1_Pct\"]\n",
    "group5=df_indexed[df_indexed[\"Student_Growth_Rating\"]==\"FAR ABOVE AVERAGE\"][\"Suspensions_Per_100_Students_Year_1_Pct\"]\n",
    "suspension_growth_stats=st.f_oneway(group1, group2, group3, group4, group5)\n",
    "suspension_growth_stats\n"
   ]
  },
  {
   "cell_type": "code",
   "execution_count": 26,
   "metadata": {},
   "outputs": [
    {
     "data": {
      "text/plain": [
       "F_onewayResult(statistic=5.1110310477464855, pvalue=0.00048379417104927176)"
      ]
     },
     "execution_count": 26,
     "metadata": {},
     "output_type": "execute_result"
    }
   ],
   "source": [
    "#Student Growth By Teacher Attendance\n",
    "group1=df_indexed[df_indexed[\"Student_Growth_Rating\"]==\"FAR BELOW AVERAGE\"][\"Teacher_Attendance_Year_1_Pct\"]\n",
    "group2=df_indexed[df_indexed[\"Student_Growth_Rating\"]==\"BELOW AVERAGE\"][\"Teacher_Attendance_Year_1_Pct\"]\n",
    "group3=df_indexed[df_indexed[\"Student_Growth_Rating\"]==\"AVERAGE\"][\"Teacher_Attendance_Year_1_Pct\"]\n",
    "group4=df_indexed[df_indexed[\"Student_Growth_Rating\"]==\"ABOVE AVERAGE\"][\"Teacher_Attendance_Year_1_Pct\"]\n",
    "group5=df_indexed[df_indexed[\"Student_Growth_Rating\"]==\"FAR ABOVE AVERAGE\"][\"Teacher_Attendance_Year_1_Pct\"]\n",
    "teacher_attendance_growth_stats=st.f_oneway(group1, group2, group3, group4, group5)\n",
    "teacher_attendance_growth_stats"
   ]
  },
  {
   "cell_type": "code",
   "execution_count": 27,
   "metadata": {},
   "outputs": [
    {
     "data": {
      "text/plain": [
       "F_onewayResult(statistic=100.17223796737078, pvalue=4.773076932492436e-105)"
      ]
     },
     "execution_count": 27,
     "metadata": {},
     "output_type": "execute_result"
    }
   ],
   "source": [
    "\n",
    "\n",
    "#Student Attainment By Student Attendance\n",
    "group1=df_indexed[df_indexed[\"Student_Attainment_Rating\"]==\"ABOVE AVERAGE\"][\"Student_Attendance_Year_1_Pct\"]\n",
    "group2=df_indexed[df_indexed[\"Student_Attainment_Rating\"]==\"ABOVE EXPECTATIONS\"][\"Student_Attendance_Year_1_Pct\"]\n",
    "group3=df_indexed[df_indexed[\"Student_Attainment_Rating\"]==\"AVERAGE\"][\"Student_Attendance_Year_1_Pct\"]\n",
    "group4=df_indexed[df_indexed[\"Student_Attainment_Rating\"]==\"BELOW AVERAGE\"][\"Student_Attendance_Year_1_Pct\"]\n",
    "group5=df_indexed[df_indexed[\"Student_Attainment_Rating\"]==\"BELOW EXPECTATIONS\"][\"Student_Attendance_Year_1_Pct\"]\n",
    "group6=df_indexed[df_indexed[\"Student_Attainment_Rating\"]==\"FAR ABOVE AVERAGE\"][\"Student_Attendance_Year_1_Pct\"]\n",
    "group7=df_indexed[df_indexed[\"Student_Attainment_Rating\"]==\"FAR ABOVE EXPECTATIONS\"][\"Student_Attendance_Year_1_Pct\"]\n",
    "group8=df_indexed[df_indexed[\"Student_Attainment_Rating\"]==\"FAR BELOW AVERAGE\"][\"Student_Attendance_Year_1_Pct\"]\n",
    "group9=df_indexed[df_indexed[\"Student_Attainment_Rating\"]==\"FAR BELOW EXPECTATIONS\"][\"Student_Attendance_Year_1_Pct\"]\n",
    "group10=df_indexed[df_indexed[\"Student_Attainment_Rating\"]==\"MET EXPECTATIONS\"][\"Student_Attendance_Year_1_Pct\"]\n",
    "attendance_attainment_stats=st.f_oneway(group1, group2, group3, group4, group5, group6, group7, group8, group9, group10)\n",
    "attendance_attainment_stats"
   ]
  },
  {
   "cell_type": "code",
   "execution_count": 28,
   "metadata": {},
   "outputs": [
    {
     "data": {
      "text/plain": [
       "F_onewayResult(statistic=52.457836606062855, pvalue=3.0197455953461535e-66)"
      ]
     },
     "execution_count": 28,
     "metadata": {},
     "output_type": "execute_result"
    }
   ],
   "source": [
    "#Student Attainment By Suspension Rate\n",
    "group1=df_indexed[df_indexed[\"Student_Attainment_Rating\"]==\"ABOVE AVERAGE\"][\"Suspensions_Per_100_Students_Year_1_Pct\"]\n",
    "group2=df_indexed[df_indexed[\"Student_Attainment_Rating\"]==\"ABOVE EXPECTATIONS\"][\"Suspensions_Per_100_Students_Year_1_Pct\"]\n",
    "group3=df_indexed[df_indexed[\"Student_Attainment_Rating\"]==\"AVERAGE\"][\"Suspensions_Per_100_Students_Year_1_Pct\"]\n",
    "group4=df_indexed[df_indexed[\"Student_Attainment_Rating\"]==\"BELOW AVERAGE\"][\"Suspensions_Per_100_Students_Year_1_Pct\"]\n",
    "group5=df_indexed[df_indexed[\"Student_Attainment_Rating\"]==\"BELOW EXPECTATIONS\"][\"Suspensions_Per_100_Students_Year_1_Pct\"]\n",
    "group6=df_indexed[df_indexed[\"Student_Attainment_Rating\"]==\"FAR ABOVE AVERAGE\"][\"Suspensions_Per_100_Students_Year_1_Pct\"]\n",
    "group7=df_indexed[df_indexed[\"Student_Attainment_Rating\"]==\"FAR ABOVE EXPECTATIONS\"][\"Suspensions_Per_100_Students_Year_1_Pct\"]\n",
    "group8=df_indexed[df_indexed[\"Student_Attainment_Rating\"]==\"FAR BELOW AVERAGE\"][\"Suspensions_Per_100_Students_Year_1_Pct\"]\n",
    "group9=df_indexed[df_indexed[\"Student_Attainment_Rating\"]==\"FAR BELOW EXPECTATIONS\"][\"Suspensions_Per_100_Students_Year_1_Pct\"]\n",
    "group10=df_indexed[df_indexed[\"Student_Attainment_Rating\"]==\"MET EXPECTATIONS\"][\"Suspensions_Per_100_Students_Year_1_Pct\"]\n",
    "suspension_attainment_stats=st.f_oneway(group1, group2, group3, group4, group5, group6, group7, group8, group9, group10)\n",
    "suspension_attainment_stats"
   ]
  },
  {
   "cell_type": "code",
   "execution_count": 29,
   "metadata": {},
   "outputs": [
    {
     "data": {
      "text/plain": [
       "F_onewayResult(statistic=6.401362668686819, pvalue=1.3014055906692293e-08)"
      ]
     },
     "execution_count": 29,
     "metadata": {},
     "output_type": "execute_result"
    }
   ],
   "source": [
    "#Student Attainment By Teacher Attendance\n",
    "group1=df_indexed[df_indexed[\"Student_Attainment_Rating\"]==\"ABOVE AVERAGE\"][\"Teacher_Attendance_Year_1_Pct\"]\n",
    "group2=df_indexed[df_indexed[\"Student_Attainment_Rating\"]==\"ABOVE EXPECTATIONS\"][\"Teacher_Attendance_Year_1_Pct\"]\n",
    "group3=df_indexed[df_indexed[\"Student_Attainment_Rating\"]==\"AVERAGE\"][\"Teacher_Attendance_Year_1_Pct\"]\n",
    "group4=df_indexed[df_indexed[\"Student_Attainment_Rating\"]==\"BELOW AVERAGE\"][\"Teacher_Attendance_Year_1_Pct\"]\n",
    "group5=df_indexed[df_indexed[\"Student_Attainment_Rating\"]==\"BELOW EXPECTATIONS\"][\"Teacher_Attendance_Year_1_Pct\"]\n",
    "group6=df_indexed[df_indexed[\"Student_Attainment_Rating\"]==\"FAR ABOVE AVERAGE\"][\"Teacher_Attendance_Year_1_Pct\"]\n",
    "group7=df_indexed[df_indexed[\"Student_Attainment_Rating\"]==\"FAR ABOVE EXPECTATIONS\"][\"Teacher_Attendance_Year_1_Pct\"]\n",
    "group8=df_indexed[df_indexed[\"Student_Attainment_Rating\"]==\"FAR BELOW AVERAGE\"][\"Teacher_Attendance_Year_1_Pct\"]\n",
    "group9=df_indexed[df_indexed[\"Student_Attainment_Rating\"]==\"FAR BELOW EXPECTATIONS\"][\"Teacher_Attendance_Year_1_Pct\"]\n",
    "group10=df_indexed[df_indexed[\"Student_Attainment_Rating\"]==\"MET EXPECTATIONS\"][\"Teacher_Attendance_Year_1_Pct\"]\n",
    "attendance_attainment_stats=st.f_oneway(group1, group2, group3, group4, group5, group6, group7, group8, group9, group10)\n",
    "attendance_attainment_stats"
   ]
  },
  {
   "cell_type": "code",
   "execution_count": null,
   "metadata": {},
   "outputs": [],
   "source": []
  }
 ],
 "metadata": {
  "kernelspec": {
   "display_name": "Python 3",
   "language": "python",
   "name": "python3"
  },
  "language_info": {
   "codemirror_mode": {
    "name": "ipython",
    "version": 3
   },
   "file_extension": ".py",
   "mimetype": "text/x-python",
   "name": "python",
   "nbconvert_exporter": "python",
   "pygments_lexer": "ipython3",
   "version": "3.7.6"
  }
 },
 "nbformat": 4,
 "nbformat_minor": 4
}
