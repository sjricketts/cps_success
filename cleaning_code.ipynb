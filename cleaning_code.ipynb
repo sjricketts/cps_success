{
 "cells": [
  {
   "cell_type": "code",
   "execution_count": 1,
   "metadata": {},
   "outputs": [],
   "source": [
    "import pandas as pd\n",
    "import matplotlib.pyplot as plt\n",
    "import numpy as np\n",
    "import scipy.stats as st"
   ]
  },
  {
   "cell_type": "code",
   "execution_count": 2,
   "metadata": {},
   "outputs": [],
   "source": [
    "#set file path\n",
    "file_path = (\"Resources/Chicago_Public_Schools_-_School_Progress_Reports_SY1819.csv\")"
   ]
  },
  {
   "cell_type": "code",
   "execution_count": 3,
   "metadata": {},
   "outputs": [
    {
     "data": {
      "text/html": [
       "<div>\n",
       "<style scoped>\n",
       "    .dataframe tbody tr th:only-of-type {\n",
       "        vertical-align: middle;\n",
       "    }\n",
       "\n",
       "    .dataframe tbody tr th {\n",
       "        vertical-align: top;\n",
       "    }\n",
       "\n",
       "    .dataframe thead th {\n",
       "        text-align: right;\n",
       "    }\n",
       "</style>\n",
       "<table border=\"1\" class=\"dataframe\">\n",
       "  <thead>\n",
       "    <tr style=\"text-align: right;\">\n",
       "      <th></th>\n",
       "      <th>School_ID</th>\n",
       "      <th>Short_Name</th>\n",
       "      <th>Long_Name</th>\n",
       "      <th>School_Type</th>\n",
       "      <th>Primary_Category</th>\n",
       "      <th>Address</th>\n",
       "      <th>City</th>\n",
       "      <th>State</th>\n",
       "      <th>Zip</th>\n",
       "      <th>Phone</th>\n",
       "      <th>...</th>\n",
       "      <th>Attainment_SAT_Grade_11_School_Pct</th>\n",
       "      <th>Attainment_SAT_Grade_11_School_Lbl</th>\n",
       "      <th>Attainment_All_Grades_School_Pct</th>\n",
       "      <th>Attainment_All_Grades_School_Lbl</th>\n",
       "      <th>Growth_PSAT_Math_Grade_10_School_Pct</th>\n",
       "      <th>Growth_PSAT_Math_Grade_10_School_Lbl</th>\n",
       "      <th>Growth_SAT_Reading_Grade_11_School_Pct</th>\n",
       "      <th>Growth_SAT_Reading_Grade_11_School_Lbl</th>\n",
       "      <th>Growth_SAT_Math_Grade_11_School_Pct</th>\n",
       "      <th>Growth_SAT_Math_Grade_11_School_Lbl</th>\n",
       "    </tr>\n",
       "  </thead>\n",
       "  <tbody>\n",
       "    <tr>\n",
       "      <th>0</th>\n",
       "      <td>609869</td>\n",
       "      <td>LANGFORD</td>\n",
       "      <td>Anna R. Langford Community Academy</td>\n",
       "      <td>Neighborhood</td>\n",
       "      <td>ES</td>\n",
       "      <td>6010 S THROOP ST</td>\n",
       "      <td>Chicago</td>\n",
       "      <td>Illinois</td>\n",
       "      <td>60636</td>\n",
       "      <td>7.735359e+09</td>\n",
       "      <td>...</td>\n",
       "      <td>NaN</td>\n",
       "      <td>NaN</td>\n",
       "      <td>NaN</td>\n",
       "      <td>NaN</td>\n",
       "      <td>NaN</td>\n",
       "      <td>NaN</td>\n",
       "      <td>NaN</td>\n",
       "      <td>NaN</td>\n",
       "      <td>NaN</td>\n",
       "      <td>NaN</td>\n",
       "    </tr>\n",
       "    <tr>\n",
       "      <th>1</th>\n",
       "      <td>610225</td>\n",
       "      <td>WHISTLER</td>\n",
       "      <td>John Whistler Elementary School</td>\n",
       "      <td>Neighborhood</td>\n",
       "      <td>ES</td>\n",
       "      <td>11533 S ADA ST</td>\n",
       "      <td>Chicago</td>\n",
       "      <td>Illinois</td>\n",
       "      <td>60643</td>\n",
       "      <td>7.735356e+09</td>\n",
       "      <td>...</td>\n",
       "      <td>NaN</td>\n",
       "      <td>NaN</td>\n",
       "      <td>NaN</td>\n",
       "      <td>NaN</td>\n",
       "      <td>NaN</td>\n",
       "      <td>NaN</td>\n",
       "      <td>NaN</td>\n",
       "      <td>NaN</td>\n",
       "      <td>NaN</td>\n",
       "      <td>NaN</td>\n",
       "    </tr>\n",
       "    <tr>\n",
       "      <th>2</th>\n",
       "      <td>609734</td>\n",
       "      <td>TAFT HS</td>\n",
       "      <td>William Howard Taft High School</td>\n",
       "      <td>Neighborhood</td>\n",
       "      <td>HS</td>\n",
       "      <td>6530 W BRYN MAWR AVE</td>\n",
       "      <td>Chicago</td>\n",
       "      <td>Illinois</td>\n",
       "      <td>60631</td>\n",
       "      <td>7.735341e+09</td>\n",
       "      <td>...</td>\n",
       "      <td>45.6</td>\n",
       "      <td>45.6</td>\n",
       "      <td>56.4</td>\n",
       "      <td>56.4</td>\n",
       "      <td>28.0</td>\n",
       "      <td>28th</td>\n",
       "      <td>50.0</td>\n",
       "      <td>50th</td>\n",
       "      <td>34.0</td>\n",
       "      <td>34th</td>\n",
       "    </tr>\n",
       "    <tr>\n",
       "      <th>3</th>\n",
       "      <td>610588</td>\n",
       "      <td>RICHARDSON</td>\n",
       "      <td>Robert J. Richardson Middle School</td>\n",
       "      <td>Neighborhood</td>\n",
       "      <td>MS</td>\n",
       "      <td>6018 S KARLOV</td>\n",
       "      <td>Chicago</td>\n",
       "      <td>Illinois</td>\n",
       "      <td>60629</td>\n",
       "      <td>7.735359e+09</td>\n",
       "      <td>...</td>\n",
       "      <td>NaN</td>\n",
       "      <td>NaN</td>\n",
       "      <td>NaN</td>\n",
       "      <td>NaN</td>\n",
       "      <td>NaN</td>\n",
       "      <td>NaN</td>\n",
       "      <td>NaN</td>\n",
       "      <td>NaN</td>\n",
       "      <td>NaN</td>\n",
       "      <td>NaN</td>\n",
       "    </tr>\n",
       "    <tr>\n",
       "      <th>4</th>\n",
       "      <td>609894</td>\n",
       "      <td>DRAKE</td>\n",
       "      <td>John B Drake Elementary School</td>\n",
       "      <td>Neighborhood</td>\n",
       "      <td>ES</td>\n",
       "      <td>2710 S DEARBORN ST</td>\n",
       "      <td>Chicago</td>\n",
       "      <td>Illinois</td>\n",
       "      <td>60616</td>\n",
       "      <td>7.735349e+09</td>\n",
       "      <td>...</td>\n",
       "      <td>NaN</td>\n",
       "      <td>NaN</td>\n",
       "      <td>NaN</td>\n",
       "      <td>NaN</td>\n",
       "      <td>NaN</td>\n",
       "      <td>NaN</td>\n",
       "      <td>NaN</td>\n",
       "      <td>NaN</td>\n",
       "      <td>NaN</td>\n",
       "      <td>NaN</td>\n",
       "    </tr>\n",
       "  </tbody>\n",
       "</table>\n",
       "<p>5 rows × 182 columns</p>\n",
       "</div>"
      ],
      "text/plain": [
       "   School_ID  Short_Name                           Long_Name   School_Type  \\\n",
       "0     609869    LANGFORD  Anna R. Langford Community Academy  Neighborhood   \n",
       "1     610225    WHISTLER     John Whistler Elementary School  Neighborhood   \n",
       "2     609734     TAFT HS     William Howard Taft High School  Neighborhood   \n",
       "3     610588  RICHARDSON  Robert J. Richardson Middle School  Neighborhood   \n",
       "4     609894       DRAKE      John B Drake Elementary School  Neighborhood   \n",
       "\n",
       "  Primary_Category               Address     City     State    Zip  \\\n",
       "0               ES      6010 S THROOP ST  Chicago  Illinois  60636   \n",
       "1               ES        11533 S ADA ST  Chicago  Illinois  60643   \n",
       "2               HS  6530 W BRYN MAWR AVE  Chicago  Illinois  60631   \n",
       "3               MS         6018 S KARLOV  Chicago  Illinois  60629   \n",
       "4               ES    2710 S DEARBORN ST  Chicago  Illinois  60616   \n",
       "\n",
       "          Phone  ...  Attainment_SAT_Grade_11_School_Pct  \\\n",
       "0  7.735359e+09  ...                                 NaN   \n",
       "1  7.735356e+09  ...                                 NaN   \n",
       "2  7.735341e+09  ...                                45.6   \n",
       "3  7.735359e+09  ...                                 NaN   \n",
       "4  7.735349e+09  ...                                 NaN   \n",
       "\n",
       "  Attainment_SAT_Grade_11_School_Lbl Attainment_All_Grades_School_Pct  \\\n",
       "0                                NaN                              NaN   \n",
       "1                                NaN                              NaN   \n",
       "2                               45.6                             56.4   \n",
       "3                                NaN                              NaN   \n",
       "4                                NaN                              NaN   \n",
       "\n",
       "   Attainment_All_Grades_School_Lbl  Growth_PSAT_Math_Grade_10_School_Pct  \\\n",
       "0                               NaN                                   NaN   \n",
       "1                               NaN                                   NaN   \n",
       "2                              56.4                                  28.0   \n",
       "3                               NaN                                   NaN   \n",
       "4                               NaN                                   NaN   \n",
       "\n",
       "   Growth_PSAT_Math_Grade_10_School_Lbl  \\\n",
       "0                                   NaN   \n",
       "1                                   NaN   \n",
       "2                                  28th   \n",
       "3                                   NaN   \n",
       "4                                   NaN   \n",
       "\n",
       "   Growth_SAT_Reading_Grade_11_School_Pct  \\\n",
       "0                                     NaN   \n",
       "1                                     NaN   \n",
       "2                                    50.0   \n",
       "3                                     NaN   \n",
       "4                                     NaN   \n",
       "\n",
       "   Growth_SAT_Reading_Grade_11_School_Lbl  \\\n",
       "0                                     NaN   \n",
       "1                                     NaN   \n",
       "2                                    50th   \n",
       "3                                     NaN   \n",
       "4                                     NaN   \n",
       "\n",
       "   Growth_SAT_Math_Grade_11_School_Pct Growth_SAT_Math_Grade_11_School_Lbl  \n",
       "0                                  NaN                                 NaN  \n",
       "1                                  NaN                                 NaN  \n",
       "2                                 34.0                                34th  \n",
       "3                                  NaN                                 NaN  \n",
       "4                                  NaN                                 NaN  \n",
       "\n",
       "[5 rows x 182 columns]"
      ]
     },
     "execution_count": 3,
     "metadata": {},
     "output_type": "execute_result"
    }
   ],
   "source": [
    "#read in csv as a dataframe\n",
    "progress_df = pd.read_csv(file_path)\n",
    "progress_df.head()"
   ]
  },
  {
   "cell_type": "code",
   "execution_count": 4,
   "metadata": {},
   "outputs": [],
   "source": [
    "#organize by school ID and re-index\n",
    "df = progress_df.sort_values(\"School_ID\")"
   ]
  },
  {
   "cell_type": "code",
   "execution_count": 5,
   "metadata": {},
   "outputs": [],
   "source": [
    "#select only School Id, student attendance, suspensions, and teacher attendance fields (not enough data to add school facility questions)\n",
    "df_select = progress_df[[\"School_ID\", \"Long_Name\", \"Primary_Category\", \"School_Type\", \"Student_Attendance_Year_1_Pct\", \"Suspensions_Per_100_Students_Year_1_Pct\", \"Teacher_Attendance_Year_1_Pct\", \"Student_Growth_Rating\", \"Student_Attainment_Rating\"]]"
   ]
  },
  {
   "cell_type": "code",
   "execution_count": 6,
   "metadata": {},
   "outputs": [],
   "source": [
    "#drop any rows with empty fields\n",
    "df_select = df_select.dropna(how=\"any\")"
   ]
  },
  {
   "cell_type": "code",
   "execution_count": 7,
   "metadata": {},
   "outputs": [
    {
     "data": {
      "text/html": [
       "<div>\n",
       "<style scoped>\n",
       "    .dataframe tbody tr th:only-of-type {\n",
       "        vertical-align: middle;\n",
       "    }\n",
       "\n",
       "    .dataframe tbody tr th {\n",
       "        vertical-align: top;\n",
       "    }\n",
       "\n",
       "    .dataframe thead th {\n",
       "        text-align: right;\n",
       "    }\n",
       "</style>\n",
       "<table border=\"1\" class=\"dataframe\">\n",
       "  <thead>\n",
       "    <tr style=\"text-align: right;\">\n",
       "      <th></th>\n",
       "      <th>School_ID</th>\n",
       "      <th>Long_Name</th>\n",
       "      <th>Primary_Category</th>\n",
       "      <th>School_Type</th>\n",
       "      <th>Student_Attendance_Year_1_Pct</th>\n",
       "      <th>Suspensions_Per_100_Students_Year_1_Pct</th>\n",
       "      <th>Teacher_Attendance_Year_1_Pct</th>\n",
       "      <th>Student_Growth_Rating</th>\n",
       "      <th>Student_Attainment_Rating</th>\n",
       "    </tr>\n",
       "  </thead>\n",
       "  <tbody>\n",
       "    <tr>\n",
       "      <th>166</th>\n",
       "      <td>610229</td>\n",
       "      <td>A.N. Pritzker School</td>\n",
       "      <td>ES</td>\n",
       "      <td>Regional gifted center</td>\n",
       "      <td>94.8</td>\n",
       "      <td>3.4</td>\n",
       "      <td>93.1</td>\n",
       "      <td>ABOVE AVERAGE</td>\n",
       "      <td>FAR ABOVE AVERAGE</td>\n",
       "    </tr>\n",
       "    <tr>\n",
       "      <th>374</th>\n",
       "      <td>610038</td>\n",
       "      <td>Abraham Lincoln Elementary School</td>\n",
       "      <td>ES</td>\n",
       "      <td>Neighborhood</td>\n",
       "      <td>95.8</td>\n",
       "      <td>0.1</td>\n",
       "      <td>95.5</td>\n",
       "      <td>ABOVE AVERAGE</td>\n",
       "      <td>FAR ABOVE AVERAGE</td>\n",
       "    </tr>\n",
       "    <tr>\n",
       "      <th>169</th>\n",
       "      <td>610281</td>\n",
       "      <td>Adam Clayton Powell Paideia Community Academy ES</td>\n",
       "      <td>ES</td>\n",
       "      <td>Neighborhood</td>\n",
       "      <td>94.5</td>\n",
       "      <td>7.1</td>\n",
       "      <td>95.2</td>\n",
       "      <td>AVERAGE</td>\n",
       "      <td>BELOW AVERAGE</td>\n",
       "    </tr>\n",
       "    <tr>\n",
       "      <th>207</th>\n",
       "      <td>610185</td>\n",
       "      <td>Adlai E Stevenson Elementary School</td>\n",
       "      <td>ES</td>\n",
       "      <td>Neighborhood</td>\n",
       "      <td>95.3</td>\n",
       "      <td>1.1</td>\n",
       "      <td>94.3</td>\n",
       "      <td>AVERAGE</td>\n",
       "      <td>AVERAGE</td>\n",
       "    </tr>\n",
       "    <tr>\n",
       "      <th>604</th>\n",
       "      <td>609993</td>\n",
       "      <td>Agustin Lara Elementary Academy</td>\n",
       "      <td>ES</td>\n",
       "      <td>Neighborhood</td>\n",
       "      <td>95.4</td>\n",
       "      <td>0.4</td>\n",
       "      <td>96.3</td>\n",
       "      <td>ABOVE AVERAGE</td>\n",
       "      <td>AVERAGE</td>\n",
       "    </tr>\n",
       "    <tr>\n",
       "      <th>...</th>\n",
       "      <td>...</td>\n",
       "      <td>...</td>\n",
       "      <td>...</td>\n",
       "      <td>...</td>\n",
       "      <td>...</td>\n",
       "      <td>...</td>\n",
       "      <td>...</td>\n",
       "      <td>...</td>\n",
       "      <td>...</td>\n",
       "    </tr>\n",
       "    <tr>\n",
       "      <th>180</th>\n",
       "      <td>610172</td>\n",
       "      <td>William T Sherman Elementary School</td>\n",
       "      <td>ES</td>\n",
       "      <td>Neighborhood</td>\n",
       "      <td>95.9</td>\n",
       "      <td>11.1</td>\n",
       "      <td>94.5</td>\n",
       "      <td>AVERAGE</td>\n",
       "      <td>BELOW AVERAGE</td>\n",
       "    </tr>\n",
       "    <tr>\n",
       "      <th>478</th>\n",
       "      <td>609844</td>\n",
       "      <td>William W Carter Elementary School</td>\n",
       "      <td>ES</td>\n",
       "      <td>Neighborhood</td>\n",
       "      <td>96.5</td>\n",
       "      <td>5.5</td>\n",
       "      <td>98.2</td>\n",
       "      <td>AVERAGE</td>\n",
       "      <td>AVERAGE</td>\n",
       "    </tr>\n",
       "    <tr>\n",
       "      <th>476</th>\n",
       "      <td>610088</td>\n",
       "      <td>Wolfgang A Mozart Elementary School</td>\n",
       "      <td>ES</td>\n",
       "      <td>Neighborhood</td>\n",
       "      <td>95.4</td>\n",
       "      <td>4.7</td>\n",
       "      <td>95.5</td>\n",
       "      <td>ABOVE AVERAGE</td>\n",
       "      <td>AVERAGE</td>\n",
       "    </tr>\n",
       "    <tr>\n",
       "      <th>301</th>\n",
       "      <td>609977</td>\n",
       "      <td>Woodlawn Community Elementary School</td>\n",
       "      <td>ES</td>\n",
       "      <td>Small</td>\n",
       "      <td>94.8</td>\n",
       "      <td>0.0</td>\n",
       "      <td>93.8</td>\n",
       "      <td>FAR ABOVE AVERAGE</td>\n",
       "      <td>AVERAGE</td>\n",
       "    </tr>\n",
       "    <tr>\n",
       "      <th>146</th>\n",
       "      <td>610392</td>\n",
       "      <td>World Language Academy High School</td>\n",
       "      <td>HS</td>\n",
       "      <td>Small</td>\n",
       "      <td>90.8</td>\n",
       "      <td>4.2</td>\n",
       "      <td>94.1</td>\n",
       "      <td>ABOVE AVERAGE</td>\n",
       "      <td>BELOW EXPECTATIONS</td>\n",
       "    </tr>\n",
       "  </tbody>\n",
       "</table>\n",
       "<p>503 rows × 9 columns</p>\n",
       "</div>"
      ],
      "text/plain": [
       "     School_ID                                         Long_Name  \\\n",
       "166     610229                              A.N. Pritzker School   \n",
       "374     610038                 Abraham Lincoln Elementary School   \n",
       "169     610281  Adam Clayton Powell Paideia Community Academy ES   \n",
       "207     610185               Adlai E Stevenson Elementary School   \n",
       "604     609993                   Agustin Lara Elementary Academy   \n",
       "..         ...                                               ...   \n",
       "180     610172               William T Sherman Elementary School   \n",
       "478     609844                William W Carter Elementary School   \n",
       "476     610088               Wolfgang A Mozart Elementary School   \n",
       "301     609977              Woodlawn Community Elementary School   \n",
       "146     610392                World Language Academy High School   \n",
       "\n",
       "    Primary_Category             School_Type  Student_Attendance_Year_1_Pct  \\\n",
       "166               ES  Regional gifted center                           94.8   \n",
       "374               ES            Neighborhood                           95.8   \n",
       "169               ES            Neighborhood                           94.5   \n",
       "207               ES            Neighborhood                           95.3   \n",
       "604               ES            Neighborhood                           95.4   \n",
       "..               ...                     ...                            ...   \n",
       "180               ES            Neighborhood                           95.9   \n",
       "478               ES            Neighborhood                           96.5   \n",
       "476               ES            Neighborhood                           95.4   \n",
       "301               ES                   Small                           94.8   \n",
       "146               HS                   Small                           90.8   \n",
       "\n",
       "     Suspensions_Per_100_Students_Year_1_Pct  Teacher_Attendance_Year_1_Pct  \\\n",
       "166                                      3.4                           93.1   \n",
       "374                                      0.1                           95.5   \n",
       "169                                      7.1                           95.2   \n",
       "207                                      1.1                           94.3   \n",
       "604                                      0.4                           96.3   \n",
       "..                                       ...                            ...   \n",
       "180                                     11.1                           94.5   \n",
       "478                                      5.5                           98.2   \n",
       "476                                      4.7                           95.5   \n",
       "301                                      0.0                           93.8   \n",
       "146                                      4.2                           94.1   \n",
       "\n",
       "    Student_Growth_Rating Student_Attainment_Rating  \n",
       "166         ABOVE AVERAGE         FAR ABOVE AVERAGE  \n",
       "374         ABOVE AVERAGE         FAR ABOVE AVERAGE  \n",
       "169               AVERAGE             BELOW AVERAGE  \n",
       "207               AVERAGE                   AVERAGE  \n",
       "604         ABOVE AVERAGE                   AVERAGE  \n",
       "..                    ...                       ...  \n",
       "180               AVERAGE             BELOW AVERAGE  \n",
       "478               AVERAGE                   AVERAGE  \n",
       "476         ABOVE AVERAGE                   AVERAGE  \n",
       "301     FAR ABOVE AVERAGE                   AVERAGE  \n",
       "146         ABOVE AVERAGE        BELOW EXPECTATIONS  \n",
       "\n",
       "[503 rows x 9 columns]"
      ]
     },
     "execution_count": 7,
     "metadata": {},
     "output_type": "execute_result"
    }
   ],
   "source": [
    "#sort by school name\n",
    "df_ordered = df_select.sort_values([\"Long_Name\"], ascending=True)\n",
    "df_ordered"
   ]
  },
  {
   "cell_type": "code",
   "execution_count": 8,
   "metadata": {},
   "outputs": [
    {
     "data": {
      "text/html": [
       "<div>\n",
       "<style scoped>\n",
       "    .dataframe tbody tr th:only-of-type {\n",
       "        vertical-align: middle;\n",
       "    }\n",
       "\n",
       "    .dataframe tbody tr th {\n",
       "        vertical-align: top;\n",
       "    }\n",
       "\n",
       "    .dataframe thead th {\n",
       "        text-align: right;\n",
       "    }\n",
       "</style>\n",
       "<table border=\"1\" class=\"dataframe\">\n",
       "  <thead>\n",
       "    <tr style=\"text-align: right;\">\n",
       "      <th></th>\n",
       "      <th>School_ID</th>\n",
       "      <th>Long_Name</th>\n",
       "      <th>Primary_Category</th>\n",
       "      <th>School_Type</th>\n",
       "      <th>Student_Attendance_Year_1_Pct</th>\n",
       "      <th>Suspensions_Per_100_Students_Year_1_Pct</th>\n",
       "      <th>Teacher_Attendance_Year_1_Pct</th>\n",
       "      <th>Student_Growth_Rating</th>\n",
       "      <th>Student_Attainment_Rating</th>\n",
       "    </tr>\n",
       "  </thead>\n",
       "  <tbody>\n",
       "    <tr>\n",
       "      <th>0</th>\n",
       "      <td>610229</td>\n",
       "      <td>A.N. Pritzker School</td>\n",
       "      <td>ES</td>\n",
       "      <td>Regional gifted center</td>\n",
       "      <td>94.8</td>\n",
       "      <td>3.4</td>\n",
       "      <td>93.1</td>\n",
       "      <td>ABOVE AVERAGE</td>\n",
       "      <td>FAR ABOVE AVERAGE</td>\n",
       "    </tr>\n",
       "    <tr>\n",
       "      <th>1</th>\n",
       "      <td>610038</td>\n",
       "      <td>Abraham Lincoln Elementary School</td>\n",
       "      <td>ES</td>\n",
       "      <td>Neighborhood</td>\n",
       "      <td>95.8</td>\n",
       "      <td>0.1</td>\n",
       "      <td>95.5</td>\n",
       "      <td>ABOVE AVERAGE</td>\n",
       "      <td>FAR ABOVE AVERAGE</td>\n",
       "    </tr>\n",
       "    <tr>\n",
       "      <th>2</th>\n",
       "      <td>610281</td>\n",
       "      <td>Adam Clayton Powell Paideia Community Academy ES</td>\n",
       "      <td>ES</td>\n",
       "      <td>Neighborhood</td>\n",
       "      <td>94.5</td>\n",
       "      <td>7.1</td>\n",
       "      <td>95.2</td>\n",
       "      <td>AVERAGE</td>\n",
       "      <td>BELOW AVERAGE</td>\n",
       "    </tr>\n",
       "    <tr>\n",
       "      <th>3</th>\n",
       "      <td>610185</td>\n",
       "      <td>Adlai E Stevenson Elementary School</td>\n",
       "      <td>ES</td>\n",
       "      <td>Neighborhood</td>\n",
       "      <td>95.3</td>\n",
       "      <td>1.1</td>\n",
       "      <td>94.3</td>\n",
       "      <td>AVERAGE</td>\n",
       "      <td>AVERAGE</td>\n",
       "    </tr>\n",
       "    <tr>\n",
       "      <th>4</th>\n",
       "      <td>609993</td>\n",
       "      <td>Agustin Lara Elementary Academy</td>\n",
       "      <td>ES</td>\n",
       "      <td>Neighborhood</td>\n",
       "      <td>95.4</td>\n",
       "      <td>0.4</td>\n",
       "      <td>96.3</td>\n",
       "      <td>ABOVE AVERAGE</td>\n",
       "      <td>AVERAGE</td>\n",
       "    </tr>\n",
       "  </tbody>\n",
       "</table>\n",
       "</div>"
      ],
      "text/plain": [
       "   School_ID                                         Long_Name  \\\n",
       "0     610229                              A.N. Pritzker School   \n",
       "1     610038                 Abraham Lincoln Elementary School   \n",
       "2     610281  Adam Clayton Powell Paideia Community Academy ES   \n",
       "3     610185               Adlai E Stevenson Elementary School   \n",
       "4     609993                   Agustin Lara Elementary Academy   \n",
       "\n",
       "  Primary_Category             School_Type  Student_Attendance_Year_1_Pct  \\\n",
       "0               ES  Regional gifted center                           94.8   \n",
       "1               ES            Neighborhood                           95.8   \n",
       "2               ES            Neighborhood                           94.5   \n",
       "3               ES            Neighborhood                           95.3   \n",
       "4               ES            Neighborhood                           95.4   \n",
       "\n",
       "   Suspensions_Per_100_Students_Year_1_Pct  Teacher_Attendance_Year_1_Pct  \\\n",
       "0                                      3.4                           93.1   \n",
       "1                                      0.1                           95.5   \n",
       "2                                      7.1                           95.2   \n",
       "3                                      1.1                           94.3   \n",
       "4                                      0.4                           96.3   \n",
       "\n",
       "  Student_Growth_Rating Student_Attainment_Rating  \n",
       "0         ABOVE AVERAGE         FAR ABOVE AVERAGE  \n",
       "1         ABOVE AVERAGE         FAR ABOVE AVERAGE  \n",
       "2               AVERAGE             BELOW AVERAGE  \n",
       "3               AVERAGE                   AVERAGE  \n",
       "4         ABOVE AVERAGE                   AVERAGE  "
      ]
     },
     "execution_count": 8,
     "metadata": {},
     "output_type": "execute_result"
    }
   ],
   "source": [
    "#reindex by new school ID order\n",
    "df_indexed = df_ordered.reset_index(drop=True)\n",
    "df_indexed.to_csv(\"resources/final_data\")\n",
    "df_indexed.head()"
   ]
  },
  {
   "cell_type": "code",
   "execution_count": 9,
   "metadata": {},
   "outputs": [
    {
     "data": {
      "image/png": "[encoded data removed]",
      "text/plain": [
       "<Figure size 432x288 with 1 Axes>"
      ]
     },
     "metadata": {
      "needs_background": "light"
     },
     "output_type": "display_data"
    }
   ],
   "source": [
    "#attendance by school category\n",
    "school_category=df_indexed.groupby([\"Primary_Category\"])\n",
    "attendance_category=school_category[\"Student_Attendance_Year_1_Pct\"].mean()\n",
    "attendance_category=pd.DataFrame(attendance_category)\n",
    "\n",
    "attendance_category.plot(kind=\"bar\", legend=None, alpha=0.75)\n",
    "plt.xlabel(\"School Type\")\n",
    "plt.ylabel(\"Attendance %\")\n",
    "plt.title(\"Student Attendance Rate Per School Category\")\n",
    "positions = (0, 1, 2)\n",
    "labels = (\"Elementary\", \"High\", \"Middle\")\n",
    "plt.yticks(np.arange(0, 100, step=10))\n",
    "plt.grid(axis=\"y\")\n",
    "plt.xticks(positions, labels, rotation=45);"
   ]
  },
  {
   "cell_type": "code",
   "execution_count": 10,
   "metadata": {},
   "outputs": [
    {
     "data": {
      "image/png": "[encoded data removed]",
      "text/plain": [
       "<Figure size 432x288 with 1 Axes>"
      ]
     },
     "metadata": {
      "needs_background": "light"
     },
     "output_type": "display_data"
    }
   ],
   "source": [
    "teacher_attendance=school_category[\"Teacher_Attendance_Year_1_Pct\"].mean()\n",
    "teacher_attendance=pd.DataFrame(teacher_attendance)\n",
    "\n",
    "teacher_attendance.plot(kind=\"bar\", legend=None, alpha=0.75)\n",
    "\n",
    "plt.xlabel(\"School Type\")\n",
    "plt.ylabel(\"Attendance %\")\n",
    "plt.title(\"Teacher Attendance Rate Per School Category\")\n",
    "positions = (0, 1, 2)\n",
    "labels = (\"Elementary\", \"High\", \"Middle\")\n",
    "plt.yticks(np.arange(0, 100, step=10))\n",
    "plt.grid(axis=\"y\")\n",
    "plt.xticks(positions, labels, rotation=45);"
   ]
  },
  {
   "cell_type": "code",
   "execution_count": 11,
   "metadata": {},
   "outputs": [
    {
     "data": {
      "image/png": "[encoded data removed]",
      "text/plain": [
       "<Figure size 432x288 with 1 Axes>"
      ]
     },
     "metadata": {
      "needs_background": "light"
     },
     "output_type": "display_data"
    }
   ],
   "source": [
    "suspensions=school_category[\"Suspensions_Per_100_Students_Year_1_Pct\"].mean()\n",
    "suspensions=pd.DataFrame(suspensions)\n",
    "\n",
    "suspensions.plot(kind=\"bar\", legend=None, alpha=0.75)\n",
    "plt.xlabel(\"School Type\")\n",
    "plt.ylabel(\"Suspension Count\")\n",
    "plt.title(\"Suspensions Per 100 Students\")\n",
    "positions = (0, 1, 2)\n",
    "labels = (\"Elementary\", \"High\", \"Middle\")\n",
    "plt.yticks(np.arange(0, 20, step=5))\n",
    "# plt.grid(axis=\"y\")\n",
    "plt.xticks(positions, labels, rotation=45);\n"
   ]
  },
  {
   "cell_type": "code",
   "execution_count": 21,
   "metadata": {},
   "outputs": [
    {
     "data": {
      "image/png": "[encoded data removed]",
      "text/plain": [
       "<Figure size 432x288 with 1 Axes>"
      ]
     },
     "metadata": {
      "needs_background": "light"
     },
     "output_type": "display_data"
    }
   ],
   "source": [
    "# Move x labels over\n",
    "\n",
    "\n",
    "no_data = df_indexed[df_indexed[\"Student_Growth_Rating\"] != \"NO DATA AVAILABLE\"]\n",
    "student_growth=no_data.groupby([\"Student_Growth_Rating\"])\n",
    "attendance_and_growth=student_growth[\"Student_Attendance_Year_1_Pct\"].mean()\n",
    "\n",
    "attendance_and_growth=pd.DataFrame(attendance_and_growth)\n",
    "\n",
    "attendance_and_growth.plot(kind=\"bar\", legend=None, alpha=0.75)\n",
    "plt.xlabel(\"Growth Rating\")\n",
    "plt.ylabel(\"Attendance %\")\n",
    "plt.title(\"Student Attendance by Student Growth Rating\")\n",
    "plt.yticks(np.arange(0, 100, step=5))\n",
    "# plt.grid(axis=\"y\")\n",
    "positions = (0, 1, 2, 3, 4)\n",
    "labels = (\"Above Avg\", \"Average\", \"Below Avg\", \"Far Above Avg\", \"Far Below Avg\")\n",
    "plt.xticks(positions,labels, rotation=45)\n",
    "plt.ylim(50,97);"
   ]
  },
  {
   "cell_type": "code",
   "execution_count": 23,
   "metadata": {},
   "outputs": [
    {
     "data": {
      "image/png": "[encoded data removed]",
      "text/plain": [
       "<Figure size 432x288 with 1 Axes>"
      ]
     },
     "metadata": {
      "needs_background": "light"
     },
     "output_type": "display_data"
    }
   ],
   "source": [
    "teacher_and_growth=student_growth[\"Teacher_Attendance_Year_1_Pct\"].mean()\n",
    "teacher_and_growth=pd.DataFrame(teacher_and_growth)\n",
    "\n",
    "teacher_and_growth.plot(kind=\"bar\", legend=None, alpha=0.75)\n",
    "plt.xlabel(\"Growth Rating\")\n",
    "plt.ylabel(\"Attendance %\")\n",
    "plt.title(\"Teacher Attendance by Student Growth Rating\")\n",
    "plt.yticks(np.arange(0, 100, step=5))\n",
    "# plt.grid(axis=\"y\")\n",
    "positions = (0, 1, 2, 3, 4)\n",
    "labels = (\"Above Avg\", \"Average\", \"Below Avg\", \"Far Above Avg\", \"Far Below Avg\")\n",
    "plt.xticks(positions, labels, rotation=45)\n",
    "plt.ylim(50,97);"
   ]
  },
  {
   "cell_type": "code",
   "execution_count": 24,
   "metadata": {},
   "outputs": [
    {
     "data": {
      "image/png": "[encoded data removed]",
      "text/plain": [
       "<Figure size 432x288 with 1 Axes>"
      ]
     },
     "metadata": {
      "needs_background": "light"
     },
     "output_type": "display_data"
    }
   ],
   "source": [
    "suspensions_and_growth=student_growth[\"Suspensions_Per_100_Students_Year_1_Pct\"].mean()\n",
    "suspensions_and_growth=pd.DataFrame(suspensions_and_growth)\n",
    "\n",
    "suspensions_and_growth.plot(kind=\"bar\", legend=None, alpha=0.75)\n",
    "plt.xlabel(\"Growth Rating\")\n",
    "plt.ylabel(\"Suspensions per 100 Students\")\n",
    "plt.title(\"Suspensions by Student Growth Rating\")\n",
    "plt.yticks(np.arange(0, 100, step=5))\n",
    "# plt.grid(axis=\"y\")\n",
    "positions = (0, 1, 2, 3, 4)\n",
    "labels = (\"Above Avg\", \"Average\", \"Below Avg\", \"Far Above Avg\", \"Far Below Avg\")\n",
    "plt.xticks(positions, labels, rotation=45)\n",
    "plt.ylim(0,20);\n",
    "\n",
    "# save figs"
   ]
  },
  {
   "cell_type": "code",
   "execution_count": 25,
   "metadata": {},
   "outputs": [
    {
     "data": {
      "image/png": "[encoded data removed]",
      "text/plain": [
       "<Figure size 432x288 with 1 Axes>"
      ]
     },
     "metadata": {
      "needs_background": "light"
     },
     "output_type": "display_data"
    }
   ],
   "source": [
    "attain_no_data = df_indexed[df_indexed[\"Student_Attainment_Rating\"]!= \"NO DATA AVAILABLE\"]\n",
    "student_attain=attain_no_data.groupby([\"Student_Attainment_Rating\"])\n",
    "attendance_and_attain=student_attain[\"Student_Attendance_Year_1_Pct\"].mean()\n",
    "attendance_and_attain=pd.DataFrame(attendance_and_attain)\n",
    "\n",
    "attendance_and_attain.plot(kind=\"bar\", legend=None, alpha=0.75)\n",
    "plt.xlabel(\"Attainment Rating\")\n",
    "plt.ylabel(\"Student Attendance %\")\n",
    "plt.title(\"Student Attendance by Student Attainment Rating\")\n",
    "plt.yticks(np.arange(0, 100, step=5))\n",
    "# plt.grid(axis=\"y\")\n",
    "positions = (0, 1, 2, 3, 4, 5, 6, 7, 8, 9)\n",
    "labels = (\"Above Avg\", \"Above Expecations\", \"Average\", \"Below Avg\", \"Below Expectations\",\n",
    "          \"Far Above Avg\", \"Far Above Expectations\", \"Far Below Avg\", \"Far Below Expectations\", \n",
    "          \"Met Expecations\")\n",
    "plt.xticks(positions, labels, rotation=45, ha=\"right\")\n",
    "plt.ylim(50,97);"
   ]
  },
  {
   "cell_type": "code",
   "execution_count": 26,
   "metadata": {},
   "outputs": [
    {
     "data": {
      "image/png": "[encoded data removed]",
      "text/plain": [
       "<Figure size 432x288 with 1 Axes>"
      ]
     },
     "metadata": {
      "needs_background": "light"
     },
     "output_type": "display_data"
    }
   ],
   "source": [
    "teacher_and_attain=student_attain[\"Teacher_Attendance_Year_1_Pct\"].mean()\n",
    "teacher_and_attain=pd.DataFrame(teacher_and_attain)\n",
    "\n",
    "teacher_and_attain.plot(kind=\"bar\", legend=None, alpha=0.75)\n",
    "plt.xlabel(\"Attainment Rating\")\n",
    "plt.ylabel(\"Teacher Attendance %\")\n",
    "plt.title(\"Teacher Attendance by Student Attainment Rating\")\n",
    "plt.yticks(np.arange(0, 100, step=5))\n",
    "# plt.grid(axis=\"y\")\n",
    "positions = (0, 1, 2, 3, 4, 5, 6, 7, 8, 9)\n",
    "labels = (\"Above Avg\", \"Above Expecations\", \"Average\", \"Below Avg\", \"Below Expectations\",\n",
    "          \"Far Above Avg\", \"Far Above Expectations\", \"Far Below Avg\", \"Far Below Expectations\", \n",
    "          \"Met Expecations\")\n",
    "plt.xticks(positions, labels, rotation=45, ha=\"right\")\n",
    "plt.ylim(50,97);"
   ]
  },
  {
   "cell_type": "code",
   "execution_count": 27,
   "metadata": {},
   "outputs": [
    {
     "data": {
      "image/png": "[encoded data removed]",
      "text/plain": [
       "<Figure size 432x288 with 1 Axes>"
      ]
     },
     "metadata": {
      "needs_background": "light"
     },
     "output_type": "display_data"
    }
   ],
   "source": [
    "suspensions_and_attain=student_attain[\"Suspensions_Per_100_Students_Year_1_Pct\"].mean()\n",
    "suspensions_and_attain=pd.DataFrame(suspensions_and_attain)\n",
    "\n",
    "suspensions_and_attain.plot(kind=\"bar\", legend=None, alpha=0.75)\n",
    "plt.xlabel(\"Student Attainment Rating\")\n",
    "plt.ylabel(\"Suspensions per 100 Students\")\n",
    "plt.title(\"Suspensions by Student Growth Rating\")\n",
    "plt.yticks(np.arange(0, 100, step=5))\n",
    "# plt.grid(axis=\"y\")\n",
    "positions = (0, 1, 2, 3, 4, 5, 6, 7, 8, 9)\n",
    "labels = (\"Above Avg\", \"Above Expecations\", \"Average\", \"Below Avg\", \"Below Expectations\",\n",
    "          \"Far Above Avg\", \"Far Above Expectations\", \"Far Below Avg\", \"Far Below Expectations\", \n",
    "          \"Met Expecations\")\n",
    "plt.xticks(positions, labels, rotation=45, ha=\"right\")\n",
    "plt.ylim(0,35);"
   ]
  },
  {
   "cell_type": "code",
   "execution_count": 78,
   "metadata": {},
   "outputs": [
    {
     "data": {
      "text/html": [
       "<div>\n",
       "<style scoped>\n",
       "    .dataframe tbody tr th:only-of-type {\n",
       "        vertical-align: middle;\n",
       "    }\n",
       "\n",
       "    .dataframe tbody tr th {\n",
       "        vertical-align: top;\n",
       "    }\n",
       "\n",
       "    .dataframe thead th {\n",
       "        text-align: right;\n",
       "    }\n",
       "</style>\n",
       "<table border=\"1\" class=\"dataframe\">\n",
       "  <thead>\n",
       "    <tr style=\"text-align: right;\">\n",
       "      <th></th>\n",
       "      <th>School_ID</th>\n",
       "      <th>Long_Name</th>\n",
       "      <th>Primary_Category</th>\n",
       "      <th>School_Type</th>\n",
       "      <th>Student_Attendance_Year_1_Pct</th>\n",
       "      <th>Suspensions_Per_100_Students_Year_1_Pct</th>\n",
       "      <th>Teacher_Attendance_Year_1_Pct</th>\n",
       "      <th>Student_Growth_Rating</th>\n",
       "      <th>Student_Attainment_Rating</th>\n",
       "    </tr>\n",
       "    <tr>\n",
       "      <th>School_Type</th>\n",
       "      <th></th>\n",
       "      <th></th>\n",
       "      <th></th>\n",
       "      <th></th>\n",
       "      <th></th>\n",
       "      <th></th>\n",
       "      <th></th>\n",
       "      <th></th>\n",
       "      <th></th>\n",
       "    </tr>\n",
       "  </thead>\n",
       "  <tbody>\n",
       "    <tr>\n",
       "      <th>Career academy</th>\n",
       "      <td>4</td>\n",
       "      <td>4</td>\n",
       "      <td>1</td>\n",
       "      <td>1</td>\n",
       "      <td>4</td>\n",
       "      <td>4</td>\n",
       "      <td>4</td>\n",
       "      <td>2</td>\n",
       "      <td>2</td>\n",
       "    </tr>\n",
       "    <tr>\n",
       "      <th>Citywide-Option</th>\n",
       "      <td>4</td>\n",
       "      <td>4</td>\n",
       "      <td>1</td>\n",
       "      <td>1</td>\n",
       "      <td>4</td>\n",
       "      <td>4</td>\n",
       "      <td>4</td>\n",
       "      <td>2</td>\n",
       "      <td>2</td>\n",
       "    </tr>\n",
       "    <tr>\n",
       "      <th>Classical</th>\n",
       "      <td>5</td>\n",
       "      <td>5</td>\n",
       "      <td>1</td>\n",
       "      <td>1</td>\n",
       "      <td>5</td>\n",
       "      <td>3</td>\n",
       "      <td>5</td>\n",
       "      <td>3</td>\n",
       "      <td>1</td>\n",
       "    </tr>\n",
       "    <tr>\n",
       "      <th>Magnet</th>\n",
       "      <td>41</td>\n",
       "      <td>41</td>\n",
       "      <td>2</td>\n",
       "      <td>1</td>\n",
       "      <td>24</td>\n",
       "      <td>32</td>\n",
       "      <td>24</td>\n",
       "      <td>4</td>\n",
       "      <td>8</td>\n",
       "    </tr>\n",
       "    <tr>\n",
       "      <th>Military academy</th>\n",
       "      <td>6</td>\n",
       "      <td>6</td>\n",
       "      <td>1</td>\n",
       "      <td>1</td>\n",
       "      <td>6</td>\n",
       "      <td>6</td>\n",
       "      <td>6</td>\n",
       "      <td>1</td>\n",
       "      <td>2</td>\n",
       "    </tr>\n",
       "    <tr>\n",
       "      <th>Neighborhood</th>\n",
       "      <td>394</td>\n",
       "      <td>394</td>\n",
       "      <td>3</td>\n",
       "      <td>1</td>\n",
       "      <td>94</td>\n",
       "      <td>139</td>\n",
       "      <td>58</td>\n",
       "      <td>6</td>\n",
       "      <td>9</td>\n",
       "    </tr>\n",
       "    <tr>\n",
       "      <th>Regional gifted center</th>\n",
       "      <td>10</td>\n",
       "      <td>10</td>\n",
       "      <td>1</td>\n",
       "      <td>1</td>\n",
       "      <td>8</td>\n",
       "      <td>9</td>\n",
       "      <td>9</td>\n",
       "      <td>3</td>\n",
       "      <td>3</td>\n",
       "    </tr>\n",
       "    <tr>\n",
       "      <th>Selective enrollment</th>\n",
       "      <td>11</td>\n",
       "      <td>11</td>\n",
       "      <td>1</td>\n",
       "      <td>1</td>\n",
       "      <td>11</td>\n",
       "      <td>10</td>\n",
       "      <td>11</td>\n",
       "      <td>2</td>\n",
       "      <td>3</td>\n",
       "    </tr>\n",
       "    <tr>\n",
       "      <th>Small</th>\n",
       "      <td>24</td>\n",
       "      <td>24</td>\n",
       "      <td>2</td>\n",
       "      <td>1</td>\n",
       "      <td>23</td>\n",
       "      <td>22</td>\n",
       "      <td>16</td>\n",
       "      <td>4</td>\n",
       "      <td>5</td>\n",
       "    </tr>\n",
       "    <tr>\n",
       "      <th>Special Education</th>\n",
       "      <td>4</td>\n",
       "      <td>4</td>\n",
       "      <td>1</td>\n",
       "      <td>1</td>\n",
       "      <td>4</td>\n",
       "      <td>4</td>\n",
       "      <td>4</td>\n",
       "      <td>1</td>\n",
       "      <td>1</td>\n",
       "    </tr>\n",
       "  </tbody>\n",
       "</table>\n",
       "</div>"
      ],
      "text/plain": [
       "                        School_ID  Long_Name  Primary_Category  School_Type  \\\n",
       "School_Type                                                                   \n",
       "Career academy                  4          4                 1            1   \n",
       "Citywide-Option                 4          4                 1            1   \n",
       "Classical                       5          5                 1            1   \n",
       "Magnet                         41         41                 2            1   \n",
       "Military academy                6          6                 1            1   \n",
       "Neighborhood                  394        394                 3            1   \n",
       "Regional gifted center         10         10                 1            1   \n",
       "Selective enrollment           11         11                 1            1   \n",
       "Small                          24         24                 2            1   \n",
       "Special Education               4          4                 1            1   \n",
       "\n",
       "                        Student_Attendance_Year_1_Pct  \\\n",
       "School_Type                                             \n",
       "Career academy                                      4   \n",
       "Citywide-Option                                     4   \n",
       "Classical                                           5   \n",
       "Magnet                                             24   \n",
       "Military academy                                    6   \n",
       "Neighborhood                                       94   \n",
       "Regional gifted center                              8   \n",
       "Selective enrollment                               11   \n",
       "Small                                              23   \n",
       "Special Education                                   4   \n",
       "\n",
       "                        Suspensions_Per_100_Students_Year_1_Pct  \\\n",
       "School_Type                                                       \n",
       "Career academy                                                4   \n",
       "Citywide-Option                                               4   \n",
       "Classical                                                     3   \n",
       "Magnet                                                       32   \n",
       "Military academy                                              6   \n",
       "Neighborhood                                                139   \n",
       "Regional gifted center                                        9   \n",
       "Selective enrollment                                         10   \n",
       "Small                                                        22   \n",
       "Special Education                                             4   \n",
       "\n",
       "                        Teacher_Attendance_Year_1_Pct  Student_Growth_Rating  \\\n",
       "School_Type                                                                    \n",
       "Career academy                                      4                      2   \n",
       "Citywide-Option                                     4                      2   \n",
       "Classical                                           5                      3   \n",
       "Magnet                                             24                      4   \n",
       "Military academy                                    6                      1   \n",
       "Neighborhood                                       58                      6   \n",
       "Regional gifted center                              9                      3   \n",
       "Selective enrollment                               11                      2   \n",
       "Small                                              16                      4   \n",
       "Special Education                                   4                      1   \n",
       "\n",
       "                        Student_Attainment_Rating  \n",
       "School_Type                                        \n",
       "Career academy                                  2  \n",
       "Citywide-Option                                 2  \n",
       "Classical                                       1  \n",
       "Magnet                                          8  \n",
       "Military academy                                2  \n",
       "Neighborhood                                    9  \n",
       "Regional gifted center                          3  \n",
       "Selective enrollment                            3  \n",
       "Small                                           5  \n",
       "Special Education                               1  "
      ]
     },
     "execution_count": 78,
     "metadata": {},
     "output_type": "execute_result"
    }
   ],
   "source": [
    "school_type=df_indexed.groupby([\"School_Type\"])\n",
    "school_type.nunique()"
   ]
  },
  {
   "cell_type": "code",
   "execution_count": 18,
   "metadata": {},
   "outputs": [
    {
     "name": "stdout",
     "output_type": "stream",
     "text": [
      "(-0.612647886258247, 3.735609366453981e-53)\n"
     ]
    },
    {
     "data": {
      "image/png": "[encoded data removed]",
      "text/plain": [
       "<Figure size 432x288 with 1 Axes>"
      ]
     },
     "metadata": {
      "needs_background": "light"
     },
     "output_type": "display_data"
    }
   ],
   "source": [
    "#regression suspensions on attendance\n",
    "x_values = df_indexed[\"Suspensions_Per_100_Students_Year_1_Pct\"]\n",
    "y_values = df_indexed[\"Student_Attendance_Year_1_Pct\"]\n",
    "correlation=st.pearsonr(x_values, y_values)\n",
    "print(correlation)\n",
    "(slope, intercept, rvalue, pvalue, stdder)=st.linregress(x_values, y_values)\n",
    "regress_values=x_values * slope + intercept\n",
    "plt.xlabel(\"Suspensions Per 100 Students\")\n",
    "plt.ylabel(\"Attendance\")\n",
    "plt.title(\"Suspension vs Attedance\")\n",
    "line_eq = \"y = \" +str(round(slope,2)) + \"x + \" + str(round(intercept, 2))\n",
    "plt.scatter(x_values, y_values, facecolors=\"lime\", edgecolors=\"black\")\n",
    "plt.plot(x_values, regress_values, \"r-\")\n",
    "plt.annotate(line_eq,(40,70),fontsize=15,color=\"red\");"
   ]
  },
  {
   "cell_type": "code",
   "execution_count": 19,
   "metadata": {},
   "outputs": [
    {
     "name": "stdout",
     "output_type": "stream",
     "text": [
      "(0.27271329952923945, 4.991378912404725e-10)\n"
     ]
    },
    {
     "data": {
      "image/png": "[encoded data removed]",
      "text/plain": [
       "<Figure size 432x288 with 1 Axes>"
      ]
     },
     "metadata": {
      "needs_background": "light"
     },
     "output_type": "display_data"
    }
   ],
   "source": [
    "#regression teacher attendance on student attendance\n",
    "x_values = df_indexed[\"Teacher_Attendance_Year_1_Pct\"]\n",
    "y_values = df_indexed[\"Student_Attendance_Year_1_Pct\"]\n",
    "correlation=st.pearsonr(x_values, y_values)\n",
    "print(correlation)\n",
    "(slope, intercept, rvalue, pvalue, stdder)=st.linregress(x_values, y_values)\n",
    "regress_values=x_values * slope + intercept\n",
    "plt.annotate(line_eq,(90,85),fontsize=15,color=\"red\")\n",
    "plt.xlabel(\"Teacher Attendance\")\n",
    "plt.ylabel(\"Student Attendance\")\n",
    "plt.title(\"Teacher Attendance vs Student Attendance\")\n",
    "line_eq = \"y = \" +str(round(slope,2)) + \"x + \" + str(round(intercept, 2))\n",
    "plt.scatter(x_values, y_values, facecolors=\"lime\", edgecolors=\"black\")\n",
    "plt.plot(x_values, regress_values, \"r-\");"
   ]
  },
  {
   "cell_type": "code",
   "execution_count": 13,
   "metadata": {},
   "outputs": [
    {
     "data": {
      "text/plain": [
       "F_onewayResult(statistic=229.12628201761012, pvalue=2.3577816706673005e-71)"
      ]
     },
     "execution_count": 13,
     "metadata": {},
     "output_type": "execute_result"
    }
   ],
   "source": [
    "#ANOVAs\n",
    "#Attendance Rate School Category\n",
    "group1=df_indexed[df_indexed[\"Primary_Category\"]==\"ES\"][\"Student_Attendance_Year_1_Pct\"]\n",
    "group2=df_indexed[df_indexed[\"Primary_Category\"]==\"MS\"][\"Student_Attendance_Year_1_Pct\"]\n",
    "group3=df_indexed[df_indexed[\"Primary_Category\"]==\"HS\"][\"Student_Attendance_Year_1_Pct\"]\n",
    "attendance_category_stats=st.f_oneway(group1, group2, group3)\n",
    "attendance_category_stats"
   ]
  },
  {
   "cell_type": "code",
   "execution_count": 14,
   "metadata": {},
   "outputs": [
    {
     "data": {
      "text/plain": [
       "F_onewayResult(statistic=72.38934858760075, pvalue=2.4537538058214305e-28)"
      ]
     },
     "execution_count": 14,
     "metadata": {},
     "output_type": "execute_result"
    }
   ],
   "source": [
    "#Suspension Rate School Category\n",
    "group1=df_indexed[df_indexed[\"Primary_Category\"]==\"ES\"][\"Suspensions_Per_100_Students_Year_1_Pct\"]\n",
    "group2=df_indexed[df_indexed[\"Primary_Category\"]==\"MS\"][\"Suspensions_Per_100_Students_Year_1_Pct\"]\n",
    "group3=df_indexed[df_indexed[\"Primary_Category\"]==\"HS\"][\"Suspensions_Per_100_Students_Year_1_Pct\"]\n",
    "suspension_category_stats=st.f_oneway(group1, group2, group3)\n",
    "suspension_category_stats"
   ]
  },
  {
   "cell_type": "code",
   "execution_count": 15,
   "metadata": {},
   "outputs": [
    {
     "data": {
      "text/plain": [
       "F_onewayResult(statistic=4.234289036747101, pvalue=0.015013125189675201)"
      ]
     },
     "execution_count": 15,
     "metadata": {},
     "output_type": "execute_result"
    }
   ],
   "source": [
    "#Teacher Attendance School Category\n",
    "group1=df_indexed[df_indexed[\"Primary_Category\"]==\"ES\"][\"Teacher_Attendance_Year_1_Pct\"]\n",
    "group2=df_indexed[df_indexed[\"Primary_Category\"]==\"MS\"][\"Teacher_Attendance_Year_1_Pct\"]\n",
    "group3=df_indexed[df_indexed[\"Primary_Category\"]==\"HS\"][\"Teacher_Attendance_Year_1_Pct\"]\n",
    "teacher_attendance_category_stats=st.f_oneway(group1, group2, group3)\n",
    "teacher_attendance_category_stats"
   ]
  },
  {
   "cell_type": "code",
   "execution_count": 17,
   "metadata": {},
   "outputs": [
    {
     "data": {
      "text/plain": [
       "F_onewayResult(statistic=24.37783326650844, pvalue=2.0361728057135686e-18)"
      ]
     },
     "execution_count": 17,
     "metadata": {},
     "output_type": "execute_result"
    }
   ],
   "source": [
    "#Student Growth By Student Attendance\n",
    "group1=df_indexed[df_indexed[\"Student_Growth_Rating\"]==\"FAR BELOW AVERAGE\"][\"Student_Attendance_Year_1_Pct\"]\n",
    "group2=df_indexed[df_indexed[\"Student_Growth_Rating\"]==\"BELOW AVERAGE\"][\"Student_Attendance_Year_1_Pct\"]\n",
    "group3=df_indexed[df_indexed[\"Student_Growth_Rating\"]==\"AVERAGE\"][\"Student_Attendance_Year_1_Pct\"]\n",
    "group4=df_indexed[df_indexed[\"Student_Growth_Rating\"]==\"ABOVE AVERAGE\"][\"Student_Attendance_Year_1_Pct\"]\n",
    "group5=df_indexed[df_indexed[\"Student_Growth_Rating\"]==\"FAR ABOVE AVERAGE\"][\"Student_Attendance_Year_1_Pct\"]\n",
    "attendance_growth_stats=st.f_oneway(group1, group2, group3, group4, group5)\n",
    "attendance_growth_stats\n"
   ]
  },
  {
   "cell_type": "code",
   "execution_count": 18,
   "metadata": {},
   "outputs": [
    {
     "data": {
      "text/plain": [
       "F_onewayResult(statistic=20.562509648855382, pvalue=1.1178629814903243e-15)"
      ]
     },
     "execution_count": 18,
     "metadata": {},
     "output_type": "execute_result"
    }
   ],
   "source": [
    "#Student Growth by Student Attendance\n",
    "group1=df_indexed[df_indexed[\"Student_Growth_Rating\"]==\"FAR BELOW AVERAGE\"][\"Suspensions_Per_100_Students_Year_1_Pct\"]\n",
    "group2=df_indexed[df_indexed[\"Student_Growth_Rating\"]==\"BELOW AVERAGE\"][\"Suspensions_Per_100_Students_Year_1_Pct\"]\n",
    "group3=df_indexed[df_indexed[\"Student_Growth_Rating\"]==\"AVERAGE\"][\"Suspensions_Per_100_Students_Year_1_Pct\"]\n",
    "group4=df_indexed[df_indexed[\"Student_Growth_Rating\"]==\"ABOVE AVERAGE\"][\"Suspensions_Per_100_Students_Year_1_Pct\"]\n",
    "group5=df_indexed[df_indexed[\"Student_Growth_Rating\"]==\"FAR ABOVE AVERAGE\"][\"Suspensions_Per_100_Students_Year_1_Pct\"]\n",
    "suspension_growth_stats=st.f_oneway(group1, group2, group3, group4, group5)\n",
    "suspension_growth_stats\n"
   ]
  },
  {
   "cell_type": "code",
   "execution_count": 20,
   "metadata": {},
   "outputs": [
    {
     "data": {
      "text/plain": [
       "F_onewayResult(statistic=5.1110310477464855, pvalue=0.00048379417104927176)"
      ]
     },
     "execution_count": 20,
     "metadata": {},
     "output_type": "execute_result"
    }
   ],
   "source": [
    "#Student Growth By Teacher Attendance\n",
    "group1=df_indexed[df_indexed[\"Student_Growth_Rating\"]==\"FAR BELOW AVERAGE\"][\"Teacher_Attendance_Year_1_Pct\"]\n",
    "group2=df_indexed[df_indexed[\"Student_Growth_Rating\"]==\"BELOW AVERAGE\"][\"Teacher_Attendance_Year_1_Pct\"]\n",
    "group3=df_indexed[df_indexed[\"Student_Growth_Rating\"]==\"AVERAGE\"][\"Teacher_Attendance_Year_1_Pct\"]\n",
    "group4=df_indexed[df_indexed[\"Student_Growth_Rating\"]==\"ABOVE AVERAGE\"][\"Teacher_Attendance_Year_1_Pct\"]\n",
    "group5=df_indexed[df_indexed[\"Student_Growth_Rating\"]==\"FAR ABOVE AVERAGE\"][\"Teacher_Attendance_Year_1_Pct\"]\n",
    "teacher_attendance_growth_stats=st.f_oneway(group1, group2, group3, group4, group5)\n",
    "teacher_attendance_growth_stats"
   ]
  },
  {
   "cell_type": "code",
   "execution_count": 21,
   "metadata": {},
   "outputs": [
    {
     "data": {
      "text/plain": [
       "F_onewayResult(statistic=100.17223796737078, pvalue=4.773076932492436e-105)"
      ]
     },
     "execution_count": 21,
     "metadata": {},
     "output_type": "execute_result"
    }
   ],
   "source": [
    "\n",
    "\n",
    "#Student Attainment By Student Attendance\n",
    "group1=df_indexed[df_indexed[\"Student_Attainment_Rating\"]==\"ABOVE AVERAGE\"][\"Student_Attendance_Year_1_Pct\"]\n",
    "group2=df_indexed[df_indexed[\"Student_Attainment_Rating\"]==\"ABOVE EXPECTATIONS\"][\"Student_Attendance_Year_1_Pct\"]\n",
    "group3=df_indexed[df_indexed[\"Student_Attainment_Rating\"]==\"AVERAGE\"][\"Student_Attendance_Year_1_Pct\"]\n",
    "group4=df_indexed[df_indexed[\"Student_Attainment_Rating\"]==\"BELOW AVERAGE\"][\"Student_Attendance_Year_1_Pct\"]\n",
    "group5=df_indexed[df_indexed[\"Student_Attainment_Rating\"]==\"BELOW EXPECTATIONS\"][\"Student_Attendance_Year_1_Pct\"]\n",
    "group6=df_indexed[df_indexed[\"Student_Attainment_Rating\"]==\"FAR ABOVE AVERAGE\"][\"Student_Attendance_Year_1_Pct\"]\n",
    "group7=df_indexed[df_indexed[\"Student_Attainment_Rating\"]==\"FAR ABOVE EXPECTATIONS\"][\"Student_Attendance_Year_1_Pct\"]\n",
    "group8=df_indexed[df_indexed[\"Student_Attainment_Rating\"]==\"FAR BELOW AVERAGE\"][\"Student_Attendance_Year_1_Pct\"]\n",
    "group9=df_indexed[df_indexed[\"Student_Attainment_Rating\"]==\"FAR BELOW EXPECTATIONS\"][\"Student_Attendance_Year_1_Pct\"]\n",
    "group10=df_indexed[df_indexed[\"Student_Attainment_Rating\"]==\"MET EXPECTATIONS\"][\"Student_Attendance_Year_1_Pct\"]\n",
    "attendance_attainment_stats=st.f_oneway(group1, group2, group3, group4, group5, group6, group7, group8, group9, group10)\n",
    "attendance_attainment_stats"
   ]
  },
  {
   "cell_type": "code",
   "execution_count": 25,
   "metadata": {},
   "outputs": [
    {
     "data": {
      "text/plain": [
       "F_onewayResult(statistic=52.457836606062855, pvalue=3.0197455953461535e-66)"
      ]
     },
     "execution_count": 25,
     "metadata": {},
     "output_type": "execute_result"
    }
   ],
   "source": [
    "#Student Attainment By Suspension Rate\n",
    "group1=df_indexed[df_indexed[\"Student_Attainment_Rating\"]==\"ABOVE AVERAGE\"][\"Suspensions_Per_100_Students_Year_1_Pct\"]\n",
    "group2=df_indexed[df_indexed[\"Student_Attainment_Rating\"]==\"ABOVE EXPECTATIONS\"][\"Suspensions_Per_100_Students_Year_1_Pct\"]\n",
    "group3=df_indexed[df_indexed[\"Student_Attainment_Rating\"]==\"AVERAGE\"][\"Suspensions_Per_100_Students_Year_1_Pct\"]\n",
    "group4=df_indexed[df_indexed[\"Student_Attainment_Rating\"]==\"BELOW AVERAGE\"][\"Suspensions_Per_100_Students_Year_1_Pct\"]\n",
    "group5=df_indexed[df_indexed[\"Student_Attainment_Rating\"]==\"BELOW EXPECTATIONS\"][\"Suspensions_Per_100_Students_Year_1_Pct\"]\n",
    "group6=df_indexed[df_indexed[\"Student_Attainment_Rating\"]==\"FAR ABOVE AVERAGE\"][\"Suspensions_Per_100_Students_Year_1_Pct\"]\n",
    "group7=df_indexed[df_indexed[\"Student_Attainment_Rating\"]==\"FAR ABOVE EXPECTATIONS\"][\"Suspensions_Per_100_Students_Year_1_Pct\"]\n",
    "group8=df_indexed[df_indexed[\"Student_Attainment_Rating\"]==\"FAR BELOW AVERAGE\"][\"Suspensions_Per_100_Students_Year_1_Pct\"]\n",
    "group9=df_indexed[df_indexed[\"Student_Attainment_Rating\"]==\"FAR BELOW EXPECTATIONS\"][\"Suspensions_Per_100_Students_Year_1_Pct\"]\n",
    "group10=df_indexed[df_indexed[\"Student_Attainment_Rating\"]==\"MET EXPECTATIONS\"][\"Suspensions_Per_100_Students_Year_1_Pct\"]\n",
    "suspension_attainment_stats=st.f_oneway(group1, group2, group3, group4, group5, group6, group7, group8, group9, group10)\n",
    "suspension_attainment_stats"
   ]
  },
  {
   "cell_type": "code",
   "execution_count": 26,
   "metadata": {},
   "outputs": [
    {
     "data": {
      "text/plain": [
       "F_onewayResult(statistic=6.401362668686819, pvalue=1.3014055906692293e-08)"
      ]
     },
     "execution_count": 26,
     "metadata": {},
     "output_type": "execute_result"
    }
   ],
   "source": [
    "#Student Attainment By Teacher Attendance\n",
    "group1=df_indexed[df_indexed[\"Student_Attainment_Rating\"]==\"ABOVE AVERAGE\"][\"Teacher_Attendance_Year_1_Pct\"]\n",
    "group2=df_indexed[df_indexed[\"Student_Attainment_Rating\"]==\"ABOVE EXPECTATIONS\"][\"Teacher_Attendance_Year_1_Pct\"]\n",
    "group3=df_indexed[df_indexed[\"Student_Attainment_Rating\"]==\"AVERAGE\"][\"Teacher_Attendance_Year_1_Pct\"]\n",
    "group4=df_indexed[df_indexed[\"Student_Attainment_Rating\"]==\"BELOW AVERAGE\"][\"Teacher_Attendance_Year_1_Pct\"]\n",
    "group5=df_indexed[df_indexed[\"Student_Attainment_Rating\"]==\"BELOW EXPECTATIONS\"][\"Teacher_Attendance_Year_1_Pct\"]\n",
    "group6=df_indexed[df_indexed[\"Student_Attainment_Rating\"]==\"FAR ABOVE AVERAGE\"][\"Teacher_Attendance_Year_1_Pct\"]\n",
    "group7=df_indexed[df_indexed[\"Student_Attainment_Rating\"]==\"FAR ABOVE EXPECTATIONS\"][\"Teacher_Attendance_Year_1_Pct\"]\n",
    "group8=df_indexed[df_indexed[\"Student_Attainment_Rating\"]==\"FAR BELOW AVERAGE\"][\"Teacher_Attendance_Year_1_Pct\"]\n",
    "group9=df_indexed[df_indexed[\"Student_Attainment_Rating\"]==\"FAR BELOW EXPECTATIONS\"][\"Teacher_Attendance_Year_1_Pct\"]\n",
    "group10=df_indexed[df_indexed[\"Student_Attainment_Rating\"]==\"MET EXPECTATIONS\"][\"Teacher_Attendance_Year_1_Pct\"]\n",
    "attendance_attainment_stats=st.f_oneway(group1, group2, group3, group4, group5, group6, group7, group8, group9, group10)\n",
    "attendance_attainment_stats"
   ]
  },
  {
   "cell_type": "code",
   "execution_count": null,
   "metadata": {},
   "outputs": [],
   "source": []
  }
 ],
 "metadata": {
  "kernelspec": {
   "display_name": "Python 3",
   "language": "python",
   "name": "python3"
  },
  "language_info": {
   "codemirror_mode": {
    "name": "ipython",
    "version": 3
   },
   "file_extension": ".py",
   "mimetype": "text/x-python",
   "name": "python",
   "nbconvert_exporter": "python",
   "pygments_lexer": "ipython3",
   "version": "3.7.6"
  }
 },
 "nbformat": 4,
 "nbformat_minor": 4
}
