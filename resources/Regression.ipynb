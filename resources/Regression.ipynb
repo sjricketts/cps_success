{
 "cells": [
  {
   "cell_type": "code",
   "execution_count": null,
   "metadata": {},
   "outputs": [],
   "source": [
    "#regression suspensions on attendance\n",
    "x_values = df_indexed[\"Suspensions_Per_100_Students_Year_1_Pct\"]\n",
    "y_values = df_indexed[\"Student_Attendance_Year_1_Pct\"]\n",
    "correlation=st.pearsonr(x_values, y_values)\n",
    "print(correlation)\n",
    "(slope, intercept, rvalue, pvalue, stdder)=st.linregress(x_values, y_values)\n",
    "regress_values=x_values * slope + intercept\n",
    "plt.xlabel(\"Suspensions Per 100 Students\")\n",
    "plt.ylabel(\"Attendance\")\n",
    "plt.title(\"Suspension vs Attedance\")\n",
    "line_eq = \"y = \" +str(round(slope,2)) + \"x + \" + str(round(intercept, 2))\n",
    "plt.scatter(x_values, y_values, facecolors=\"lime\", edgecolors=\"black\")\n",
    "plt.plot(x_values, regress_values, \"r-\")\n",
    "plt.annotate(line_eq,(6,10),fontsize=15,color=\"red\")"
   ]
  },
  {
   "cell_type": "code",
   "execution_count": null,
   "metadata": {},
   "outputs": [],
   "source": [
    "#regression teacher attendance on student attendance\n",
    "x_values = df_indexed[\"Teacher_Attendance_Year_1_Pct\"]\n",
    "y_values = df_indexed[\"Student_Attendance_Year_1_Pct\"]\n",
    "correlation=st.pearsonr(x_values, y_values)\n",
    "print(correlation)\n",
    "(slope, intercept, rvalue, pvalue, stdder)=st.linregress(x_values, y_values)\n",
    "regress_values=x_values * slope + intercept\n",
    "#plt.annotate(line_eq,(6,10),fontsize=15,color=\"red\")\n",
    "plt.xlabel(\"Teacher Attendance\")\n",
    "plt.ylabel(\"Student Attendance\")\n",
    "plt.title(\"Teacher Attendance vs Student Attendance\")\n",
    "line_eq = \"y = \" +str(round(slope,2)) + \"x + \" + str(round(intercept, 2))\n",
    "plt.scatter(x_values, y_values, facecolors=\"lime\", edgecolors=\"black\")\n",
    "plt.plot(x_values, regress_values, \"r-\")"
   ]
  },
  {
   "cell_type": "code",
   "execution_count": null,
   "metadata": {},
   "outputs": [],
   "source": [
    "#ANOVAs\n",
    "#Attendance Rate School Category\n",
    "group1=df_indexed[df_indexed[\"Primary_Category\"]==\"ES\"][\"Student_Attendance_Year_1_Pct\"]\n",
    "group2=df_indexed[df_indexed[\"Primary_Category\"]==\"MS\"][\"Student_Attendance_Year_1_Pct\"]\n",
    "group3=df_indexed[df_indexed[\"Primary_Category\"]==\"HS\"][\"Student_Attendance_Year_1_Pct\"]\n",
    "attendance_category_stats=st.f_oneway(group1, group2, group3)\n",
    "attendance_category_stats"
   ]
  },
  {
   "cell_type": "code",
   "execution_count": null,
   "metadata": {},
   "outputs": [],
   "source": [
    "#Suspension Rate School Category\n",
    "group1=df_indexed[df_indexed[\"Primary_Category\"]==\"ES\"][\"Suspensions_Per_100_Students_Year_1_Pct\"]\n",
    "group2=df_indexed[df_indexed[\"Primary_Category\"]==\"MS\"][\"Suspensions_Per_100_Students_Year_1_Pct\"]\n",
    "group3=df_indexed[df_indexed[\"Primary_Category\"]==\"HS\"][\"Suspensions_Per_100_Students_Year_1_Pct\"]\n",
    "suspension_category_stats=st.f_oneway(group1, group2, group3)\n",
    "suspension_category_stats"
   ]
  },
  {
   "cell_type": "code",
   "execution_count": null,
   "metadata": {},
   "outputs": [],
   "source": [
    "#Teacher Attendance School Category\n",
    "group1=df_indexed[df_indexed[\"Primary_Category\"]==\"ES\"][\"Teacher_Attendance_Year_1_Pct\"]\n",
    "group2=df_indexed[df_indexed[\"Primary_Category\"]==\"MS\"][\"Teacher_Attendance_Year_1_Pct\"]\n",
    "group3=df_indexed[df_indexed[\"Primary_Category\"]==\"HS\"][\"Teacher_Attendance_Year_1_Pct\"]\n",
    "teacher_attendance_category_stats=st.f_oneway(group1, group2, group3)\n",
    "teacher_attendance_category_stats"
   ]
  }
 ],
 "metadata": {
  "kernelspec": {
   "display_name": "Python 3",
   "language": "python",
   "name": "python3"
  },
  "language_info": {
   "codemirror_mode": {
    "name": "ipython",
    "version": 3
   },
   "file_extension": ".py",
   "mimetype": "text/x-python",
   "name": "python",
   "nbconvert_exporter": "python",
   "pygments_lexer": "ipython3",
   "version": "3.7.6"
  }
 },
 "nbformat": 4,
 "nbformat_minor": 4
}
